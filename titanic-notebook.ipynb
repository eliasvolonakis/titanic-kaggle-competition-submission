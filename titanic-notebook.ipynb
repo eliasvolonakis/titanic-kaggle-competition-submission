{
 "cells": [
  {
   "cell_type": "markdown",
   "id": "3678b066",
   "metadata": {
    "papermill": {
     "duration": 0.012974,
     "end_time": "2022-11-15T02:39:02.302575",
     "exception": false,
     "start_time": "2022-11-15T02:39:02.289601",
     "status": "completed"
    },
    "tags": []
   },
   "source": [
    "**Overview of Notebook:**\n",
    "1. All required imports and data collection\n",
    "2. Exploratory Data Analysis (EDA)\n",
    "3. Feature Engineering\n",
    "4. Testing Various Models\n",
    "5. Preparing the CSV Submission"
   ]
  },
  {
   "cell_type": "code",
   "execution_count": 1,
   "id": "dcd4e336",
   "metadata": {
    "execution": {
     "iopub.execute_input": "2022-11-15T02:39:02.327872Z",
     "iopub.status.busy": "2022-11-15T02:39:02.326785Z",
     "iopub.status.idle": "2022-11-15T02:39:04.037369Z",
     "shell.execute_reply": "2022-11-15T02:39:04.036029Z"
    },
    "papermill": {
     "duration": 1.72643,
     "end_time": "2022-11-15T02:39:04.040251",
     "exception": false,
     "start_time": "2022-11-15T02:39:02.313821",
     "status": "completed"
    },
    "tags": []
   },
   "outputs": [
    {
     "name": "stdout",
     "output_type": "stream",
     "text": [
      "/kaggle/input/titanic/train.csv\n",
      "/kaggle/input/titanic/test.csv\n",
      "/kaggle/input/titanic/gender_submission.csv\n"
     ]
    }
   ],
   "source": [
    "# All required import statements \n",
    "import math\n",
    "import numpy as np \n",
    "import pandas as pd \n",
    "import seaborn as sns\n",
    "from matplotlib import pyplot as plt\n",
    "from sklearn.model_selection import train_test_split\n",
    "from numpy import median\n",
    "import statistics\n",
    "from sklearn.ensemble import RandomForestClassifier\n",
    "from sklearn.ensemble import GradientBoostingClassifier\n",
    "from sklearn.linear_model import Perceptron\n",
    "from sklearn.model_selection import cross_val_score\n",
    "from sklearn.metrics import f1_score\n",
    "from sklearn.preprocessing import StandardScaler\n",
    "from sklearn import metrics\n",
    "%matplotlib inline\n",
    "\n",
    "import os\n",
    "for dirname, _, filenames in os.walk('/kaggle/input'):\n",
    "    for filename in filenames:\n",
    "        print(os.path.join(dirname, filename))"
   ]
  },
  {
   "cell_type": "code",
   "execution_count": 2,
   "id": "f6abdf9e",
   "metadata": {
    "execution": {
     "iopub.execute_input": "2022-11-15T02:39:04.065522Z",
     "iopub.status.busy": "2022-11-15T02:39:04.065050Z",
     "iopub.status.idle": "2022-11-15T02:39:04.129144Z",
     "shell.execute_reply": "2022-11-15T02:39:04.127568Z"
    },
    "papermill": {
     "duration": 0.081288,
     "end_time": "2022-11-15T02:39:04.131973",
     "exception": false,
     "start_time": "2022-11-15T02:39:04.050685",
     "status": "completed"
    },
    "tags": []
   },
   "outputs": [
    {
     "name": "stdout",
     "output_type": "stream",
     "text": [
      "<class 'pandas.core.frame.DataFrame'>\n",
      "RangeIndex: 891 entries, 0 to 890\n",
      "Data columns (total 12 columns):\n",
      " #   Column       Non-Null Count  Dtype  \n",
      "---  ------       --------------  -----  \n",
      " 0   PassengerId  891 non-null    int64  \n",
      " 1   Survived     891 non-null    int64  \n",
      " 2   Pclass       891 non-null    int64  \n",
      " 3   Name         891 non-null    object \n",
      " 4   Sex          891 non-null    object \n",
      " 5   Age          714 non-null    float64\n",
      " 6   SibSp        891 non-null    int64  \n",
      " 7   Parch        891 non-null    int64  \n",
      " 8   Ticket       891 non-null    object \n",
      " 9   Fare         891 non-null    float64\n",
      " 10  Cabin        204 non-null    object \n",
      " 11  Embarked     889 non-null    object \n",
      "dtypes: float64(2), int64(5), object(5)\n",
      "memory usage: 83.7+ KB\n",
      "<class 'pandas.core.frame.DataFrame'>\n",
      "RangeIndex: 418 entries, 0 to 417\n",
      "Data columns (total 11 columns):\n",
      " #   Column       Non-Null Count  Dtype  \n",
      "---  ------       --------------  -----  \n",
      " 0   PassengerId  418 non-null    int64  \n",
      " 1   Pclass       418 non-null    int64  \n",
      " 2   Name         418 non-null    object \n",
      " 3   Sex          418 non-null    object \n",
      " 4   Age          332 non-null    float64\n",
      " 5   SibSp        418 non-null    int64  \n",
      " 6   Parch        418 non-null    int64  \n",
      " 7   Ticket       418 non-null    object \n",
      " 8   Fare         417 non-null    float64\n",
      " 9   Cabin        91 non-null     object \n",
      " 10  Embarked     418 non-null    object \n",
      "dtypes: float64(2), int64(4), object(5)\n",
      "memory usage: 36.0+ KB\n"
     ]
    }
   ],
   "source": [
    "# Examine the head of the dataset to get an initial understanding of what the data looks like\n",
    "training_data = pd.read_csv(\"../input/titanic/train.csv\")\n",
    "testing_data = pd.read_csv(\"../input/titanic/test.csv\")\n",
    "\n",
    "training_data.info()\n",
    "testing_data.info()"
   ]
  },
  {
   "cell_type": "markdown",
   "id": "6429f096",
   "metadata": {
    "papermill": {
     "duration": 0.010497,
     "end_time": "2022-11-15T02:39:04.153038",
     "exception": false,
     "start_time": "2022-11-15T02:39:04.142541",
     "status": "completed"
    },
    "tags": []
   },
   "source": [
    "**Exploratory Data Analysis (EDA):**\n",
    "\n",
    "Now that the data has been collected, some exploratory data analysis is required "
   ]
  },
  {
   "cell_type": "code",
   "execution_count": 3,
   "id": "90d73505",
   "metadata": {
    "execution": {
     "iopub.execute_input": "2022-11-15T02:39:04.177837Z",
     "iopub.status.busy": "2022-11-15T02:39:04.177420Z",
     "iopub.status.idle": "2022-11-15T02:39:04.222294Z",
     "shell.execute_reply": "2022-11-15T02:39:04.220989Z"
    },
    "papermill": {
     "duration": 0.060769,
     "end_time": "2022-11-15T02:39:04.224862",
     "exception": false,
     "start_time": "2022-11-15T02:39:04.164093",
     "status": "completed"
    },
    "tags": []
   },
   "outputs": [
    {
     "data": {
      "text/html": [
       "<div>\n",
       "<style scoped>\n",
       "    .dataframe tbody tr th:only-of-type {\n",
       "        vertical-align: middle;\n",
       "    }\n",
       "\n",
       "    .dataframe tbody tr th {\n",
       "        vertical-align: top;\n",
       "    }\n",
       "\n",
       "    .dataframe thead th {\n",
       "        text-align: right;\n",
       "    }\n",
       "</style>\n",
       "<table border=\"1\" class=\"dataframe\">\n",
       "  <thead>\n",
       "    <tr style=\"text-align: right;\">\n",
       "      <th></th>\n",
       "      <th>PassengerId</th>\n",
       "      <th>Survived</th>\n",
       "      <th>Pclass</th>\n",
       "      <th>Age</th>\n",
       "      <th>SibSp</th>\n",
       "      <th>Parch</th>\n",
       "      <th>Fare</th>\n",
       "    </tr>\n",
       "  </thead>\n",
       "  <tbody>\n",
       "    <tr>\n",
       "      <th>count</th>\n",
       "      <td>891.000000</td>\n",
       "      <td>891.000000</td>\n",
       "      <td>891.000000</td>\n",
       "      <td>714.000000</td>\n",
       "      <td>891.000000</td>\n",
       "      <td>891.000000</td>\n",
       "      <td>891.000000</td>\n",
       "    </tr>\n",
       "    <tr>\n",
       "      <th>mean</th>\n",
       "      <td>446.000000</td>\n",
       "      <td>0.383838</td>\n",
       "      <td>2.308642</td>\n",
       "      <td>29.699118</td>\n",
       "      <td>0.523008</td>\n",
       "      <td>0.381594</td>\n",
       "      <td>32.204208</td>\n",
       "    </tr>\n",
       "    <tr>\n",
       "      <th>std</th>\n",
       "      <td>257.353842</td>\n",
       "      <td>0.486592</td>\n",
       "      <td>0.836071</td>\n",
       "      <td>14.526497</td>\n",
       "      <td>1.102743</td>\n",
       "      <td>0.806057</td>\n",
       "      <td>49.693429</td>\n",
       "    </tr>\n",
       "    <tr>\n",
       "      <th>min</th>\n",
       "      <td>1.000000</td>\n",
       "      <td>0.000000</td>\n",
       "      <td>1.000000</td>\n",
       "      <td>0.420000</td>\n",
       "      <td>0.000000</td>\n",
       "      <td>0.000000</td>\n",
       "      <td>0.000000</td>\n",
       "    </tr>\n",
       "    <tr>\n",
       "      <th>25%</th>\n",
       "      <td>223.500000</td>\n",
       "      <td>0.000000</td>\n",
       "      <td>2.000000</td>\n",
       "      <td>20.125000</td>\n",
       "      <td>0.000000</td>\n",
       "      <td>0.000000</td>\n",
       "      <td>7.910400</td>\n",
       "    </tr>\n",
       "    <tr>\n",
       "      <th>50%</th>\n",
       "      <td>446.000000</td>\n",
       "      <td>0.000000</td>\n",
       "      <td>3.000000</td>\n",
       "      <td>28.000000</td>\n",
       "      <td>0.000000</td>\n",
       "      <td>0.000000</td>\n",
       "      <td>14.454200</td>\n",
       "    </tr>\n",
       "    <tr>\n",
       "      <th>75%</th>\n",
       "      <td>668.500000</td>\n",
       "      <td>1.000000</td>\n",
       "      <td>3.000000</td>\n",
       "      <td>38.000000</td>\n",
       "      <td>1.000000</td>\n",
       "      <td>0.000000</td>\n",
       "      <td>31.000000</td>\n",
       "    </tr>\n",
       "    <tr>\n",
       "      <th>max</th>\n",
       "      <td>891.000000</td>\n",
       "      <td>1.000000</td>\n",
       "      <td>3.000000</td>\n",
       "      <td>80.000000</td>\n",
       "      <td>8.000000</td>\n",
       "      <td>6.000000</td>\n",
       "      <td>512.329200</td>\n",
       "    </tr>\n",
       "  </tbody>\n",
       "</table>\n",
       "</div>"
      ],
      "text/plain": [
       "       PassengerId    Survived      Pclass         Age       SibSp  \\\n",
       "count   891.000000  891.000000  891.000000  714.000000  891.000000   \n",
       "mean    446.000000    0.383838    2.308642   29.699118    0.523008   \n",
       "std     257.353842    0.486592    0.836071   14.526497    1.102743   \n",
       "min       1.000000    0.000000    1.000000    0.420000    0.000000   \n",
       "25%     223.500000    0.000000    2.000000   20.125000    0.000000   \n",
       "50%     446.000000    0.000000    3.000000   28.000000    0.000000   \n",
       "75%     668.500000    1.000000    3.000000   38.000000    1.000000   \n",
       "max     891.000000    1.000000    3.000000   80.000000    8.000000   \n",
       "\n",
       "            Parch        Fare  \n",
       "count  891.000000  891.000000  \n",
       "mean     0.381594   32.204208  \n",
       "std      0.806057   49.693429  \n",
       "min      0.000000    0.000000  \n",
       "25%      0.000000    7.910400  \n",
       "50%      0.000000   14.454200  \n",
       "75%      0.000000   31.000000  \n",
       "max      6.000000  512.329200  "
      ]
     },
     "execution_count": 3,
     "metadata": {},
     "output_type": "execute_result"
    }
   ],
   "source": [
    "# Get some information of the training dataset \n",
    "training_data.describe()"
   ]
  },
  {
   "cell_type": "code",
   "execution_count": 4,
   "id": "b193ff65",
   "metadata": {
    "execution": {
     "iopub.execute_input": "2022-11-15T02:39:04.249422Z",
     "iopub.status.busy": "2022-11-15T02:39:04.248990Z",
     "iopub.status.idle": "2022-11-15T02:39:04.282782Z",
     "shell.execute_reply": "2022-11-15T02:39:04.281485Z"
    },
    "papermill": {
     "duration": 0.049787,
     "end_time": "2022-11-15T02:39:04.285631",
     "exception": false,
     "start_time": "2022-11-15T02:39:04.235844",
     "status": "completed"
    },
    "tags": []
   },
   "outputs": [
    {
     "data": {
      "text/html": [
       "<div>\n",
       "<style scoped>\n",
       "    .dataframe tbody tr th:only-of-type {\n",
       "        vertical-align: middle;\n",
       "    }\n",
       "\n",
       "    .dataframe tbody tr th {\n",
       "        vertical-align: top;\n",
       "    }\n",
       "\n",
       "    .dataframe thead th {\n",
       "        text-align: right;\n",
       "    }\n",
       "</style>\n",
       "<table border=\"1\" class=\"dataframe\">\n",
       "  <thead>\n",
       "    <tr style=\"text-align: right;\">\n",
       "      <th></th>\n",
       "      <th>PassengerId</th>\n",
       "      <th>Pclass</th>\n",
       "      <th>Age</th>\n",
       "      <th>SibSp</th>\n",
       "      <th>Parch</th>\n",
       "      <th>Fare</th>\n",
       "    </tr>\n",
       "  </thead>\n",
       "  <tbody>\n",
       "    <tr>\n",
       "      <th>count</th>\n",
       "      <td>418.000000</td>\n",
       "      <td>418.000000</td>\n",
       "      <td>332.000000</td>\n",
       "      <td>418.000000</td>\n",
       "      <td>418.000000</td>\n",
       "      <td>417.000000</td>\n",
       "    </tr>\n",
       "    <tr>\n",
       "      <th>mean</th>\n",
       "      <td>1100.500000</td>\n",
       "      <td>2.265550</td>\n",
       "      <td>30.272590</td>\n",
       "      <td>0.447368</td>\n",
       "      <td>0.392344</td>\n",
       "      <td>35.627188</td>\n",
       "    </tr>\n",
       "    <tr>\n",
       "      <th>std</th>\n",
       "      <td>120.810458</td>\n",
       "      <td>0.841838</td>\n",
       "      <td>14.181209</td>\n",
       "      <td>0.896760</td>\n",
       "      <td>0.981429</td>\n",
       "      <td>55.907576</td>\n",
       "    </tr>\n",
       "    <tr>\n",
       "      <th>min</th>\n",
       "      <td>892.000000</td>\n",
       "      <td>1.000000</td>\n",
       "      <td>0.170000</td>\n",
       "      <td>0.000000</td>\n",
       "      <td>0.000000</td>\n",
       "      <td>0.000000</td>\n",
       "    </tr>\n",
       "    <tr>\n",
       "      <th>25%</th>\n",
       "      <td>996.250000</td>\n",
       "      <td>1.000000</td>\n",
       "      <td>21.000000</td>\n",
       "      <td>0.000000</td>\n",
       "      <td>0.000000</td>\n",
       "      <td>7.895800</td>\n",
       "    </tr>\n",
       "    <tr>\n",
       "      <th>50%</th>\n",
       "      <td>1100.500000</td>\n",
       "      <td>3.000000</td>\n",
       "      <td>27.000000</td>\n",
       "      <td>0.000000</td>\n",
       "      <td>0.000000</td>\n",
       "      <td>14.454200</td>\n",
       "    </tr>\n",
       "    <tr>\n",
       "      <th>75%</th>\n",
       "      <td>1204.750000</td>\n",
       "      <td>3.000000</td>\n",
       "      <td>39.000000</td>\n",
       "      <td>1.000000</td>\n",
       "      <td>0.000000</td>\n",
       "      <td>31.500000</td>\n",
       "    </tr>\n",
       "    <tr>\n",
       "      <th>max</th>\n",
       "      <td>1309.000000</td>\n",
       "      <td>3.000000</td>\n",
       "      <td>76.000000</td>\n",
       "      <td>8.000000</td>\n",
       "      <td>9.000000</td>\n",
       "      <td>512.329200</td>\n",
       "    </tr>\n",
       "  </tbody>\n",
       "</table>\n",
       "</div>"
      ],
      "text/plain": [
       "       PassengerId      Pclass         Age       SibSp       Parch        Fare\n",
       "count   418.000000  418.000000  332.000000  418.000000  418.000000  417.000000\n",
       "mean   1100.500000    2.265550   30.272590    0.447368    0.392344   35.627188\n",
       "std     120.810458    0.841838   14.181209    0.896760    0.981429   55.907576\n",
       "min     892.000000    1.000000    0.170000    0.000000    0.000000    0.000000\n",
       "25%     996.250000    1.000000   21.000000    0.000000    0.000000    7.895800\n",
       "50%    1100.500000    3.000000   27.000000    0.000000    0.000000   14.454200\n",
       "75%    1204.750000    3.000000   39.000000    1.000000    0.000000   31.500000\n",
       "max    1309.000000    3.000000   76.000000    8.000000    9.000000  512.329200"
      ]
     },
     "execution_count": 4,
     "metadata": {},
     "output_type": "execute_result"
    }
   ],
   "source": [
    "# Get some information of the testing dataset \n",
    "testing_data.describe()"
   ]
  },
  {
   "cell_type": "code",
   "execution_count": 5,
   "id": "6960fae8",
   "metadata": {
    "execution": {
     "iopub.execute_input": "2022-11-15T02:39:04.309859Z",
     "iopub.status.busy": "2022-11-15T02:39:04.309384Z",
     "iopub.status.idle": "2022-11-15T02:39:04.359943Z",
     "shell.execute_reply": "2022-11-15T02:39:04.358766Z"
    },
    "papermill": {
     "duration": 0.065843,
     "end_time": "2022-11-15T02:39:04.362630",
     "exception": false,
     "start_time": "2022-11-15T02:39:04.296787",
     "status": "completed"
    },
    "tags": []
   },
   "outputs": [
    {
     "name": "stdout",
     "output_type": "stream",
     "text": [
      "Training Data Information:\n",
      "(891, 12)\n",
      "Testing Data Information:\n",
      "(418, 11)\n"
     ]
    },
    {
     "data": {
      "text/plain": [
       "Index(['PassengerId', 'Survived', 'Pclass', 'Age', 'SibSp', 'Parch', 'Fare'], dtype='object')"
      ]
     },
     "execution_count": 5,
     "metadata": {},
     "output_type": "execute_result"
    }
   ],
   "source": [
    "# Identify the columns of the training data\n",
    "print(\"Training Data Information:\")\n",
    "print(training_data.shape)\n",
    "training_data.describe().columns\n",
    "print(\"Testing Data Information:\")\n",
    "print(testing_data.shape)\n",
    "training_data.describe().columns"
   ]
  },
  {
   "cell_type": "code",
   "execution_count": 6,
   "id": "804c1f7d",
   "metadata": {
    "execution": {
     "iopub.execute_input": "2022-11-15T02:39:04.387698Z",
     "iopub.status.busy": "2022-11-15T02:39:04.387257Z",
     "iopub.status.idle": "2022-11-15T02:39:04.402421Z",
     "shell.execute_reply": "2022-11-15T02:39:04.401555Z"
    },
    "papermill": {
     "duration": 0.031139,
     "end_time": "2022-11-15T02:39:04.405503",
     "exception": false,
     "start_time": "2022-11-15T02:39:04.374364",
     "status": "completed"
    },
    "tags": []
   },
   "outputs": [
    {
     "name": "stdout",
     "output_type": "stream",
     "text": [
      "     PassengerId  Survived  Pclass  \\\n",
      "473          474         1       2   \n",
      "474          475         0       3   \n",
      "475          476         0       1   \n",
      "476          477         0       2   \n",
      "477          478         0       3   \n",
      "..           ...       ...     ...   \n",
      "886          887         0       2   \n",
      "887          888         1       1   \n",
      "888          889         0       3   \n",
      "889          890         1       1   \n",
      "890          891         0       3   \n",
      "\n",
      "                                             Name     Sex   Age  SibSp  Parch  \\\n",
      "473  Jerwan, Mrs. Amin S (Marie Marthe Thuillard)  female  23.0      0      0   \n",
      "474                   Strandberg, Miss. Ida Sofia  female  22.0      0      0   \n",
      "475                   Clifford, Mr. George Quincy    male   NaN      0      0   \n",
      "476                       Renouf, Mr. Peter Henry    male  34.0      1      0   \n",
      "477                     Braund, Mr. Lewis Richard    male  29.0      1      0   \n",
      "..                                            ...     ...   ...    ...    ...   \n",
      "886                         Montvila, Rev. Juozas    male  27.0      0      0   \n",
      "887                  Graham, Miss. Margaret Edith  female  19.0      0      0   \n",
      "888      Johnston, Miss. Catherine Helen \"Carrie\"  female   NaN      1      2   \n",
      "889                         Behr, Mr. Karl Howell    male  26.0      0      0   \n",
      "890                           Dooley, Mr. Patrick    male  32.0      0      0   \n",
      "\n",
      "              Ticket     Fare Cabin Embarked  \n",
      "473  SC/AH Basle 541  13.7917     D        C  \n",
      "474             7553   9.8375   NaN        S  \n",
      "475           110465  52.0000   A14        S  \n",
      "476            31027  21.0000   NaN        S  \n",
      "477             3460   7.0458   NaN        S  \n",
      "..               ...      ...   ...      ...  \n",
      "886           211536  13.0000   NaN        S  \n",
      "887           112053  30.0000   B42        S  \n",
      "888       W./C. 6607  23.4500   NaN        S  \n",
      "889           111369  30.0000  C148        C  \n",
      "890           370376   7.7500   NaN        Q  \n",
      "\n",
      "[418 rows x 12 columns]\n"
     ]
    }
   ],
   "source": [
    "print(training_data[473:])"
   ]
  },
  {
   "cell_type": "code",
   "execution_count": 7,
   "id": "a061a961",
   "metadata": {
    "execution": {
     "iopub.execute_input": "2022-11-15T02:39:04.430444Z",
     "iopub.status.busy": "2022-11-15T02:39:04.430022Z",
     "iopub.status.idle": "2022-11-15T02:39:04.444199Z",
     "shell.execute_reply": "2022-11-15T02:39:04.443160Z"
    },
    "papermill": {
     "duration": 0.029769,
     "end_time": "2022-11-15T02:39:04.446794",
     "exception": false,
     "start_time": "2022-11-15T02:39:04.417025",
     "status": "completed"
    },
    "tags": []
   },
   "outputs": [
    {
     "name": "stdout",
     "output_type": "stream",
     "text": [
      "     PassengerId  Pclass                                          Name  \\\n",
      "0            892       3                              Kelly, Mr. James   \n",
      "1            893       3              Wilkes, Mrs. James (Ellen Needs)   \n",
      "2            894       2                     Myles, Mr. Thomas Francis   \n",
      "3            895       3                              Wirz, Mr. Albert   \n",
      "4            896       3  Hirvonen, Mrs. Alexander (Helga E Lindqvist)   \n",
      "..           ...     ...                                           ...   \n",
      "413         1305       3                            Spector, Mr. Woolf   \n",
      "414         1306       1                  Oliva y Ocana, Dona. Fermina   \n",
      "415         1307       3                  Saether, Mr. Simon Sivertsen   \n",
      "416         1308       3                           Ware, Mr. Frederick   \n",
      "417         1309       3                      Peter, Master. Michael J   \n",
      "\n",
      "        Sex   Age  SibSp  Parch              Ticket      Fare Cabin Embarked  \n",
      "0      male  34.5      0      0              330911    7.8292   NaN        Q  \n",
      "1    female  47.0      1      0              363272    7.0000   NaN        S  \n",
      "2      male  62.0      0      0              240276    9.6875   NaN        Q  \n",
      "3      male  27.0      0      0              315154    8.6625   NaN        S  \n",
      "4    female  22.0      1      1             3101298   12.2875   NaN        S  \n",
      "..      ...   ...    ...    ...                 ...       ...   ...      ...  \n",
      "413    male   NaN      0      0           A.5. 3236    8.0500   NaN        S  \n",
      "414  female  39.0      0      0            PC 17758  108.9000  C105        C  \n",
      "415    male  38.5      0      0  SOTON/O.Q. 3101262    7.2500   NaN        S  \n",
      "416    male   NaN      0      0              359309    8.0500   NaN        S  \n",
      "417    male   NaN      1      1                2668   22.3583   NaN        C  \n",
      "\n",
      "[418 rows x 11 columns]\n"
     ]
    }
   ],
   "source": [
    "print(testing_data)"
   ]
  },
  {
   "cell_type": "code",
   "execution_count": 8,
   "id": "4851c074",
   "metadata": {
    "execution": {
     "iopub.execute_input": "2022-11-15T02:39:04.471369Z",
     "iopub.status.busy": "2022-11-15T02:39:04.470984Z",
     "iopub.status.idle": "2022-11-15T02:39:04.764737Z",
     "shell.execute_reply": "2022-11-15T02:39:04.763478Z"
    },
    "papermill": {
     "duration": 0.309706,
     "end_time": "2022-11-15T02:39:04.767761",
     "exception": false,
     "start_time": "2022-11-15T02:39:04.458055",
     "status": "completed"
    },
    "tags": []
   },
   "outputs": [
    {
     "data": {
      "text/plain": [
       "<AxesSubplot:xlabel='Age', ylabel='Count'>"
      ]
     },
     "execution_count": 8,
     "metadata": {},
     "output_type": "execute_result"
    },
    {
     "data": {
      "image/png": "[encoded data removed]",
      "text/plain": [
       "<Figure size 432x288 with 1 Axes>"
      ]
     },
     "metadata": {
      "needs_background": "light"
     },
     "output_type": "display_data"
    }
   ],
   "source": [
    "# Seperate the data into numeric and categorical data\n",
    "numeric_data = training_data[['Age', 'SibSp', 'Parch', 'Fare']]\n",
    "categorical_data = training_data[['Survived', 'Pclass', 'Sex', 'Ticket', 'Cabin', 'Embarked']]\n",
    "\n",
    "sns.histplot(data = training_data['Age'], kde = True)"
   ]
  },
  {
   "cell_type": "code",
   "execution_count": 9,
   "id": "d62e7b35",
   "metadata": {
    "execution": {
     "iopub.execute_input": "2022-11-15T02:39:04.794558Z",
     "iopub.status.busy": "2022-11-15T02:39:04.793259Z",
     "iopub.status.idle": "2022-11-15T02:39:05.148389Z",
     "shell.execute_reply": "2022-11-15T02:39:05.146070Z"
    },
    "papermill": {
     "duration": 0.371972,
     "end_time": "2022-11-15T02:39:05.151562",
     "exception": false,
     "start_time": "2022-11-15T02:39:04.779590",
     "status": "completed"
    },
    "tags": []
   },
   "outputs": [
    {
     "data": {
      "text/plain": [
       "<AxesSubplot:xlabel='SibSp', ylabel='Count'>"
      ]
     },
     "execution_count": 9,
     "metadata": {},
     "output_type": "execute_result"
    },
    {
     "data": {
      "image/png": "[encoded data removed]",
      "text/plain": [
       "<Figure size 432x288 with 1 Axes>"
      ]
     },
     "metadata": {
      "needs_background": "light"
     },
     "output_type": "display_data"
    }
   ],
   "source": [
    "sns.histplot(data = training_data['SibSp'], kde = True)\n",
    "sns.histplot(data = testing_data['SibSp'], kde = True)"
   ]
  },
  {
   "cell_type": "code",
   "execution_count": 10,
   "id": "18a9d434",
   "metadata": {
    "execution": {
     "iopub.execute_input": "2022-11-15T02:39:05.180570Z",
     "iopub.status.busy": "2022-11-15T02:39:05.180116Z",
     "iopub.status.idle": "2022-11-15T02:39:05.192232Z",
     "shell.execute_reply": "2022-11-15T02:39:05.190910Z"
    },
    "papermill": {
     "duration": 0.030431,
     "end_time": "2022-11-15T02:39:05.195468",
     "exception": false,
     "start_time": "2022-11-15T02:39:05.165037",
     "status": "completed"
    },
    "tags": []
   },
   "outputs": [
    {
     "name": "stdout",
     "output_type": "stream",
     "text": [
      "891\n"
     ]
    }
   ],
   "source": [
    "# Get rid of outlier SibSp values\n",
    "training_sibsp = [s for s in training_data['SibSp'].tolist()]\n",
    "testing_sibsp = [s for s in testing_data['SibSp'].tolist()]\n",
    "\n",
    "median_training_sibsp = np.median(training_sibsp)\n",
    "median_testing_sibsp = np.median(testing_sibsp)\n",
    "\n",
    "print(len(training_data['SibSp']))\n",
    "\n",
    "def training_sibsp_to_med(s):\n",
    "    if s >= 5:\n",
    "        return median_training_sibsp\n",
    "    return s\n",
    "\n",
    "def testing_sibsp_to_med(s):\n",
    "    if s >= 5:\n",
    "        return median_testing_sibsp\n",
    "    return s\n",
    "\n",
    "training_data[\"SibSp\"] = training_data[\"SibSp\"].map(training_sibsp_to_med)\n",
    "testing_data[\"SibSp\"] = testing_data[\"SibSp\"].map(testing_sibsp_to_med)"
   ]
  },
  {
   "cell_type": "code",
   "execution_count": 11,
   "id": "7d5fe8df",
   "metadata": {
    "execution": {
     "iopub.execute_input": "2022-11-15T02:39:05.221962Z",
     "iopub.status.busy": "2022-11-15T02:39:05.221583Z",
     "iopub.status.idle": "2022-11-15T02:39:05.428441Z",
     "shell.execute_reply": "2022-11-15T02:39:05.427078Z"
    },
    "papermill": {
     "duration": 0.224068,
     "end_time": "2022-11-15T02:39:05.431838",
     "exception": false,
     "start_time": "2022-11-15T02:39:05.207770",
     "status": "completed"
    },
    "tags": []
   },
   "outputs": [
    {
     "data": {
      "text/plain": [
       "<AxesSubplot:xlabel='Parch', ylabel='Count'>"
      ]
     },
     "execution_count": 11,
     "metadata": {},
     "output_type": "execute_result"
    },
    {
     "data": {
      "image/png": "[encoded data removed]",
      "text/plain": [
       "<Figure size 432x288 with 1 Axes>"
      ]
     },
     "metadata": {
      "needs_background": "light"
     },
     "output_type": "display_data"
    }
   ],
   "source": [
    "sns.histplot(data = testing_data['Parch'], kde = True)"
   ]
  },
  {
   "cell_type": "code",
   "execution_count": 12,
   "id": "b8f85bc4",
   "metadata": {
    "execution": {
     "iopub.execute_input": "2022-11-15T02:39:05.459594Z",
     "iopub.status.busy": "2022-11-15T02:39:05.458379Z",
     "iopub.status.idle": "2022-11-15T02:39:05.468979Z",
     "shell.execute_reply": "2022-11-15T02:39:05.468035Z"
    },
    "papermill": {
     "duration": 0.027159,
     "end_time": "2022-11-15T02:39:05.471617",
     "exception": false,
     "start_time": "2022-11-15T02:39:05.444458",
     "status": "completed"
    },
    "tags": []
   },
   "outputs": [],
   "source": [
    "# Get rid of outlier Parch values\n",
    "training_parch = [s for s in training_data['Parch'].tolist()]\n",
    "testing_pach = [s for s in testing_data['Parch'].tolist()]\n",
    "\n",
    "median_training_sibsp = np.median(training_sibsp)\n",
    "median_testing_sibsp = np.median(testing_sibsp)\n",
    "\n",
    "def training_parch_to_med(p):\n",
    "    if p >= 5:\n",
    "        return median_training_sibsp\n",
    "    return p\n",
    "\n",
    "def testing_parch_to_med(p):\n",
    "    if p >= 5:\n",
    "        return median_testing_sibsp\n",
    "    return p\n",
    "\n",
    "training_data[\"Parch\"] = training_data[\"Parch\"].map(training_parch_to_med)\n",
    "testing_data[\"Parch\"] = testing_data[\"Parch\"].map(testing_parch_to_med)"
   ]
  },
  {
   "cell_type": "code",
   "execution_count": 13,
   "id": "4c350269",
   "metadata": {
    "execution": {
     "iopub.execute_input": "2022-11-15T02:39:05.499704Z",
     "iopub.status.busy": "2022-11-15T02:39:05.498494Z",
     "iopub.status.idle": "2022-11-15T02:39:05.884774Z",
     "shell.execute_reply": "2022-11-15T02:39:05.883553Z"
    },
    "papermill": {
     "duration": 0.402991,
     "end_time": "2022-11-15T02:39:05.887338",
     "exception": false,
     "start_time": "2022-11-15T02:39:05.484347",
     "status": "completed"
    },
    "tags": []
   },
   "outputs": [
    {
     "data": {
      "text/plain": [
       "<AxesSubplot:xlabel='Fare', ylabel='Count'>"
      ]
     },
     "execution_count": 13,
     "metadata": {},
     "output_type": "execute_result"
    },
    {
     "data": {
      "image/png": "[encoded data removed]",
      "text/plain": [
       "<Figure size 432x288 with 1 Axes>"
      ]
     },
     "metadata": {
      "needs_background": "light"
     },
     "output_type": "display_data"
    }
   ],
   "source": [
    "sns.histplot(data = training_data['Fare'], kde = True)"
   ]
  },
  {
   "cell_type": "code",
   "execution_count": 14,
   "id": "6f035bc0",
   "metadata": {
    "execution": {
     "iopub.execute_input": "2022-11-15T02:39:05.915032Z",
     "iopub.status.busy": "2022-11-15T02:39:05.914639Z",
     "iopub.status.idle": "2022-11-15T02:39:05.925103Z",
     "shell.execute_reply": "2022-11-15T02:39:05.924260Z"
    },
    "papermill": {
     "duration": 0.027052,
     "end_time": "2022-11-15T02:39:05.927421",
     "exception": false,
     "start_time": "2022-11-15T02:39:05.900369",
     "status": "completed"
    },
    "tags": []
   },
   "outputs": [],
   "source": [
    "# Get rid of outlier Parch values\n",
    "training_fare = [s for s in training_data['Fare'].tolist()]\n",
    "testing_fare = [s for s in testing_data['Fare'].tolist()]\n",
    "\n",
    "median_training_sibsp = np.median(training_sibsp)\n",
    "median_testing_sibsp = np.median(testing_sibsp)\n",
    "\n",
    "def training_fare_to_med(f):\n",
    "    if f >= 250:\n",
    "        return median_training_fare\n",
    "    return f\n",
    "\n",
    "def testing_fare_to_med(f):\n",
    "    if f >= 250:\n",
    "        return median_testing_fare\n",
    "    return f\n",
    "\n",
    "training_data[\"Parch\"] = training_data[\"Parch\"].map(training_fare_to_med)\n",
    "testing_data[\"Parch\"] = testing_data[\"Parch\"].map(testing_fare_to_med)"
   ]
  },
  {
   "cell_type": "code",
   "execution_count": 15,
   "id": "7e697b37",
   "metadata": {
    "execution": {
     "iopub.execute_input": "2022-11-15T02:39:05.955635Z",
     "iopub.status.busy": "2022-11-15T02:39:05.954973Z",
     "iopub.status.idle": "2022-11-15T02:39:06.477503Z",
     "shell.execute_reply": "2022-11-15T02:39:06.476344Z"
    },
    "papermill": {
     "duration": 0.539476,
     "end_time": "2022-11-15T02:39:06.479955",
     "exception": false,
     "start_time": "2022-11-15T02:39:05.940479",
     "status": "completed"
    },
    "tags": []
   },
   "outputs": [
    {
     "data": {
      "text/plain": [
       "<AxesSubplot:>"
      ]
     },
     "execution_count": 15,
     "metadata": {},
     "output_type": "execute_result"
    },
    {
     "data": {
      "image/png": "[encoded data removed]",
      "text/plain": [
       "<Figure size 432x288 with 2 Axes>"
      ]
     },
     "metadata": {
      "needs_background": "light"
     },
     "output_type": "display_data"
    }
   ],
   "source": [
    "# Plot correlation heatmap to observe what is correlated to survival with basic training data. \n",
    "sns.heatmap(training_data.corr(), cmap = \"Blues\", annot = True)"
   ]
  },
  {
   "cell_type": "code",
   "execution_count": 16,
   "id": "a7675e3a",
   "metadata": {
    "execution": {
     "iopub.execute_input": "2022-11-15T02:39:06.509637Z",
     "iopub.status.busy": "2022-11-15T02:39:06.509180Z",
     "iopub.status.idle": "2022-11-15T02:39:06.769105Z",
     "shell.execute_reply": "2022-11-15T02:39:06.768191Z"
    },
    "papermill": {
     "duration": 0.277964,
     "end_time": "2022-11-15T02:39:06.771778",
     "exception": false,
     "start_time": "2022-11-15T02:39:06.493814",
     "status": "completed"
    },
    "tags": []
   },
   "outputs": [
    {
     "data": {
      "text/plain": [
       "<AxesSubplot:>"
      ]
     },
     "execution_count": 16,
     "metadata": {},
     "output_type": "execute_result"
    },
    {
     "data": {
      "image/png": "[encoded data removed]",
      "text/plain": [
       "<Figure size 432x288 with 2 Axes>"
      ]
     },
     "metadata": {
      "needs_background": "light"
     },
     "output_type": "display_data"
    }
   ],
   "source": [
    "# Plot correlation heatmap to observe what is correlated to survival with basic training data. \n",
    "sns.heatmap(numeric_data.corr(), cmap = \"Blues\", annot = True)"
   ]
  },
  {
   "cell_type": "code",
   "execution_count": 17,
   "id": "2c73abb3",
   "metadata": {
    "execution": {
     "iopub.execute_input": "2022-11-15T02:39:06.803716Z",
     "iopub.status.busy": "2022-11-15T02:39:06.803031Z",
     "iopub.status.idle": "2022-11-15T02:39:06.829182Z",
     "shell.execute_reply": "2022-11-15T02:39:06.827826Z"
    },
    "papermill": {
     "duration": 0.0448,
     "end_time": "2022-11-15T02:39:06.831625",
     "exception": false,
     "start_time": "2022-11-15T02:39:06.786825",
     "status": "completed"
    },
    "tags": []
   },
   "outputs": [
    {
     "data": {
      "text/html": [
       "<div>\n",
       "<style scoped>\n",
       "    .dataframe tbody tr th:only-of-type {\n",
       "        vertical-align: middle;\n",
       "    }\n",
       "\n",
       "    .dataframe tbody tr th {\n",
       "        vertical-align: top;\n",
       "    }\n",
       "\n",
       "    .dataframe thead th {\n",
       "        text-align: right;\n",
       "    }\n",
       "</style>\n",
       "<table border=\"1\" class=\"dataframe\">\n",
       "  <thead>\n",
       "    <tr style=\"text-align: right;\">\n",
       "      <th></th>\n",
       "      <th>Age</th>\n",
       "      <th>Fare</th>\n",
       "      <th>Parch</th>\n",
       "      <th>SibSp</th>\n",
       "    </tr>\n",
       "    <tr>\n",
       "      <th>Survived</th>\n",
       "      <th></th>\n",
       "      <th></th>\n",
       "      <th></th>\n",
       "      <th></th>\n",
       "    </tr>\n",
       "  </thead>\n",
       "  <tbody>\n",
       "    <tr>\n",
       "      <th>0</th>\n",
       "      <td>30.626179</td>\n",
       "      <td>22.117887</td>\n",
       "      <td>0.282332</td>\n",
       "      <td>0.406193</td>\n",
       "    </tr>\n",
       "    <tr>\n",
       "      <th>1</th>\n",
       "      <td>28.343690</td>\n",
       "      <td>48.395408</td>\n",
       "      <td>0.450292</td>\n",
       "      <td>0.473684</td>\n",
       "    </tr>\n",
       "  </tbody>\n",
       "</table>\n",
       "</div>"
      ],
      "text/plain": [
       "                Age       Fare     Parch     SibSp\n",
       "Survived                                          \n",
       "0         30.626179  22.117887  0.282332  0.406193\n",
       "1         28.343690  48.395408  0.450292  0.473684"
      ]
     },
     "execution_count": 17,
     "metadata": {},
     "output_type": "execute_result"
    }
   ],
   "source": [
    "pd.pivot_table(training_data, index = 'Survived', values = ['Age', 'SibSp', 'Parch', 'Fare'])"
   ]
  },
  {
   "cell_type": "code",
   "execution_count": 18,
   "id": "72ba3074",
   "metadata": {
    "execution": {
     "iopub.execute_input": "2022-11-15T02:39:06.864555Z",
     "iopub.status.busy": "2022-11-15T02:39:06.863423Z",
     "iopub.status.idle": "2022-11-15T02:39:07.898198Z",
     "shell.execute_reply": "2022-11-15T02:39:07.896886Z"
    },
    "papermill": {
     "duration": 1.05527,
     "end_time": "2022-11-15T02:39:07.901323",
     "exception": false,
     "start_time": "2022-11-15T02:39:06.846053",
     "status": "completed"
    },
    "tags": []
   },
   "outputs": [
    {
     "data": {
      "text/plain": [
       "<seaborn.axisgrid.FacetGrid at 0x7f215a7300d0>"
      ]
     },
     "execution_count": 18,
     "metadata": {},
     "output_type": "execute_result"
    },
    {
     "data": {
      "image/png": "[encoded data removed]",
      "text/plain": [
       "<Figure size 418.25x360 with 1 Axes>"
      ]
     },
     "metadata": {
      "needs_background": "light"
     },
     "output_type": "display_data"
    },
    {
     "data": {
      "image/png": "[encoded data removed]",
      "text/plain": [
       "<Figure size 402.375x360 with 1 Axes>"
      ]
     },
     "metadata": {
      "needs_background": "light"
     },
     "output_type": "display_data"
    },
    {
     "data": {
      "image/png": "[encoded data removed]",
      "text/plain": [
       "<Figure size 430.5x360 with 1 Axes>"
      ]
     },
     "metadata": {
      "needs_background": "light"
     },
     "output_type": "display_data"
    }
   ],
   "source": [
    "sns.catplot(data = training_data, kind = \"count\", x = \"Survived\", hue = \"Embarked\")\n",
    "sns.catplot(data = training_data, kind = \"count\", x = \"Survived\", hue = \"Pclass\")\n",
    "sns.catplot(data = training_data, kind = \"count\", x = \"Survived\", hue = \"Sex\")"
   ]
  },
  {
   "cell_type": "code",
   "execution_count": 19,
   "id": "43b62569",
   "metadata": {
    "execution": {
     "iopub.execute_input": "2022-11-15T02:39:07.934347Z",
     "iopub.status.busy": "2022-11-15T02:39:07.933894Z",
     "iopub.status.idle": "2022-11-15T02:39:07.944805Z",
     "shell.execute_reply": "2022-11-15T02:39:07.942968Z"
    },
    "papermill": {
     "duration": 0.031218,
     "end_time": "2022-11-15T02:39:07.948196",
     "exception": false,
     "start_time": "2022-11-15T02:39:07.916978",
     "status": "completed"
    },
    "tags": []
   },
   "outputs": [
    {
     "name": "stdout",
     "output_type": "stream",
     "text": [
      "Cabin          687\n",
      "Age            177\n",
      "Embarked         2\n",
      "PassengerId      0\n",
      "Survived         0\n",
      "Pclass           0\n",
      "Name             0\n",
      "Sex              0\n",
      "SibSp            0\n",
      "Parch            0\n",
      "Ticket           0\n",
      "Fare             0\n",
      "dtype: int64\n"
     ]
    }
   ],
   "source": [
    "total_missing_train = training_data.isnull().sum().sort_values(ascending=False)\n",
    "print(total_missing_train)"
   ]
  },
  {
   "cell_type": "markdown",
   "id": "83ed141d",
   "metadata": {
    "papermill": {
     "duration": 0.01672,
     "end_time": "2022-11-15T02:39:07.982731",
     "exception": false,
     "start_time": "2022-11-15T02:39:07.966011",
     "status": "completed"
    },
    "tags": []
   },
   "source": [
    "**Feature Engineering:**\n",
    "\n",
    "After identifying some missing features, it is clear that feature development is required. That is all completed below. It is sumarized by the following points:\n",
    "\n",
    "1. All sex data is converted to binary\n",
    "2. Unkown ages are converted to the median age of all known ages aboard the titanic\n",
    "3. Cabin Data is collected and converted to numeric format in the CabinData column\n",
    "4. Ticket data is converted to an integer. If unkown, that integer is set to zero\n",
    "\n",
    "After these changes are made, additional data visualization is added"
   ]
  },
  {
   "cell_type": "code",
   "execution_count": 20,
   "id": "cb4dcfbb",
   "metadata": {
    "execution": {
     "iopub.execute_input": "2022-11-15T02:39:08.015342Z",
     "iopub.status.busy": "2022-11-15T02:39:08.014903Z",
     "iopub.status.idle": "2022-11-15T02:39:08.027756Z",
     "shell.execute_reply": "2022-11-15T02:39:08.026093Z"
    },
    "papermill": {
     "duration": 0.032789,
     "end_time": "2022-11-15T02:39:08.030977",
     "exception": false,
     "start_time": "2022-11-15T02:39:07.998188",
     "status": "completed"
    },
    "tags": []
   },
   "outputs": [
    {
     "name": "stdout",
     "output_type": "stream",
     "text": [
      "0      0\n",
      "1      1\n",
      "2      1\n",
      "3      1\n",
      "4      0\n",
      "      ..\n",
      "886    0\n",
      "887    1\n",
      "888    1\n",
      "889    0\n",
      "890    0\n",
      "Name: Sex, Length: 891, dtype: int64\n"
     ]
    }
   ],
   "source": [
    "# Make sex data binary such that Male = 0, Female = 1\n",
    "\n",
    "def sex_to_binary(value):\n",
    "    if isinstance(value, str):\n",
    "        if value == \"male\":\n",
    "            return 0\n",
    "        else:\n",
    "            return 1\n",
    "    return value\n",
    "\n",
    "training_data[\"Sex\"] = training_data[\"Sex\"].map(sex_to_binary)\n",
    "testing_data[\"Sex\"] = testing_data[\"Sex\"].map(sex_to_binary)\n",
    "print(training_data[\"Sex\"])"
   ]
  },
  {
   "cell_type": "code",
   "execution_count": 21,
   "id": "2813bacc",
   "metadata": {
    "execution": {
     "iopub.execute_input": "2022-11-15T02:39:08.064630Z",
     "iopub.status.busy": "2022-11-15T02:39:08.064175Z",
     "iopub.status.idle": "2022-11-15T02:39:08.298725Z",
     "shell.execute_reply": "2022-11-15T02:39:08.297218Z"
    },
    "papermill": {
     "duration": 0.25461,
     "end_time": "2022-11-15T02:39:08.301691",
     "exception": false,
     "start_time": "2022-11-15T02:39:08.047081",
     "status": "completed"
    },
    "tags": []
   },
   "outputs": [
    {
     "data": {
      "text/plain": [
       "<AxesSubplot:xlabel='Sex', ylabel='Count'>"
      ]
     },
     "execution_count": 21,
     "metadata": {},
     "output_type": "execute_result"
    },
    {
     "data": {
      "image/png": "[encoded data removed]",
      "text/plain": [
       "<Figure size 432x288 with 1 Axes>"
      ]
     },
     "metadata": {
      "needs_background": "light"
     },
     "output_type": "display_data"
    }
   ],
   "source": [
    "# Replot this data since it has now been corrected \n",
    "sns.histplot(data = training_data['Sex'], kde = True)"
   ]
  },
  {
   "cell_type": "code",
   "execution_count": 22,
   "id": "dc5278f9",
   "metadata": {
    "execution": {
     "iopub.execute_input": "2022-11-15T02:39:08.336604Z",
     "iopub.status.busy": "2022-11-15T02:39:08.336133Z",
     "iopub.status.idle": "2022-11-15T02:39:08.348585Z",
     "shell.execute_reply": "2022-11-15T02:39:08.347455Z"
    },
    "papermill": {
     "duration": 0.033327,
     "end_time": "2022-11-15T02:39:08.351330",
     "exception": false,
     "start_time": "2022-11-15T02:39:08.318003",
     "status": "completed"
    },
    "tags": []
   },
   "outputs": [],
   "source": [
    "# Make all unkown ages to median age\n",
    "training_ages = [a for a in training_data['Age'].tolist() if not math.isnan(a)]\n",
    "testing_ages = [a for a in training_data['Age'].tolist() if not math.isnan(a)]\n",
    "\n",
    "median_training_age = np.median(training_ages)\n",
    "median_testing_age = np.median(testing_ages)\n",
    "\n",
    "def training_age_to_med_age(age):\n",
    "    if math.isnan(age):\n",
    "        return median_training_age\n",
    "    return age\n",
    "\n",
    "def testing_age_to_med_age(age):\n",
    "    if math.isnan(age):\n",
    "        return median_testing_age\n",
    "    return age\n",
    "\n",
    "training_data[\"Age\"] = training_data[\"Age\"].map(training_age_to_med_age)\n",
    "testing_data[\"Age\"] = testing_data[\"Age\"].map(testing_age_to_med_age)"
   ]
  },
  {
   "cell_type": "code",
   "execution_count": 23,
   "id": "11549f9c",
   "metadata": {
    "execution": {
     "iopub.execute_input": "2022-11-15T02:39:08.387250Z",
     "iopub.status.busy": "2022-11-15T02:39:08.386783Z",
     "iopub.status.idle": "2022-11-15T02:39:08.657873Z",
     "shell.execute_reply": "2022-11-15T02:39:08.656374Z"
    },
    "papermill": {
     "duration": 0.292769,
     "end_time": "2022-11-15T02:39:08.660801",
     "exception": false,
     "start_time": "2022-11-15T02:39:08.368032",
     "status": "completed"
    },
    "tags": []
   },
   "outputs": [
    {
     "data": {
      "text/plain": [
       "<AxesSubplot:xlabel='Age', ylabel='Count'>"
      ]
     },
     "execution_count": 23,
     "metadata": {},
     "output_type": "execute_result"
    },
    {
     "data": {
      "image/png": "[encoded data removed]",
      "text/plain": [
       "<Figure size 432x288 with 1 Axes>"
      ]
     },
     "metadata": {
      "needs_background": "light"
     },
     "output_type": "display_data"
    }
   ],
   "source": [
    "# Replot this training data since it has now been corrected \n",
    "sns.histplot(data = training_data['Age'], kde = True)"
   ]
  },
  {
   "cell_type": "code",
   "execution_count": 24,
   "id": "208c5a2b",
   "metadata": {
    "execution": {
     "iopub.execute_input": "2022-11-15T02:39:08.696936Z",
     "iopub.status.busy": "2022-11-15T02:39:08.696451Z",
     "iopub.status.idle": "2022-11-15T02:39:08.991598Z",
     "shell.execute_reply": "2022-11-15T02:39:08.990620Z"
    },
    "papermill": {
     "duration": 0.316817,
     "end_time": "2022-11-15T02:39:08.994195",
     "exception": false,
     "start_time": "2022-11-15T02:39:08.677378",
     "status": "completed"
    },
    "tags": []
   },
   "outputs": [
    {
     "data": {
      "text/plain": [
       "<AxesSubplot:xlabel='Age', ylabel='Count'>"
      ]
     },
     "execution_count": 24,
     "metadata": {},
     "output_type": "execute_result"
    },
    {
     "data": {
      "image/png": "[encoded data removed]",
      "text/plain": [
       "<Figure size 432x288 with 1 Axes>"
      ]
     },
     "metadata": {
      "needs_background": "light"
     },
     "output_type": "display_data"
    }
   ],
   "source": [
    "# Replot this testing data since it has now been corrected \n",
    "sns.histplot(data = testing_data['Age'], kde = True)"
   ]
  },
  {
   "cell_type": "code",
   "execution_count": 25,
   "id": "0d06fd53",
   "metadata": {
    "execution": {
     "iopub.execute_input": "2022-11-15T02:39:09.030816Z",
     "iopub.status.busy": "2022-11-15T02:39:09.029582Z",
     "iopub.status.idle": "2022-11-15T02:39:09.043952Z",
     "shell.execute_reply": "2022-11-15T02:39:09.042986Z"
    },
    "papermill": {
     "duration": 0.035647,
     "end_time": "2022-11-15T02:39:09.046500",
     "exception": false,
     "start_time": "2022-11-15T02:39:09.010853",
     "status": "completed"
    },
    "tags": []
   },
   "outputs": [
    {
     "data": {
      "text/plain": [
       "0    327\n",
       "1     74\n",
       "2     10\n",
       "3      4\n",
       "4      3\n",
       "Name: CabinData, dtype: int64"
      ]
     },
     "execution_count": 25,
     "metadata": {},
     "output_type": "execute_result"
    }
   ],
   "source": [
    "# Simplify cabin data\n",
    "training_data['CabinData'] = training_data.Cabin.apply(lambda x: 0 if pd.isna(x) else len(x.split(' ')))\n",
    "training_data['CabinData'].value_counts()\n",
    "\n",
    "testing_data['CabinData'] = testing_data.Cabin.apply(lambda x: 0 if pd.isna(x) else len(x.split(' ')))\n",
    "testing_data['CabinData'].value_counts()"
   ]
  },
  {
   "cell_type": "code",
   "execution_count": 26,
   "id": "42a0ab1c",
   "metadata": {
    "execution": {
     "iopub.execute_input": "2022-11-15T02:39:09.084140Z",
     "iopub.status.busy": "2022-11-15T02:39:09.083232Z",
     "iopub.status.idle": "2022-11-15T02:39:09.110928Z",
     "shell.execute_reply": "2022-11-15T02:39:09.109374Z"
    },
    "papermill": {
     "duration": 0.049419,
     "end_time": "2022-11-15T02:39:09.113663",
     "exception": false,
     "start_time": "2022-11-15T02:39:09.064244",
     "status": "completed"
    },
    "tags": []
   },
   "outputs": [
    {
     "data": {
      "text/html": [
       "<div>\n",
       "<style scoped>\n",
       "    .dataframe tbody tr th:only-of-type {\n",
       "        vertical-align: middle;\n",
       "    }\n",
       "\n",
       "    .dataframe tbody tr th {\n",
       "        vertical-align: top;\n",
       "    }\n",
       "\n",
       "    .dataframe thead th {\n",
       "        text-align: right;\n",
       "    }\n",
       "</style>\n",
       "<table border=\"1\" class=\"dataframe\">\n",
       "  <thead>\n",
       "    <tr style=\"text-align: right;\">\n",
       "      <th>CabinData</th>\n",
       "      <th>0</th>\n",
       "      <th>1</th>\n",
       "      <th>2</th>\n",
       "      <th>3</th>\n",
       "      <th>4</th>\n",
       "    </tr>\n",
       "    <tr>\n",
       "      <th>Survived</th>\n",
       "      <th></th>\n",
       "      <th></th>\n",
       "      <th></th>\n",
       "      <th></th>\n",
       "      <th></th>\n",
       "    </tr>\n",
       "  </thead>\n",
       "  <tbody>\n",
       "    <tr>\n",
       "      <th>0</th>\n",
       "      <td>481.0</td>\n",
       "      <td>58.0</td>\n",
       "      <td>7.0</td>\n",
       "      <td>3.0</td>\n",
       "      <td>NaN</td>\n",
       "    </tr>\n",
       "    <tr>\n",
       "      <th>1</th>\n",
       "      <td>206.0</td>\n",
       "      <td>122.0</td>\n",
       "      <td>9.0</td>\n",
       "      <td>3.0</td>\n",
       "      <td>2.0</td>\n",
       "    </tr>\n",
       "  </tbody>\n",
       "</table>\n",
       "</div>"
      ],
      "text/plain": [
       "CabinData      0      1    2    3    4\n",
       "Survived                              \n",
       "0          481.0   58.0  7.0  3.0  NaN\n",
       "1          206.0  122.0  9.0  3.0  2.0"
      ]
     },
     "execution_count": 26,
     "metadata": {},
     "output_type": "execute_result"
    }
   ],
   "source": [
    "pd.pivot_table(training_data, index = 'Survived', columns = 'CabinData', values = 'Ticket', aggfunc = 'count')"
   ]
  },
  {
   "cell_type": "code",
   "execution_count": 27,
   "id": "406e64b7",
   "metadata": {
    "execution": {
     "iopub.execute_input": "2022-11-15T02:39:09.151829Z",
     "iopub.status.busy": "2022-11-15T02:39:09.150688Z",
     "iopub.status.idle": "2022-11-15T02:39:09.186168Z",
     "shell.execute_reply": "2022-11-15T02:39:09.184418Z"
    },
    "papermill": {
     "duration": 0.05918,
     "end_time": "2022-11-15T02:39:09.189851",
     "exception": false,
     "start_time": "2022-11-15T02:39:09.130671",
     "status": "completed"
    },
    "tags": []
   },
   "outputs": [
    {
     "name": "stdout",
     "output_type": "stream",
     "text": [
      "83    644\n",
      "67    168\n",
      "81     77\n",
      "48      2\n",
      "Name: Embarked, dtype: int64\n"
     ]
    },
    {
     "data": {
      "text/html": [
       "<div>\n",
       "<style scoped>\n",
       "    .dataframe tbody tr th:only-of-type {\n",
       "        vertical-align: middle;\n",
       "    }\n",
       "\n",
       "    .dataframe tbody tr th {\n",
       "        vertical-align: top;\n",
       "    }\n",
       "\n",
       "    .dataframe thead th {\n",
       "        text-align: right;\n",
       "    }\n",
       "</style>\n",
       "<table border=\"1\" class=\"dataframe\">\n",
       "  <thead>\n",
       "    <tr style=\"text-align: right;\">\n",
       "      <th>Embarked</th>\n",
       "      <th>48</th>\n",
       "      <th>67</th>\n",
       "      <th>81</th>\n",
       "      <th>83</th>\n",
       "    </tr>\n",
       "    <tr>\n",
       "      <th>Survived</th>\n",
       "      <th></th>\n",
       "      <th></th>\n",
       "      <th></th>\n",
       "      <th></th>\n",
       "    </tr>\n",
       "  </thead>\n",
       "  <tbody>\n",
       "    <tr>\n",
       "      <th>0</th>\n",
       "      <td>NaN</td>\n",
       "      <td>75.0</td>\n",
       "      <td>47.0</td>\n",
       "      <td>427.0</td>\n",
       "    </tr>\n",
       "    <tr>\n",
       "      <th>1</th>\n",
       "      <td>2.0</td>\n",
       "      <td>93.0</td>\n",
       "      <td>30.0</td>\n",
       "      <td>217.0</td>\n",
       "    </tr>\n",
       "  </tbody>\n",
       "</table>\n",
       "</div>"
      ],
      "text/plain": [
       "Embarked   48    67    81     83\n",
       "Survived                        \n",
       "0         NaN  75.0  47.0  427.0\n",
       "1         2.0  93.0  30.0  217.0"
      ]
     },
     "execution_count": 27,
     "metadata": {},
     "output_type": "execute_result"
    }
   ],
   "source": [
    "# Cabin Categories \n",
    "# Convered all Cabin Letter Codes to Rooms to ints \n",
    "\n",
    "def char_to_int(c):\n",
    "    if isinstance(c, int):\n",
    "        return c\n",
    "    if not isinstance(c, str):\n",
    "        if math.isnan(c):\n",
    "            c = '0'\n",
    "    c = str(c)[0]\n",
    "    return ord(c)\n",
    "\n",
    "training_data['Embarked'] = training_data['Embarked'].map(char_to_int)\n",
    "testing_data['Embarked'] = testing_data['Embarked'].map(char_to_int)\n",
    "\n",
    "print(training_data.Embarked.value_counts())\n",
    "pd.pivot_table(training_data, index='Survived', columns='Embarked', values = 'Ticket', aggfunc='count')"
   ]
  },
  {
   "cell_type": "code",
   "execution_count": 28,
   "id": "a1fe2457",
   "metadata": {
    "execution": {
     "iopub.execute_input": "2022-11-15T02:39:09.226730Z",
     "iopub.status.busy": "2022-11-15T02:39:09.226132Z",
     "iopub.status.idle": "2022-11-15T02:39:09.266166Z",
     "shell.execute_reply": "2022-11-15T02:39:09.263949Z"
    },
    "papermill": {
     "duration": 0.063105,
     "end_time": "2022-11-15T02:39:09.270487",
     "exception": false,
     "start_time": "2022-11-15T02:39:09.207382",
     "status": "completed"
    },
    "tags": []
   },
   "outputs": [
    {
     "name": "stdout",
     "output_type": "stream",
     "text": [
      "110    687\n",
      "67      59\n",
      "66      47\n",
      "68      33\n",
      "69      32\n",
      "65      15\n",
      "70      13\n",
      "71       4\n",
      "84       1\n",
      "Name: CabinLetter, dtype: int64\n"
     ]
    },
    {
     "data": {
      "text/html": [
       "<div>\n",
       "<style scoped>\n",
       "    .dataframe tbody tr th:only-of-type {\n",
       "        vertical-align: middle;\n",
       "    }\n",
       "\n",
       "    .dataframe tbody tr th {\n",
       "        vertical-align: top;\n",
       "    }\n",
       "\n",
       "    .dataframe thead th {\n",
       "        text-align: right;\n",
       "    }\n",
       "</style>\n",
       "<table border=\"1\" class=\"dataframe\">\n",
       "  <thead>\n",
       "    <tr style=\"text-align: right;\">\n",
       "      <th>CabinLetter</th>\n",
       "      <th>65</th>\n",
       "      <th>66</th>\n",
       "      <th>67</th>\n",
       "      <th>68</th>\n",
       "      <th>69</th>\n",
       "      <th>70</th>\n",
       "      <th>71</th>\n",
       "      <th>84</th>\n",
       "      <th>110</th>\n",
       "    </tr>\n",
       "    <tr>\n",
       "      <th>Survived</th>\n",
       "      <th></th>\n",
       "      <th></th>\n",
       "      <th></th>\n",
       "      <th></th>\n",
       "      <th></th>\n",
       "      <th></th>\n",
       "      <th></th>\n",
       "      <th></th>\n",
       "      <th></th>\n",
       "    </tr>\n",
       "  </thead>\n",
       "  <tbody>\n",
       "    <tr>\n",
       "      <th>0</th>\n",
       "      <td>8.0</td>\n",
       "      <td>12.0</td>\n",
       "      <td>24.0</td>\n",
       "      <td>8.0</td>\n",
       "      <td>8.0</td>\n",
       "      <td>5.0</td>\n",
       "      <td>2.0</td>\n",
       "      <td>1.0</td>\n",
       "      <td>481.0</td>\n",
       "    </tr>\n",
       "    <tr>\n",
       "      <th>1</th>\n",
       "      <td>7.0</td>\n",
       "      <td>35.0</td>\n",
       "      <td>35.0</td>\n",
       "      <td>25.0</td>\n",
       "      <td>24.0</td>\n",
       "      <td>8.0</td>\n",
       "      <td>2.0</td>\n",
       "      <td>NaN</td>\n",
       "      <td>206.0</td>\n",
       "    </tr>\n",
       "  </tbody>\n",
       "</table>\n",
       "</div>"
      ],
      "text/plain": [
       "CabinLetter  65    66    67    68    69   70   71   84     110\n",
       "Survived                                                      \n",
       "0            8.0  12.0  24.0   8.0   8.0  5.0  2.0  1.0  481.0\n",
       "1            7.0  35.0  35.0  25.0  24.0  8.0  2.0  NaN  206.0"
      ]
     },
     "execution_count": 28,
     "metadata": {},
     "output_type": "execute_result"
    }
   ],
   "source": [
    "# Cabin Categories \n",
    "# Convered all Cabin Letter Codes to Rooms to ints \n",
    "def char_to_int(c):\n",
    "    if not isinstance(c, str):\n",
    "        if math.isnan(c):\n",
    "            c = '0'\n",
    "    return ord(c)\n",
    "\n",
    "training_data['CabinLetter'] = training_data.Cabin.apply(lambda x: str(x)[0])\n",
    "training_data['CabinLetter'] = training_data['CabinLetter'].map(char_to_int)\n",
    "\n",
    "testing_data['CabinLetter'] = testing_data.Cabin.apply(lambda x: str(x)[0])\n",
    "testing_data['CabinLetter'] = testing_data['CabinLetter'].map(char_to_int)\n",
    "\n",
    "print(training_data.CabinLetter.value_counts())\n",
    "pd.pivot_table(training_data, index='Survived', columns='CabinLetter', values = 'Ticket', aggfunc='count')"
   ]
  },
  {
   "cell_type": "code",
   "execution_count": 29,
   "id": "b9780d19",
   "metadata": {
    "execution": {
     "iopub.execute_input": "2022-11-15T02:39:09.310980Z",
     "iopub.status.busy": "2022-11-15T02:39:09.309944Z",
     "iopub.status.idle": "2022-11-15T02:39:09.399209Z",
     "shell.execute_reply": "2022-11-15T02:39:09.397752Z"
    },
    "papermill": {
     "duration": 0.112702,
     "end_time": "2022-11-15T02:39:09.402202",
     "exception": false,
     "start_time": "2022-11-15T02:39:09.289500",
     "status": "completed"
    },
    "tags": []
   },
   "outputs": [
    {
     "name": "stdout",
     "output_type": "stream",
     "text": [
      "0        21171\n",
      "1        17599\n",
      "2      3101282\n",
      "3       113803\n",
      "4       373450\n",
      "        ...   \n",
      "886     211536\n",
      "887     112053\n",
      "888       6607\n",
      "889     111369\n",
      "890     370376\n",
      "Name: Ticket, Length: 891, dtype: int64\n"
     ]
    },
    {
     "data": {
      "text/html": [
       "<div>\n",
       "<style scoped>\n",
       "    .dataframe tbody tr th:only-of-type {\n",
       "        vertical-align: middle;\n",
       "    }\n",
       "\n",
       "    .dataframe tbody tr th {\n",
       "        vertical-align: top;\n",
       "    }\n",
       "\n",
       "    .dataframe thead tr th {\n",
       "        text-align: left;\n",
       "    }\n",
       "\n",
       "    .dataframe thead tr:last-of-type th {\n",
       "        text-align: right;\n",
       "    }\n",
       "</style>\n",
       "<table border=\"1\" class=\"dataframe\">\n",
       "  <thead>\n",
       "    <tr>\n",
       "      <th></th>\n",
       "      <th colspan=\"10\" halign=\"left\">Age</th>\n",
       "      <th>...</th>\n",
       "      <th colspan=\"10\" halign=\"left\">SibSp</th>\n",
       "    </tr>\n",
       "    <tr>\n",
       "      <th>Ticket</th>\n",
       "      <th>0</th>\n",
       "      <th>3</th>\n",
       "      <th>541</th>\n",
       "      <th>693</th>\n",
       "      <th>695</th>\n",
       "      <th>751</th>\n",
       "      <th>752</th>\n",
       "      <th>851</th>\n",
       "      <th>1166</th>\n",
       "      <th>1585</th>\n",
       "      <th>...</th>\n",
       "      <th>3101296</th>\n",
       "      <th>3101298</th>\n",
       "      <th>3101305</th>\n",
       "      <th>3101306</th>\n",
       "      <th>3101307</th>\n",
       "      <th>3101310</th>\n",
       "      <th>3101311</th>\n",
       "      <th>3101312</th>\n",
       "      <th>3101316</th>\n",
       "      <th>3101317</th>\n",
       "    </tr>\n",
       "    <tr>\n",
       "      <th>Survived</th>\n",
       "      <th></th>\n",
       "      <th></th>\n",
       "      <th></th>\n",
       "      <th></th>\n",
       "      <th></th>\n",
       "      <th></th>\n",
       "      <th></th>\n",
       "      <th></th>\n",
       "      <th></th>\n",
       "      <th></th>\n",
       "      <th></th>\n",
       "      <th></th>\n",
       "      <th></th>\n",
       "      <th></th>\n",
       "      <th></th>\n",
       "      <th></th>\n",
       "      <th></th>\n",
       "      <th></th>\n",
       "      <th></th>\n",
       "      <th></th>\n",
       "      <th></th>\n",
       "    </tr>\n",
       "  </thead>\n",
       "  <tbody>\n",
       "    <tr>\n",
       "      <th>0</th>\n",
       "      <td>3.0</td>\n",
       "      <td>2.0</td>\n",
       "      <td>NaN</td>\n",
       "      <td>1.0</td>\n",
       "      <td>1.0</td>\n",
       "      <td>1.0</td>\n",
       "      <td>NaN</td>\n",
       "      <td>1.0</td>\n",
       "      <td>1.0</td>\n",
       "      <td>1.0</td>\n",
       "      <td>...</td>\n",
       "      <td>1.0</td>\n",
       "      <td>NaN</td>\n",
       "      <td>1.0</td>\n",
       "      <td>1.0</td>\n",
       "      <td>1.0</td>\n",
       "      <td>1.0</td>\n",
       "      <td>1.0</td>\n",
       "      <td>1.0</td>\n",
       "      <td>1.0</td>\n",
       "      <td>1.0</td>\n",
       "    </tr>\n",
       "    <tr>\n",
       "      <th>1</th>\n",
       "      <td>1.0</td>\n",
       "      <td>NaN</td>\n",
       "      <td>1.0</td>\n",
       "      <td>NaN</td>\n",
       "      <td>NaN</td>\n",
       "      <td>1.0</td>\n",
       "      <td>1.0</td>\n",
       "      <td>NaN</td>\n",
       "      <td>NaN</td>\n",
       "      <td>NaN</td>\n",
       "      <td>...</td>\n",
       "      <td>NaN</td>\n",
       "      <td>1.0</td>\n",
       "      <td>NaN</td>\n",
       "      <td>NaN</td>\n",
       "      <td>NaN</td>\n",
       "      <td>NaN</td>\n",
       "      <td>NaN</td>\n",
       "      <td>NaN</td>\n",
       "      <td>NaN</td>\n",
       "      <td>NaN</td>\n",
       "    </tr>\n",
       "  </tbody>\n",
       "</table>\n",
       "<p>2 rows × 8148 columns</p>\n",
       "</div>"
      ],
      "text/plain": [
       "             Age                                                          \\\n",
       "Ticket   0       3       541     693     695     751     752     851       \n",
       "Survived                                                                   \n",
       "0            3.0     2.0     NaN     1.0     1.0     1.0     NaN     1.0   \n",
       "1            1.0     NaN     1.0     NaN     NaN     1.0     1.0     NaN   \n",
       "\n",
       "                          ...   SibSp                                          \\\n",
       "Ticket   1166    1585     ... 3101296 3101298 3101305 3101306 3101307 3101310   \n",
       "Survived                  ...                                                   \n",
       "0            1.0     1.0  ...     1.0     NaN     1.0     1.0     1.0     1.0   \n",
       "1            NaN     NaN  ...     NaN     1.0     NaN     NaN     NaN     NaN   \n",
       "\n",
       "                                          \n",
       "Ticket   3101311 3101312 3101316 3101317  \n",
       "Survived                                  \n",
       "0            1.0     1.0     1.0     1.0  \n",
       "1            NaN     NaN     NaN     NaN  \n",
       "\n",
       "[2 rows x 8148 columns]"
      ]
     },
     "execution_count": 29,
     "metadata": {},
     "output_type": "execute_result"
    }
   ],
   "source": [
    "# Set all ticket numbers to integers\n",
    "def ticket_to_num(ticket):\n",
    "    if isinstance(ticket, int):\n",
    "        return ticket\n",
    "    if isinstance(ticket, str):\n",
    "        try:\n",
    "            if len(ticket.split(\" \")) > 1:\n",
    "                return int(ticket.split(\" \")[-1])\n",
    "            else:\n",
    "                return int(ticket)\n",
    "        except:\n",
    "            return 0\n",
    "    return 0\n",
    "            \n",
    "training_data['Ticket'] = training_data['Ticket'].map(ticket_to_num)\n",
    "testing_data['Ticket'] = testing_data['Ticket'].map(ticket_to_num)\n",
    "print(training_data['Ticket'])\n",
    "pd.pivot_table(training_data, index='Survived', columns='Ticket', aggfunc='count')"
   ]
  },
  {
   "cell_type": "code",
   "execution_count": 30,
   "id": "57ade02a",
   "metadata": {
    "execution": {
     "iopub.execute_input": "2022-11-15T02:39:09.440637Z",
     "iopub.status.busy": "2022-11-15T02:39:09.440192Z",
     "iopub.status.idle": "2022-11-15T02:39:09.895965Z",
     "shell.execute_reply": "2022-11-15T02:39:09.894943Z"
    },
    "papermill": {
     "duration": 0.47817,
     "end_time": "2022-11-15T02:39:09.898485",
     "exception": false,
     "start_time": "2022-11-15T02:39:09.420315",
     "status": "completed"
    },
    "tags": []
   },
   "outputs": [
    {
     "data": {
      "text/plain": [
       "<AxesSubplot:>"
      ]
     },
     "execution_count": 30,
     "metadata": {},
     "output_type": "execute_result"
    },
    {
     "data": {
      "image/png": "[encoded data removed]",
      "text/plain": [
       "<Figure size 432x288 with 2 Axes>"
      ]
     },
     "metadata": {
      "needs_background": "light"
     },
     "output_type": "display_data"
    }
   ],
   "source": [
    "# Plot correlation heatmap to observe what is correlated to survival with basic training data. \n",
    "sns.heatmap(training_data.corr(), cmap = \"Blues\", linewidths=0.5)"
   ]
  },
  {
   "cell_type": "code",
   "execution_count": 31,
   "id": "922505bb",
   "metadata": {
    "execution": {
     "iopub.execute_input": "2022-11-15T02:39:09.938045Z",
     "iopub.status.busy": "2022-11-15T02:39:09.936999Z",
     "iopub.status.idle": "2022-11-15T02:39:09.944536Z",
     "shell.execute_reply": "2022-11-15T02:39:09.942787Z"
    },
    "papermill": {
     "duration": 0.031208,
     "end_time": "2022-11-15T02:39:09.947977",
     "exception": false,
     "start_time": "2022-11-15T02:39:09.916769",
     "status": "completed"
    },
    "tags": []
   },
   "outputs": [],
   "source": [
    "# features = ['PassengerId', 'Pclass', 'Sex', 'Age', 'SibSp', 'Parch', 'Fare', \n",
    "#             'CabinLetter', 'Embarked', 'CabinData', 'CabinLetter']\n",
    "# X = training_data[features]\n",
    "# Y = training_data['Survived']\n",
    "# X_train, X_test, y_train, y_test = train_test_split(X, Y, test_size=0.53, train_size=0.47)\n",
    "# X_test = X_test[0:418]\n",
    "# X_train.shape, X_test.shape, y_train.shape, y_test.shape"
   ]
  },
  {
   "cell_type": "code",
   "execution_count": 32,
   "id": "120dfc4b",
   "metadata": {
    "execution": {
     "iopub.execute_input": "2022-11-15T02:39:09.989302Z",
     "iopub.status.busy": "2022-11-15T02:39:09.988875Z",
     "iopub.status.idle": "2022-11-15T02:39:10.008213Z",
     "shell.execute_reply": "2022-11-15T02:39:10.006722Z"
    },
    "papermill": {
     "duration": 0.043135,
     "end_time": "2022-11-15T02:39:10.011620",
     "exception": false,
     "start_time": "2022-11-15T02:39:09.968485",
     "status": "completed"
    },
    "tags": []
   },
   "outputs": [
    {
     "name": "stdout",
     "output_type": "stream",
     "text": [
      "X_train shape: (891, 11)\n",
      "Y_train shape: (891,)\n",
      "X_test shape: (891, 11)\n"
     ]
    }
   ],
   "source": [
    "features = ['PassengerId', 'Pclass', 'Sex', 'Age', 'SibSp', 'Parch', 'Fare', \n",
    "            'CabinLetter', 'Embarked', 'CabinData', 'CabinLetter']\n",
    "\n",
    "X = training_data[features]\n",
    "Y = training_data['Survived']\n",
    "X_train = StandardScaler().fit_transform(X)\n",
    "y_train = training_data['Survived'].values\n",
    "X_test = StandardScaler().fit_transform(training_data[features])\n",
    "\n",
    "print('X_train shape: {}'.format(X_train.shape))\n",
    "print('Y_train shape: {}'.format(y_train.shape))\n",
    "print('X_test shape: {}'.format(X_test.shape))"
   ]
  },
  {
   "cell_type": "markdown",
   "id": "6f85a0a2",
   "metadata": {
    "papermill": {
     "duration": 0.018828,
     "end_time": "2022-11-15T02:39:10.049935",
     "exception": false,
     "start_time": "2022-11-15T02:39:10.031107",
     "status": "completed"
    },
    "tags": []
   },
   "source": [
    "**Testing Various Models:**\n",
    "1. Random Forrest Classifier \n",
    "2. Gradient Boost Model\n",
    "3. Perceptron"
   ]
  },
  {
   "cell_type": "code",
   "execution_count": 33,
   "id": "e4e7133e",
   "metadata": {
    "execution": {
     "iopub.execute_input": "2022-11-15T02:39:10.089664Z",
     "iopub.status.busy": "2022-11-15T02:39:10.088995Z",
     "iopub.status.idle": "2022-11-15T02:39:36.890090Z",
     "shell.execute_reply": "2022-11-15T02:39:36.888797Z"
    },
    "papermill": {
     "duration": 26.823961,
     "end_time": "2022-11-15T02:39:36.893268",
     "exception": false,
     "start_time": "2022-11-15T02:39:10.069307",
     "status": "completed"
    },
    "tags": []
   },
   "outputs": [
    {
     "name": "stdout",
     "output_type": "stream",
     "text": [
      "Max Prediction: 1.0 with 50 predictors\n",
      "Min Prediction: 1.0 with 50 predictors\n",
      "Median Prediction: 1.0 with 50 predictors\n",
      "Mean Prediction: 1.0\n",
      "Standard Deviation of Predictions is: 0.0\n"
     ]
    }
   ],
   "source": [
    "# Random Forest \n",
    "\n",
    "rf_predictions = []\n",
    "rf_n_estimators = []\n",
    "rf_prediction_to_estimators = {}\n",
    "starting_index = 50\n",
    "step = 50\n",
    "for i in range(starting_index,1000, step):\n",
    "    random_forest_model = RandomForestClassifier(n_estimators=i)\n",
    "    random_forest_model.fit(X_train, y_train)\n",
    "    rf_prediction = random_forest_model.predict(X_test)\n",
    "    rf_predictions.append(random_forest_model.score(X_train, y_train))\n",
    "    rf_prediction_to_estimators[i] = rf_prediction\n",
    "    rf_n_estimators.append(i)\n",
    "\n",
    "rf_best_estimators = rf_n_estimators[rf_predictions.index(max(rf_predictions))]\n",
    "best_i = rf_predictions.index(max(rf_predictions))*step + starting_index\n",
    "rf_prediction = rf_prediction_to_estimators[best_i]\n",
    "print(\"Max Prediction: \" + str(max(rf_predictions)) + \" with \" \n",
    "      + str(rf_n_estimators[rf_predictions.index(max(rf_predictions))]) + \" predictors\")\n",
    "print(\"Min Prediction: \" + str(min(rf_predictions)) + \" with \" \n",
    "      + str(rf_n_estimators[rf_predictions.index(min(rf_predictions))]) + \" predictors\") \n",
    "print(\"Median Prediction: \" + str(statistics.median(rf_predictions)) + \" with \" \n",
    "      + str(rf_n_estimators[rf_predictions.index(statistics.median(rf_predictions))]) + \" predictors\") \n",
    "print(\"Mean Prediction: \" + str(statistics.mean(rf_predictions))) \n",
    "print(\"Standard Deviation of Predictions is: \" + str(statistics.stdev(rf_predictions)))"
   ]
  },
  {
   "cell_type": "code",
   "execution_count": 34,
   "id": "abf880db",
   "metadata": {
    "execution": {
     "iopub.execute_input": "2022-11-15T02:39:36.933217Z",
     "iopub.status.busy": "2022-11-15T02:39:36.932818Z",
     "iopub.status.idle": "2022-11-15T02:39:53.496585Z",
     "shell.execute_reply": "2022-11-15T02:39:53.495714Z"
    },
    "papermill": {
     "duration": 16.586378,
     "end_time": "2022-11-15T02:39:53.498978",
     "exception": false,
     "start_time": "2022-11-15T02:39:36.912600",
     "status": "completed"
    },
    "tags": []
   },
   "outputs": [
    {
     "name": "stdout",
     "output_type": "stream",
     "text": [
      "Max Prediction: 1.0 with 750 predictors\n",
      "Min Prediction: 0.8720538720538721 with 50 predictors\n",
      "Median Prediction: 0.9938271604938271\n",
      "Mean Prediction: 0.9735129068462401\n",
      "Standard Deviation of Predictions is: 0.038665752984121754\n"
     ]
    }
   ],
   "source": [
    "# Gradient Boost Model\n",
    "gb_predictions = []\n",
    "gb_n_estimators = []\n",
    "gb_prediction_to_estimators = {}\n",
    "starting_index = 50\n",
    "for i in range(starting_index,1001, 50):\n",
    "    gradient_boost_model = GradientBoostingClassifier(n_estimators = i)\n",
    "    gradient_boost_model.fit(X_train, y_train)\n",
    "    gb_prediction = gradient_boost_model.predict(X_test)\n",
    "    gb_predictions.append(gradient_boost_model.score(X_train, y_train))\n",
    "    gb_prediction_to_estimators[i] = gb_prediction\n",
    "    gb_n_estimators.append(i)\n",
    "\n",
    "best_i = gb_predictions.index(max(gb_predictions))*step + starting_index\n",
    "gb_prediction = gb_prediction_to_estimators[best_i]  \n",
    "print(\"Max Prediction: \" + str(max(gb_predictions)) + \" with \" \n",
    "      + str(gb_n_estimators[gb_predictions.index(max(gb_predictions))]) + \" predictors\")\n",
    "print(\"Min Prediction: \" + str(min(gb_predictions)) + \" with \" \n",
    "      + str(gb_n_estimators[gb_predictions.index(min(gb_predictions))]) + \" predictors\") \n",
    "print(\"Median Prediction: \" + str(statistics.median(gb_predictions))) \n",
    "print(\"Mean Prediction: \" + str(statistics.mean(gb_predictions))) \n",
    "print(\"Standard Deviation of Predictions is: \" + str(statistics.stdev(gb_predictions)))"
   ]
  },
  {
   "cell_type": "code",
   "execution_count": 35,
   "id": "a2308e09",
   "metadata": {
    "execution": {
     "iopub.execute_input": "2022-11-15T02:39:53.538618Z",
     "iopub.status.busy": "2022-11-15T02:39:53.537902Z",
     "iopub.status.idle": "2022-11-15T02:39:53.636664Z",
     "shell.execute_reply": "2022-11-15T02:39:53.635270Z"
    },
    "papermill": {
     "duration": 0.125002,
     "end_time": "2022-11-15T02:39:53.642945",
     "exception": false,
     "start_time": "2022-11-15T02:39:53.517943",
     "status": "completed"
    },
    "tags": []
   },
   "outputs": [
    {
     "name": "stdout",
     "output_type": "stream",
     "text": [
      "Max Prediction: 0.7362514029180696 with 50 predictors\n",
      "Min Prediction: 0.7362514029180696 with 50 predictors\n",
      "Median Prediction: 0.7362514029180696 with 50 predictors\n",
      "Mean Prediction: 0.7362514029180696\n",
      "Standard Deviation of Predictions is: 0.0\n"
     ]
    }
   ],
   "source": [
    "# Perceptron\n",
    "p_predictions = []\n",
    "p_n_estimators = []\n",
    "p_prediction_to_estimators = {}\n",
    "starting_index = 50\n",
    "step = 50\n",
    "for i in range(starting_index,1001, step):\n",
    "    perceptron_model = Perceptron(max_iter=i)\n",
    "    perceptron_model.fit(X_train, y_train)\n",
    "    p_prediction = perceptron_model.predict(X_test)\n",
    "    p_predictions.append(perceptron_model.score(X_train, y_train))\n",
    "    p_prediction_to_estimators[i] = p_prediction\n",
    "    p_n_estimators.append(i)\n",
    "\n",
    "best_i = p_predictions.index(max(p_predictions))*step + starting_index\n",
    "p_prediction = p_prediction_to_estimators[best_i]\n",
    "print(\"Max Prediction: \" + str(max(p_predictions)) + \" with \" \n",
    "      + str(p_n_estimators[p_predictions.index(max(p_predictions))]) + \" predictors\")\n",
    "print(\"Min Prediction: \" + str(min(p_predictions)) + \" with \" \n",
    "      + str(p_n_estimators[p_predictions.index(min(p_predictions))]) + \" predictors\") \n",
    "print(\"Median Prediction: \" + str(statistics.median(p_predictions)) + \" with \" \n",
    "      + str(p_n_estimators[p_predictions.index(statistics.median(p_predictions))]) + \" predictors\") \n",
    "print(\"Mean Prediction: \" + str(statistics.mean(p_predictions))) \n",
    "print(\"Standard Deviation of Predictions is: \" + str(statistics.stdev(p_predictions)))"
   ]
  },
  {
   "cell_type": "code",
   "execution_count": 36,
   "id": "eb46bde3",
   "metadata": {
    "execution": {
     "iopub.execute_input": "2022-11-15T02:39:53.742258Z",
     "iopub.status.busy": "2022-11-15T02:39:53.741540Z",
     "iopub.status.idle": "2022-11-15T02:39:53.761417Z",
     "shell.execute_reply": "2022-11-15T02:39:53.759743Z"
    },
    "papermill": {
     "duration": 0.072814,
     "end_time": "2022-11-15T02:39:53.763905",
     "exception": false,
     "start_time": "2022-11-15T02:39:53.691091",
     "status": "completed"
    },
    "tags": []
   },
   "outputs": [
    {
     "name": "stdout",
     "output_type": "stream",
     "text": [
      "Perceptron F1 Scores: \n",
      "0.6647646219686163\n",
      "Gradient Boost F1 Scores: \n",
      "1.0\n",
      "Random Forest F1 Scores: \n",
      "1.0\n",
      "Perceptron AUC Scores: \n",
      "0.7258891764931454\n",
      "Gradient Boost AUC Scores: \n",
      "1.0\n",
      "Random Forest AUC Scores: \n",
      "1.0\n"
     ]
    }
   ],
   "source": [
    "print(\"Perceptron F1 Scores: \")\n",
    "print(f1_score(y_train, p_prediction))\n",
    "print(\"Gradient Boost F1 Scores: \")\n",
    "print(f1_score(y_train, gb_prediction))\n",
    "print(\"Random Forest F1 Scores: \")\n",
    "print(f1_score(y_train, rf_prediction))\n",
    "print(\"Perceptron AUC Scores: \")\n",
    "fpr, tpr, thresholds = metrics.roc_curve(y_train, p_prediction)\n",
    "print(metrics.auc(fpr, tpr))\n",
    "print(\"Gradient Boost AUC Scores: \")\n",
    "fpr, tpr, thresholds = metrics.roc_curve(y_train, gb_prediction)\n",
    "print(metrics.auc(fpr, tpr))\n",
    "print(\"Random Forest AUC Scores: \")\n",
    "fpr, tpr, thresholds = metrics.roc_curve(y_train, rf_prediction)\n",
    "print(metrics.auc(fpr, tpr))"
   ]
  },
  {
   "cell_type": "markdown",
   "id": "3bad750a",
   "metadata": {
    "papermill": {
     "duration": 0.018191,
     "end_time": "2022-11-15T02:39:53.800549",
     "exception": false,
     "start_time": "2022-11-15T02:39:53.782358",
     "status": "completed"
    },
    "tags": []
   },
   "source": [
    "Cross Validation for each model used is included below:"
   ]
  },
  {
   "cell_type": "code",
   "execution_count": 37,
   "id": "b6522570",
   "metadata": {
    "execution": {
     "iopub.execute_input": "2022-11-15T02:39:53.840473Z",
     "iopub.status.busy": "2022-11-15T02:39:53.840052Z",
     "iopub.status.idle": "2022-11-15T02:39:57.535368Z",
     "shell.execute_reply": "2022-11-15T02:39:57.534129Z"
    },
    "papermill": {
     "duration": 3.718227,
     "end_time": "2022-11-15T02:39:57.537878",
     "exception": false,
     "start_time": "2022-11-15T02:39:53.819651",
     "status": "completed"
    },
    "tags": []
   },
   "outputs": [
    {
     "name": "stdout",
     "output_type": "stream",
     "text": [
      "==============================\n",
      "Perceptron Cross Validation\n",
      "Scores: [0.66666667 0.64044944 0.70786517 0.76404494 0.84269663 0.75280899\n",
      " 0.70786517 0.71910112 0.69662921 0.74157303]\n",
      "Mean: 0.7239700374531834\n",
      "Standard Deviation: 0.05328496944440168\n",
      "==============================\n",
      "Random Forest Cross Validation\n",
      "Scores: [0.8        0.78651685 0.75280899 0.80898876 0.88764045 0.84269663\n",
      " 0.80898876 0.78651685 0.85393258 0.85393258]\n",
      "Mean: 0.8182022471910113\n",
      "Standard Deviation: 0.038419080602272976\n",
      "==============================\n",
      "Gradient Boost Cross Validation\n",
      "Scores: [0.81111111 0.71910112 0.76404494 0.75280899 0.87640449 0.82022472\n",
      " 0.82022472 0.78651685 0.86516854 0.82022472]\n",
      "Mean: 0.8035830212234707\n",
      "Standard Deviation: 0.04642516611148235\n",
      "Cross Validation Means: \n",
      "{'p_mean': 0.7239700374531834, 'rf_mean': 0.8182022471910113, 'gb_mean': 0.8035830212234707}\n"
     ]
    }
   ],
   "source": [
    "# Cross Validation method is used to further evaluate the scores of the models \n",
    "perceptron_model = Perceptron()\n",
    "perceptron_scores = cross_val_score(perceptron_model, X_train, y_train, cv=10, scoring = \"accuracy\")\n",
    "random_forest_model = RandomForestClassifier()\n",
    "random_forest_scores = cross_val_score(random_forest_model, X_train, y_train, cv=10, scoring = \"accuracy\")\n",
    "gradient_boost_model = GradientBoostingClassifier()\n",
    "gradient_boost_scores = cross_val_score(gradient_boost_model, X_train, y_train, cv=10, scoring = \"accuracy\")\n",
    "cross_validation_means = {}\n",
    "print(\"==============================\")\n",
    "print(\"Perceptron Cross Validation\")\n",
    "print(\"Scores:\", perceptron_scores)\n",
    "cross_validation_means[\"p_mean\"] = perceptron_scores.mean()\n",
    "print(\"Mean:\", perceptron_scores.mean())\n",
    "print(\"Standard Deviation:\", perceptron_scores.std())\n",
    "print(\"==============================\")\n",
    "print(\"Random Forest Cross Validation\")\n",
    "print(\"Scores:\", random_forest_scores)\n",
    "cross_validation_means[\"rf_mean\"] = random_forest_scores.mean()\n",
    "print(\"Mean:\", random_forest_scores.mean())\n",
    "print(\"Standard Deviation:\", random_forest_scores.std())\n",
    "print(\"==============================\")\n",
    "print(\"Gradient Boost Cross Validation\")\n",
    "print(\"Scores:\", gradient_boost_scores)\n",
    "cross_validation_means[\"gb_mean\"] = gradient_boost_scores.mean()\n",
    "print(\"Mean:\", gradient_boost_scores.mean())\n",
    "print(\"Standard Deviation:\", gradient_boost_scores.std())\n",
    "print(\"Cross Validation Means: \")\n",
    "print(cross_validation_means)"
   ]
  },
  {
   "cell_type": "markdown",
   "id": "52387a39",
   "metadata": {
    "papermill": {
     "duration": 0.018255,
     "end_time": "2022-11-15T02:39:57.574490",
     "exception": false,
     "start_time": "2022-11-15T02:39:57.556235",
     "status": "completed"
    },
    "tags": []
   },
   "source": [
    "**Submission:**\n",
    "Preparing the submission csv with the best performing predictor "
   ]
  },
  {
   "cell_type": "code",
   "execution_count": 38,
   "id": "42021e2a",
   "metadata": {
    "execution": {
     "iopub.execute_input": "2022-11-15T02:39:57.614658Z",
     "iopub.status.busy": "2022-11-15T02:39:57.613985Z",
     "iopub.status.idle": "2022-11-15T02:39:57.628430Z",
     "shell.execute_reply": "2022-11-15T02:39:57.626816Z"
    },
    "papermill": {
     "duration": 0.037162,
     "end_time": "2022-11-15T02:39:57.631122",
     "exception": false,
     "start_time": "2022-11-15T02:39:57.593960",
     "status": "completed"
    },
    "tags": []
   },
   "outputs": [
    {
     "name": "stdout",
     "output_type": "stream",
     "text": [
      "Random Forest is the best prediction\n",
      "418\n",
      "418\n"
     ]
    }
   ],
   "source": [
    "# Randfom Forest has the best score. In the event that anything changes, \n",
    "# this code selects the best prediction based on the mean cross validation score\n",
    "max_mean_cross_validation_score = max(cross_validation_means, key = cross_validation_means.get)\n",
    "predictions = {\"rf\": rf_prediction, \"gb\": gb_prediction, \"p\": p_prediction}\n",
    "prediction_names = {\"rf\": \"Random Forest\", \"gb\": \"Gradient Boost\", \"p\": \"Perceptron\"}\n",
    "best_prediction_prefix = max_mean_cross_validation_score.split(\"_\")[0]\n",
    "best_prediction = predictions[best_prediction_prefix]\n",
    "print(prediction_names[best_prediction_prefix] + \" is the best prediction\")\n",
    "best_prediction = rf_prediction[:418]\n",
    "submission = pd.DataFrame({\n",
    "        \"PassengerId\": testing_data[\"PassengerId\"],\n",
    "        \"Survived\": best_prediction\n",
    "    })\n",
    "\n",
    "submission.to_csv('submission.csv', index=False)\n",
    "print(len(testing_data[\"PassengerId\"]))\n",
    "print(len(best_prediction))"
   ]
  },
  {
   "cell_type": "code",
   "execution_count": 39,
   "id": "bd63e9a9",
   "metadata": {
    "execution": {
     "iopub.execute_input": "2022-11-15T02:39:57.670157Z",
     "iopub.status.busy": "2022-11-15T02:39:57.669636Z",
     "iopub.status.idle": "2022-11-15T02:39:57.682709Z",
     "shell.execute_reply": "2022-11-15T02:39:57.681886Z"
    },
    "papermill": {
     "duration": 0.035066,
     "end_time": "2022-11-15T02:39:57.684773",
     "exception": false,
     "start_time": "2022-11-15T02:39:57.649707",
     "status": "completed"
    },
    "tags": []
   },
   "outputs": [
    {
     "data": {
      "text/html": [
       "<div>\n",
       "<style scoped>\n",
       "    .dataframe tbody tr th:only-of-type {\n",
       "        vertical-align: middle;\n",
       "    }\n",
       "\n",
       "    .dataframe tbody tr th {\n",
       "        vertical-align: top;\n",
       "    }\n",
       "\n",
       "    .dataframe thead th {\n",
       "        text-align: right;\n",
       "    }\n",
       "</style>\n",
       "<table border=\"1\" class=\"dataframe\">\n",
       "  <thead>\n",
       "    <tr style=\"text-align: right;\">\n",
       "      <th></th>\n",
       "      <th>PassengerId</th>\n",
       "      <th>Survived</th>\n",
       "    </tr>\n",
       "  </thead>\n",
       "  <tbody>\n",
       "    <tr>\n",
       "      <th>0</th>\n",
       "      <td>892</td>\n",
       "      <td>0</td>\n",
       "    </tr>\n",
       "    <tr>\n",
       "      <th>1</th>\n",
       "      <td>893</td>\n",
       "      <td>1</td>\n",
       "    </tr>\n",
       "    <tr>\n",
       "      <th>2</th>\n",
       "      <td>894</td>\n",
       "      <td>1</td>\n",
       "    </tr>\n",
       "    <tr>\n",
       "      <th>3</th>\n",
       "      <td>895</td>\n",
       "      <td>1</td>\n",
       "    </tr>\n",
       "    <tr>\n",
       "      <th>4</th>\n",
       "      <td>896</td>\n",
       "      <td>0</td>\n",
       "    </tr>\n",
       "    <tr>\n",
       "      <th>5</th>\n",
       "      <td>897</td>\n",
       "      <td>0</td>\n",
       "    </tr>\n",
       "    <tr>\n",
       "      <th>6</th>\n",
       "      <td>898</td>\n",
       "      <td>0</td>\n",
       "    </tr>\n",
       "    <tr>\n",
       "      <th>7</th>\n",
       "      <td>899</td>\n",
       "      <td>0</td>\n",
       "    </tr>\n",
       "    <tr>\n",
       "      <th>8</th>\n",
       "      <td>900</td>\n",
       "      <td>1</td>\n",
       "    </tr>\n",
       "    <tr>\n",
       "      <th>9</th>\n",
       "      <td>901</td>\n",
       "      <td>1</td>\n",
       "    </tr>\n",
       "  </tbody>\n",
       "</table>\n",
       "</div>"
      ],
      "text/plain": [
       "   PassengerId  Survived\n",
       "0          892         0\n",
       "1          893         1\n",
       "2          894         1\n",
       "3          895         1\n",
       "4          896         0\n",
       "5          897         0\n",
       "6          898         0\n",
       "7          899         0\n",
       "8          900         1\n",
       "9          901         1"
      ]
     },
     "execution_count": 39,
     "metadata": {},
     "output_type": "execute_result"
    }
   ],
   "source": [
    "data = pd.read_csv(\"submission.csv\")\n",
    "data.head(10)"
   ]
  }
 ],
 "metadata": {
  "kernelspec": {
   "display_name": "Python 3",
   "language": "python",
   "name": "python3"
  },
  "language_info": {
   "codemirror_mode": {
    "name": "ipython",
    "version": 3
   },
   "file_extension": ".py",
   "mimetype": "text/x-python",
   "name": "python",
   "nbconvert_exporter": "python",
   "pygments_lexer": "ipython3",
   "version": "3.7.12"
  },
  "papermill": {
   "default_parameters": {},
   "duration": 66.658849,
   "end_time": "2022-11-15T02:39:58.626557",
   "environment_variables": {},
   "exception": null,
   "input_path": "__notebook__.ipynb",
   "output_path": "__notebook__.ipynb",
   "parameters": {},
   "start_time": "2022-11-15T02:38:51.967708",
   "version": "2.3.4"
  }
 },
 "nbformat": 4,
 "nbformat_minor": 5
}
