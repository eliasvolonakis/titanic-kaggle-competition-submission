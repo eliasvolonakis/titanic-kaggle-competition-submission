{
 "cells": [
  {
   "cell_type": "markdown",
   "id": "166ac208",
   "metadata": {
    "papermill": {
     "duration": 0.011034,
     "end_time": "2022-11-13T17:31:25.091385",
     "exception": false,
     "start_time": "2022-11-13T17:31:25.080351",
     "status": "completed"
    },
    "tags": []
   },
   "source": [
    "**Overview of Notebook:**\n",
    "1. All required imports and data collection\n",
    "2. Exploratory Data Analysis (EDA)\n",
    "3. Feature Engineering\n",
    "4. Testing Various Models\n",
    "5. Preparing the CSV Submission"
   ]
  },
  {
   "cell_type": "code",
   "execution_count": 1,
   "id": "213a6d26",
   "metadata": {
    "execution": {
     "iopub.execute_input": "2022-11-13T17:31:25.111943Z",
     "iopub.status.busy": "2022-11-13T17:31:25.111068Z",
     "iopub.status.idle": "2022-11-13T17:31:26.863659Z",
     "shell.execute_reply": "2022-11-13T17:31:26.861976Z"
    },
    "papermill": {
     "duration": 1.766459,
     "end_time": "2022-11-13T17:31:26.866960",
     "exception": false,
     "start_time": "2022-11-13T17:31:25.100501",
     "status": "completed"
    },
    "tags": []
   },
   "outputs": [
    {
     "name": "stdout",
     "output_type": "stream",
     "text": [
      "/kaggle/input/titanic/train.csv\n",
      "/kaggle/input/titanic/test.csv\n",
      "/kaggle/input/titanic/gender_submission.csv\n"
     ]
    }
   ],
   "source": [
    "# All required import statements \n",
    "import math\n",
    "import numpy as np \n",
    "import pandas as pd \n",
    "import seaborn as sns\n",
    "from matplotlib import pyplot as plt\n",
    "from sklearn.model_selection import train_test_split\n",
    "from numpy import median\n",
    "import statistics\n",
    "from sklearn.ensemble import RandomForestClassifier\n",
    "from sklearn.ensemble import GradientBoostingClassifier\n",
    "from sklearn.linear_model import Perceptron\n",
    "from sklearn.model_selection import cross_val_score\n",
    "from sklearn.metrics import f1_score\n",
    "%matplotlib inline\n",
    "\n",
    "import os\n",
    "for dirname, _, filenames in os.walk('/kaggle/input'):\n",
    "    for filename in filenames:\n",
    "        print(os.path.join(dirname, filename))"
   ]
  },
  {
   "cell_type": "code",
   "execution_count": 2,
   "id": "a3a69aff",
   "metadata": {
    "execution": {
     "iopub.execute_input": "2022-11-13T17:31:26.888370Z",
     "iopub.status.busy": "2022-11-13T17:31:26.887348Z",
     "iopub.status.idle": "2022-11-13T17:31:26.957958Z",
     "shell.execute_reply": "2022-11-13T17:31:26.956462Z"
    },
    "papermill": {
     "duration": 0.084654,
     "end_time": "2022-11-13T17:31:26.960877",
     "exception": false,
     "start_time": "2022-11-13T17:31:26.876223",
     "status": "completed"
    },
    "tags": []
   },
   "outputs": [
    {
     "name": "stdout",
     "output_type": "stream",
     "text": [
      "<class 'pandas.core.frame.DataFrame'>\n",
      "RangeIndex: 891 entries, 0 to 890\n",
      "Data columns (total 12 columns):\n",
      " #   Column       Non-Null Count  Dtype  \n",
      "---  ------       --------------  -----  \n",
      " 0   PassengerId  891 non-null    int64  \n",
      " 1   Survived     891 non-null    int64  \n",
      " 2   Pclass       891 non-null    int64  \n",
      " 3   Name         891 non-null    object \n",
      " 4   Sex          891 non-null    object \n",
      " 5   Age          714 non-null    float64\n",
      " 6   SibSp        891 non-null    int64  \n",
      " 7   Parch        891 non-null    int64  \n",
      " 8   Ticket       891 non-null    object \n",
      " 9   Fare         891 non-null    float64\n",
      " 10  Cabin        204 non-null    object \n",
      " 11  Embarked     889 non-null    object \n",
      "dtypes: float64(2), int64(5), object(5)\n",
      "memory usage: 83.7+ KB\n",
      "<class 'pandas.core.frame.DataFrame'>\n",
      "RangeIndex: 418 entries, 0 to 417\n",
      "Data columns (total 11 columns):\n",
      " #   Column       Non-Null Count  Dtype  \n",
      "---  ------       --------------  -----  \n",
      " 0   PassengerId  418 non-null    int64  \n",
      " 1   Pclass       418 non-null    int64  \n",
      " 2   Name         418 non-null    object \n",
      " 3   Sex          418 non-null    object \n",
      " 4   Age          332 non-null    float64\n",
      " 5   SibSp        418 non-null    int64  \n",
      " 6   Parch        418 non-null    int64  \n",
      " 7   Ticket       418 non-null    object \n",
      " 8   Fare         417 non-null    float64\n",
      " 9   Cabin        91 non-null     object \n",
      " 10  Embarked     418 non-null    object \n",
      "dtypes: float64(2), int64(4), object(5)\n",
      "memory usage: 36.0+ KB\n"
     ]
    }
   ],
   "source": [
    "# Examine the head of the dataset to get an initial understanding of what the data looks like\n",
    "training_data = pd.read_csv(\"../input/titanic/train.csv\")\n",
    "testing_data = pd.read_csv(\"../input/titanic/test.csv\")\n",
    "\n",
    "training_data.info()\n",
    "testing_data.info()"
   ]
  },
  {
   "cell_type": "markdown",
   "id": "a1480207",
   "metadata": {
    "papermill": {
     "duration": 0.009067,
     "end_time": "2022-11-13T17:31:26.979158",
     "exception": false,
     "start_time": "2022-11-13T17:31:26.970091",
     "status": "completed"
    },
    "tags": []
   },
   "source": [
    "**Exploratory Data Analysis (EDA):**\n",
    "\n",
    "Now that the data has been collected, some exploratory data analysis is required "
   ]
  },
  {
   "cell_type": "code",
   "execution_count": 3,
   "id": "92ab79de",
   "metadata": {
    "execution": {
     "iopub.execute_input": "2022-11-13T17:31:27.002557Z",
     "iopub.status.busy": "2022-11-13T17:31:27.002084Z",
     "iopub.status.idle": "2022-11-13T17:31:27.050491Z",
     "shell.execute_reply": "2022-11-13T17:31:27.049064Z"
    },
    "papermill": {
     "duration": 0.062152,
     "end_time": "2022-11-13T17:31:27.053153",
     "exception": false,
     "start_time": "2022-11-13T17:31:26.991001",
     "status": "completed"
    },
    "tags": []
   },
   "outputs": [
    {
     "data": {
      "text/html": [
       "<div>\n",
       "<style scoped>\n",
       "    .dataframe tbody tr th:only-of-type {\n",
       "        vertical-align: middle;\n",
       "    }\n",
       "\n",
       "    .dataframe tbody tr th {\n",
       "        vertical-align: top;\n",
       "    }\n",
       "\n",
       "    .dataframe thead th {\n",
       "        text-align: right;\n",
       "    }\n",
       "</style>\n",
       "<table border=\"1\" class=\"dataframe\">\n",
       "  <thead>\n",
       "    <tr style=\"text-align: right;\">\n",
       "      <th></th>\n",
       "      <th>PassengerId</th>\n",
       "      <th>Survived</th>\n",
       "      <th>Pclass</th>\n",
       "      <th>Age</th>\n",
       "      <th>SibSp</th>\n",
       "      <th>Parch</th>\n",
       "      <th>Fare</th>\n",
       "    </tr>\n",
       "  </thead>\n",
       "  <tbody>\n",
       "    <tr>\n",
       "      <th>count</th>\n",
       "      <td>891.000000</td>\n",
       "      <td>891.000000</td>\n",
       "      <td>891.000000</td>\n",
       "      <td>714.000000</td>\n",
       "      <td>891.000000</td>\n",
       "      <td>891.000000</td>\n",
       "      <td>891.000000</td>\n",
       "    </tr>\n",
       "    <tr>\n",
       "      <th>mean</th>\n",
       "      <td>446.000000</td>\n",
       "      <td>0.383838</td>\n",
       "      <td>2.308642</td>\n",
       "      <td>29.699118</td>\n",
       "      <td>0.523008</td>\n",
       "      <td>0.381594</td>\n",
       "      <td>32.204208</td>\n",
       "    </tr>\n",
       "    <tr>\n",
       "      <th>std</th>\n",
       "      <td>257.353842</td>\n",
       "      <td>0.486592</td>\n",
       "      <td>0.836071</td>\n",
       "      <td>14.526497</td>\n",
       "      <td>1.102743</td>\n",
       "      <td>0.806057</td>\n",
       "      <td>49.693429</td>\n",
       "    </tr>\n",
       "    <tr>\n",
       "      <th>min</th>\n",
       "      <td>1.000000</td>\n",
       "      <td>0.000000</td>\n",
       "      <td>1.000000</td>\n",
       "      <td>0.420000</td>\n",
       "      <td>0.000000</td>\n",
       "      <td>0.000000</td>\n",
       "      <td>0.000000</td>\n",
       "    </tr>\n",
       "    <tr>\n",
       "      <th>25%</th>\n",
       "      <td>223.500000</td>\n",
       "      <td>0.000000</td>\n",
       "      <td>2.000000</td>\n",
       "      <td>20.125000</td>\n",
       "      <td>0.000000</td>\n",
       "      <td>0.000000</td>\n",
       "      <td>7.910400</td>\n",
       "    </tr>\n",
       "    <tr>\n",
       "      <th>50%</th>\n",
       "      <td>446.000000</td>\n",
       "      <td>0.000000</td>\n",
       "      <td>3.000000</td>\n",
       "      <td>28.000000</td>\n",
       "      <td>0.000000</td>\n",
       "      <td>0.000000</td>\n",
       "      <td>14.454200</td>\n",
       "    </tr>\n",
       "    <tr>\n",
       "      <th>75%</th>\n",
       "      <td>668.500000</td>\n",
       "      <td>1.000000</td>\n",
       "      <td>3.000000</td>\n",
       "      <td>38.000000</td>\n",
       "      <td>1.000000</td>\n",
       "      <td>0.000000</td>\n",
       "      <td>31.000000</td>\n",
       "    </tr>\n",
       "    <tr>\n",
       "      <th>max</th>\n",
       "      <td>891.000000</td>\n",
       "      <td>1.000000</td>\n",
       "      <td>3.000000</td>\n",
       "      <td>80.000000</td>\n",
       "      <td>8.000000</td>\n",
       "      <td>6.000000</td>\n",
       "      <td>512.329200</td>\n",
       "    </tr>\n",
       "  </tbody>\n",
       "</table>\n",
       "</div>"
      ],
      "text/plain": [
       "       PassengerId    Survived      Pclass         Age       SibSp  \\\n",
       "count   891.000000  891.000000  891.000000  714.000000  891.000000   \n",
       "mean    446.000000    0.383838    2.308642   29.699118    0.523008   \n",
       "std     257.353842    0.486592    0.836071   14.526497    1.102743   \n",
       "min       1.000000    0.000000    1.000000    0.420000    0.000000   \n",
       "25%     223.500000    0.000000    2.000000   20.125000    0.000000   \n",
       "50%     446.000000    0.000000    3.000000   28.000000    0.000000   \n",
       "75%     668.500000    1.000000    3.000000   38.000000    1.000000   \n",
       "max     891.000000    1.000000    3.000000   80.000000    8.000000   \n",
       "\n",
       "            Parch        Fare  \n",
       "count  891.000000  891.000000  \n",
       "mean     0.381594   32.204208  \n",
       "std      0.806057   49.693429  \n",
       "min      0.000000    0.000000  \n",
       "25%      0.000000    7.910400  \n",
       "50%      0.000000   14.454200  \n",
       "75%      0.000000   31.000000  \n",
       "max      6.000000  512.329200  "
      ]
     },
     "execution_count": 3,
     "metadata": {},
     "output_type": "execute_result"
    }
   ],
   "source": [
    "# Get some information of the training dataset \n",
    "training_data.describe()"
   ]
  },
  {
   "cell_type": "code",
   "execution_count": 4,
   "id": "0ec101a2",
   "metadata": {
    "execution": {
     "iopub.execute_input": "2022-11-13T17:31:27.075506Z",
     "iopub.status.busy": "2022-11-13T17:31:27.074869Z",
     "iopub.status.idle": "2022-11-13T17:31:27.107386Z",
     "shell.execute_reply": "2022-11-13T17:31:27.106135Z"
    },
    "papermill": {
     "duration": 0.046864,
     "end_time": "2022-11-13T17:31:27.110088",
     "exception": false,
     "start_time": "2022-11-13T17:31:27.063224",
     "status": "completed"
    },
    "tags": []
   },
   "outputs": [
    {
     "data": {
      "text/html": [
       "<div>\n",
       "<style scoped>\n",
       "    .dataframe tbody tr th:only-of-type {\n",
       "        vertical-align: middle;\n",
       "    }\n",
       "\n",
       "    .dataframe tbody tr th {\n",
       "        vertical-align: top;\n",
       "    }\n",
       "\n",
       "    .dataframe thead th {\n",
       "        text-align: right;\n",
       "    }\n",
       "</style>\n",
       "<table border=\"1\" class=\"dataframe\">\n",
       "  <thead>\n",
       "    <tr style=\"text-align: right;\">\n",
       "      <th></th>\n",
       "      <th>PassengerId</th>\n",
       "      <th>Pclass</th>\n",
       "      <th>Age</th>\n",
       "      <th>SibSp</th>\n",
       "      <th>Parch</th>\n",
       "      <th>Fare</th>\n",
       "    </tr>\n",
       "  </thead>\n",
       "  <tbody>\n",
       "    <tr>\n",
       "      <th>count</th>\n",
       "      <td>418.000000</td>\n",
       "      <td>418.000000</td>\n",
       "      <td>332.000000</td>\n",
       "      <td>418.000000</td>\n",
       "      <td>418.000000</td>\n",
       "      <td>417.000000</td>\n",
       "    </tr>\n",
       "    <tr>\n",
       "      <th>mean</th>\n",
       "      <td>1100.500000</td>\n",
       "      <td>2.265550</td>\n",
       "      <td>30.272590</td>\n",
       "      <td>0.447368</td>\n",
       "      <td>0.392344</td>\n",
       "      <td>35.627188</td>\n",
       "    </tr>\n",
       "    <tr>\n",
       "      <th>std</th>\n",
       "      <td>120.810458</td>\n",
       "      <td>0.841838</td>\n",
       "      <td>14.181209</td>\n",
       "      <td>0.896760</td>\n",
       "      <td>0.981429</td>\n",
       "      <td>55.907576</td>\n",
       "    </tr>\n",
       "    <tr>\n",
       "      <th>min</th>\n",
       "      <td>892.000000</td>\n",
       "      <td>1.000000</td>\n",
       "      <td>0.170000</td>\n",
       "      <td>0.000000</td>\n",
       "      <td>0.000000</td>\n",
       "      <td>0.000000</td>\n",
       "    </tr>\n",
       "    <tr>\n",
       "      <th>25%</th>\n",
       "      <td>996.250000</td>\n",
       "      <td>1.000000</td>\n",
       "      <td>21.000000</td>\n",
       "      <td>0.000000</td>\n",
       "      <td>0.000000</td>\n",
       "      <td>7.895800</td>\n",
       "    </tr>\n",
       "    <tr>\n",
       "      <th>50%</th>\n",
       "      <td>1100.500000</td>\n",
       "      <td>3.000000</td>\n",
       "      <td>27.000000</td>\n",
       "      <td>0.000000</td>\n",
       "      <td>0.000000</td>\n",
       "      <td>14.454200</td>\n",
       "    </tr>\n",
       "    <tr>\n",
       "      <th>75%</th>\n",
       "      <td>1204.750000</td>\n",
       "      <td>3.000000</td>\n",
       "      <td>39.000000</td>\n",
       "      <td>1.000000</td>\n",
       "      <td>0.000000</td>\n",
       "      <td>31.500000</td>\n",
       "    </tr>\n",
       "    <tr>\n",
       "      <th>max</th>\n",
       "      <td>1309.000000</td>\n",
       "      <td>3.000000</td>\n",
       "      <td>76.000000</td>\n",
       "      <td>8.000000</td>\n",
       "      <td>9.000000</td>\n",
       "      <td>512.329200</td>\n",
       "    </tr>\n",
       "  </tbody>\n",
       "</table>\n",
       "</div>"
      ],
      "text/plain": [
       "       PassengerId      Pclass         Age       SibSp       Parch        Fare\n",
       "count   418.000000  418.000000  332.000000  418.000000  418.000000  417.000000\n",
       "mean   1100.500000    2.265550   30.272590    0.447368    0.392344   35.627188\n",
       "std     120.810458    0.841838   14.181209    0.896760    0.981429   55.907576\n",
       "min     892.000000    1.000000    0.170000    0.000000    0.000000    0.000000\n",
       "25%     996.250000    1.000000   21.000000    0.000000    0.000000    7.895800\n",
       "50%    1100.500000    3.000000   27.000000    0.000000    0.000000   14.454200\n",
       "75%    1204.750000    3.000000   39.000000    1.000000    0.000000   31.500000\n",
       "max    1309.000000    3.000000   76.000000    8.000000    9.000000  512.329200"
      ]
     },
     "execution_count": 4,
     "metadata": {},
     "output_type": "execute_result"
    }
   ],
   "source": [
    "# Get some information of the testing dataset \n",
    "testing_data.describe()"
   ]
  },
  {
   "cell_type": "code",
   "execution_count": 5,
   "id": "aca8e441",
   "metadata": {
    "execution": {
     "iopub.execute_input": "2022-11-13T17:31:27.132800Z",
     "iopub.status.busy": "2022-11-13T17:31:27.132357Z",
     "iopub.status.idle": "2022-11-13T17:31:27.185940Z",
     "shell.execute_reply": "2022-11-13T17:31:27.184374Z"
    },
    "papermill": {
     "duration": 0.068478,
     "end_time": "2022-11-13T17:31:27.188728",
     "exception": false,
     "start_time": "2022-11-13T17:31:27.120250",
     "status": "completed"
    },
    "tags": []
   },
   "outputs": [
    {
     "name": "stdout",
     "output_type": "stream",
     "text": [
      "Training Data Information:\n",
      "(891, 12)\n",
      "Testing Data Information:\n",
      "(418, 11)\n"
     ]
    },
    {
     "data": {
      "text/plain": [
       "Index(['PassengerId', 'Survived', 'Pclass', 'Age', 'SibSp', 'Parch', 'Fare'], dtype='object')"
      ]
     },
     "execution_count": 5,
     "metadata": {},
     "output_type": "execute_result"
    }
   ],
   "source": [
    "# Identify the columns of the training data\n",
    "print(\"Training Data Information:\")\n",
    "print(training_data.shape)\n",
    "training_data.describe().columns\n",
    "print(\"Testing Data Information:\")\n",
    "print(testing_data.shape)\n",
    "training_data.describe().columns"
   ]
  },
  {
   "cell_type": "code",
   "execution_count": 6,
   "id": "b449b0b1",
   "metadata": {
    "execution": {
     "iopub.execute_input": "2022-11-13T17:31:27.210650Z",
     "iopub.status.busy": "2022-11-13T17:31:27.210157Z",
     "iopub.status.idle": "2022-11-13T17:31:27.532227Z",
     "shell.execute_reply": "2022-11-13T17:31:27.531000Z"
    },
    "papermill": {
     "duration": 0.336011,
     "end_time": "2022-11-13T17:31:27.534791",
     "exception": false,
     "start_time": "2022-11-13T17:31:27.198780",
     "status": "completed"
    },
    "tags": []
   },
   "outputs": [
    {
     "data": {
      "text/plain": [
       "<AxesSubplot:xlabel='Age', ylabel='Count'>"
      ]
     },
     "execution_count": 6,
     "metadata": {},
     "output_type": "execute_result"
    },
    {
     "data": {
      "image/png": "[encoded data removed]",
      "text/plain": [
       "<Figure size 432x288 with 1 Axes>"
      ]
     },
     "metadata": {
      "needs_background": "light"
     },
     "output_type": "display_data"
    }
   ],
   "source": [
    "# Seperate the data into numeric and categorical data\n",
    "numeric_data = training_data[['Age', 'SibSp', 'Parch', 'Fare']]\n",
    "categorical_data = training_data[['Survived', 'Pclass', 'Sex', 'Ticket', 'Cabin', 'Embarked']]\n",
    "\n",
    "sns.histplot(data = training_data['Age'], kde = True)"
   ]
  },
  {
   "cell_type": "code",
   "execution_count": 7,
   "id": "7ddddfb1",
   "metadata": {
    "execution": {
     "iopub.execute_input": "2022-11-13T17:31:27.557810Z",
     "iopub.status.busy": "2022-11-13T17:31:27.557369Z",
     "iopub.status.idle": "2022-11-13T17:31:27.901033Z",
     "shell.execute_reply": "2022-11-13T17:31:27.899164Z"
    },
    "papermill": {
     "duration": 0.358771,
     "end_time": "2022-11-13T17:31:27.904172",
     "exception": false,
     "start_time": "2022-11-13T17:31:27.545401",
     "status": "completed"
    },
    "tags": []
   },
   "outputs": [
    {
     "data": {
      "text/plain": [
       "<AxesSubplot:xlabel='SibSp', ylabel='Count'>"
      ]
     },
     "execution_count": 7,
     "metadata": {},
     "output_type": "execute_result"
    },
    {
     "data": {
      "image/png": "[encoded data removed]",
      "text/plain": [
       "<Figure size 432x288 with 1 Axes>"
      ]
     },
     "metadata": {
      "needs_background": "light"
     },
     "output_type": "display_data"
    }
   ],
   "source": [
    "sns.histplot(data = training_data['SibSp'], kde = True)"
   ]
  },
  {
   "cell_type": "code",
   "execution_count": 8,
   "id": "a9e00e4b",
   "metadata": {
    "execution": {
     "iopub.execute_input": "2022-11-13T17:31:27.930545Z",
     "iopub.status.busy": "2022-11-13T17:31:27.929371Z",
     "iopub.status.idle": "2022-11-13T17:31:28.172128Z",
     "shell.execute_reply": "2022-11-13T17:31:28.170415Z"
    },
    "papermill": {
     "duration": 0.259644,
     "end_time": "2022-11-13T17:31:28.175364",
     "exception": false,
     "start_time": "2022-11-13T17:31:27.915720",
     "status": "completed"
    },
    "tags": []
   },
   "outputs": [
    {
     "data": {
      "text/plain": [
       "<AxesSubplot:xlabel='Parch', ylabel='Count'>"
      ]
     },
     "execution_count": 8,
     "metadata": {},
     "output_type": "execute_result"
    },
    {
     "data": {
      "image/png": "[encoded data removed]",
      "text/plain": [
       "<Figure size 432x288 with 1 Axes>"
      ]
     },
     "metadata": {
      "needs_background": "light"
     },
     "output_type": "display_data"
    }
   ],
   "source": [
    "sns.histplot(data = training_data['Parch'], kde = True)"
   ]
  },
  {
   "cell_type": "code",
   "execution_count": 9,
   "id": "d972abcc",
   "metadata": {
    "execution": {
     "iopub.execute_input": "2022-11-13T17:31:28.203583Z",
     "iopub.status.busy": "2022-11-13T17:31:28.203112Z",
     "iopub.status.idle": "2022-11-13T17:31:28.675037Z",
     "shell.execute_reply": "2022-11-13T17:31:28.673194Z"
    },
    "papermill": {
     "duration": 0.49,
     "end_time": "2022-11-13T17:31:28.678661",
     "exception": false,
     "start_time": "2022-11-13T17:31:28.188661",
     "status": "completed"
    },
    "tags": []
   },
   "outputs": [
    {
     "data": {
      "text/plain": [
       "<AxesSubplot:xlabel='Fare', ylabel='Count'>"
      ]
     },
     "execution_count": 9,
     "metadata": {},
     "output_type": "execute_result"
    },
    {
     "data": {
      "image/png": "[encoded data removed]",
      "text/plain": [
       "<Figure size 432x288 with 1 Axes>"
      ]
     },
     "metadata": {
      "needs_background": "light"
     },
     "output_type": "display_data"
    }
   ],
   "source": [
    "sns.histplot(data = training_data['Fare'], kde = True)"
   ]
  },
  {
   "cell_type": "code",
   "execution_count": 10,
   "id": "1a088013",
   "metadata": {
    "execution": {
     "iopub.execute_input": "2022-11-13T17:31:28.705851Z",
     "iopub.status.busy": "2022-11-13T17:31:28.705424Z",
     "iopub.status.idle": "2022-11-13T17:31:29.341007Z",
     "shell.execute_reply": "2022-11-13T17:31:29.339235Z"
    },
    "papermill": {
     "duration": 0.653032,
     "end_time": "2022-11-13T17:31:29.344467",
     "exception": false,
     "start_time": "2022-11-13T17:31:28.691435",
     "status": "completed"
    },
    "tags": []
   },
   "outputs": [
    {
     "data": {
      "text/plain": [
       "<AxesSubplot:>"
      ]
     },
     "execution_count": 10,
     "metadata": {},
     "output_type": "execute_result"
    },
    {
     "data": {
      "image/png": "[encoded data removed]",
      "text/plain": [
       "<Figure size 432x288 with 2 Axes>"
      ]
     },
     "metadata": {
      "needs_background": "light"
     },
     "output_type": "display_data"
    }
   ],
   "source": [
    "# Plot correlation heatmap to observe what is correlated to survival with basic training data. \n",
    "sns.heatmap(training_data.corr(), cmap = \"Blues\", annot = True)"
   ]
  },
  {
   "cell_type": "code",
   "execution_count": 11,
   "id": "acde0440",
   "metadata": {
    "execution": {
     "iopub.execute_input": "2022-11-13T17:31:29.374733Z",
     "iopub.status.busy": "2022-11-13T17:31:29.374229Z",
     "iopub.status.idle": "2022-11-13T17:31:29.701114Z",
     "shell.execute_reply": "2022-11-13T17:31:29.700206Z"
    },
    "papermill": {
     "duration": 0.343561,
     "end_time": "2022-11-13T17:31:29.703498",
     "exception": false,
     "start_time": "2022-11-13T17:31:29.359937",
     "status": "completed"
    },
    "tags": []
   },
   "outputs": [
    {
     "data": {
      "text/plain": [
       "<AxesSubplot:>"
      ]
     },
     "execution_count": 11,
     "metadata": {},
     "output_type": "execute_result"
    },
    {
     "data": {
      "image/png": "[encoded data removed]",
      "text/plain": [
       "<Figure size 432x288 with 2 Axes>"
      ]
     },
     "metadata": {
      "needs_background": "light"
     },
     "output_type": "display_data"
    }
   ],
   "source": [
    "# Plot correlation heatmap to observe what is correlated to survival with basic training data. \n",
    "sns.heatmap(numeric_data.corr(), cmap = \"Blues\", annot = True)"
   ]
  },
  {
   "cell_type": "code",
   "execution_count": 12,
   "id": "87b830de",
   "metadata": {
    "execution": {
     "iopub.execute_input": "2022-11-13T17:31:29.732116Z",
     "iopub.status.busy": "2022-11-13T17:31:29.730968Z",
     "iopub.status.idle": "2022-11-13T17:31:29.760627Z",
     "shell.execute_reply": "2022-11-13T17:31:29.759282Z"
    },
    "papermill": {
     "duration": 0.046433,
     "end_time": "2022-11-13T17:31:29.763236",
     "exception": false,
     "start_time": "2022-11-13T17:31:29.716803",
     "status": "completed"
    },
    "tags": []
   },
   "outputs": [
    {
     "data": {
      "text/html": [
       "<div>\n",
       "<style scoped>\n",
       "    .dataframe tbody tr th:only-of-type {\n",
       "        vertical-align: middle;\n",
       "    }\n",
       "\n",
       "    .dataframe tbody tr th {\n",
       "        vertical-align: top;\n",
       "    }\n",
       "\n",
       "    .dataframe thead th {\n",
       "        text-align: right;\n",
       "    }\n",
       "</style>\n",
       "<table border=\"1\" class=\"dataframe\">\n",
       "  <thead>\n",
       "    <tr style=\"text-align: right;\">\n",
       "      <th></th>\n",
       "      <th>Age</th>\n",
       "      <th>Fare</th>\n",
       "      <th>Parch</th>\n",
       "      <th>SibSp</th>\n",
       "    </tr>\n",
       "    <tr>\n",
       "      <th>Survived</th>\n",
       "      <th></th>\n",
       "      <th></th>\n",
       "      <th></th>\n",
       "      <th></th>\n",
       "    </tr>\n",
       "  </thead>\n",
       "  <tbody>\n",
       "    <tr>\n",
       "      <th>0</th>\n",
       "      <td>30.626179</td>\n",
       "      <td>22.117887</td>\n",
       "      <td>0.329690</td>\n",
       "      <td>0.553734</td>\n",
       "    </tr>\n",
       "    <tr>\n",
       "      <th>1</th>\n",
       "      <td>28.343690</td>\n",
       "      <td>48.395408</td>\n",
       "      <td>0.464912</td>\n",
       "      <td>0.473684</td>\n",
       "    </tr>\n",
       "  </tbody>\n",
       "</table>\n",
       "</div>"
      ],
      "text/plain": [
       "                Age       Fare     Parch     SibSp\n",
       "Survived                                          \n",
       "0         30.626179  22.117887  0.329690  0.553734\n",
       "1         28.343690  48.395408  0.464912  0.473684"
      ]
     },
     "execution_count": 12,
     "metadata": {},
     "output_type": "execute_result"
    }
   ],
   "source": [
    "pd.pivot_table(training_data, index = 'Survived', values = ['Age', 'SibSp', 'Parch', 'Fare'])"
   ]
  },
  {
   "cell_type": "code",
   "execution_count": 13,
   "id": "1ed1ca29",
   "metadata": {
    "execution": {
     "iopub.execute_input": "2022-11-13T17:31:29.792890Z",
     "iopub.status.busy": "2022-11-13T17:31:29.792393Z",
     "iopub.status.idle": "2022-11-13T17:31:31.119231Z",
     "shell.execute_reply": "2022-11-13T17:31:31.117533Z"
    },
    "papermill": {
     "duration": 1.345154,
     "end_time": "2022-11-13T17:31:31.122018",
     "exception": false,
     "start_time": "2022-11-13T17:31:29.776864",
     "status": "completed"
    },
    "tags": []
   },
   "outputs": [
    {
     "data": {
      "text/plain": [
       "<seaborn.axisgrid.FacetGrid at 0x7f5c40ced550>"
      ]
     },
     "execution_count": 13,
     "metadata": {},
     "output_type": "execute_result"
    },
    {
     "data": {
      "image/png": "[encoded data removed]",
      "text/plain": [
       "<Figure size 418.25x360 with 1 Axes>"
      ]
     },
     "metadata": {
      "needs_background": "light"
     },
     "output_type": "display_data"
    },
    {
     "data": {
      "image/png": "[encoded data removed]",
      "text/plain": [
       "<Figure size 402.375x360 with 1 Axes>"
      ]
     },
     "metadata": {
      "needs_background": "light"
     },
     "output_type": "display_data"
    },
    {
     "data": {
      "image/png": "[encoded data removed]",
      "text/plain": [
       "<Figure size 430.5x360 with 1 Axes>"
      ]
     },
     "metadata": {
      "needs_background": "light"
     },
     "output_type": "display_data"
    }
   ],
   "source": [
    "sns.catplot(data = training_data, kind = \"count\", x = \"Survived\", hue = \"Embarked\")\n",
    "sns.catplot(data = training_data, kind = \"count\", x = \"Survived\", hue = \"Pclass\")\n",
    "sns.catplot(data = training_data, kind = \"count\", x = \"Survived\", hue = \"Sex\")"
   ]
  },
  {
   "cell_type": "code",
   "execution_count": 14,
   "id": "1b94a5c7",
   "metadata": {
    "execution": {
     "iopub.execute_input": "2022-11-13T17:31:31.155771Z",
     "iopub.status.busy": "2022-11-13T17:31:31.154717Z",
     "iopub.status.idle": "2022-11-13T17:31:31.165817Z",
     "shell.execute_reply": "2022-11-13T17:31:31.164222Z"
    },
    "papermill": {
     "duration": 0.030936,
     "end_time": "2022-11-13T17:31:31.168631",
     "exception": false,
     "start_time": "2022-11-13T17:31:31.137695",
     "status": "completed"
    },
    "tags": []
   },
   "outputs": [
    {
     "name": "stdout",
     "output_type": "stream",
     "text": [
      "Cabin          687\n",
      "Age            177\n",
      "Embarked         2\n",
      "PassengerId      0\n",
      "Survived         0\n",
      "Pclass           0\n",
      "Name             0\n",
      "Sex              0\n",
      "SibSp            0\n",
      "Parch            0\n",
      "Ticket           0\n",
      "Fare             0\n",
      "dtype: int64\n"
     ]
    }
   ],
   "source": [
    "total_missing_train = training_data.isnull().sum().sort_values(ascending=False)\n",
    "print(total_missing_train)"
   ]
  },
  {
   "cell_type": "markdown",
   "id": "2aed3caa",
   "metadata": {
    "papermill": {
     "duration": 0.015332,
     "end_time": "2022-11-13T17:31:31.198622",
     "exception": false,
     "start_time": "2022-11-13T17:31:31.183290",
     "status": "completed"
    },
    "tags": []
   },
   "source": [
    "**Feature Engineering:**\n",
    "\n",
    "After identifying some missing features, it is clear that feature development is required. That is all completed below. It is sumarized by the following points:\n",
    "\n",
    "1. All sex data is converted to binary\n",
    "2. Unkown ages are converted to the median age of all known ages aboard the titanic\n",
    "3. Cabin Data is collected and converted to numeric format in the CabinData column\n",
    "4. Ticket data is converted to an integer. If unkown, that integer is set to zero\n",
    "\n",
    "After these changes are made, additional data visualization is added"
   ]
  },
  {
   "cell_type": "code",
   "execution_count": 15,
   "id": "6264603b",
   "metadata": {
    "execution": {
     "iopub.execute_input": "2022-11-13T17:31:31.231461Z",
     "iopub.status.busy": "2022-11-13T17:31:31.229653Z",
     "iopub.status.idle": "2022-11-13T17:31:31.243756Z",
     "shell.execute_reply": "2022-11-13T17:31:31.242401Z"
    },
    "papermill": {
     "duration": 0.032535,
     "end_time": "2022-11-13T17:31:31.246492",
     "exception": false,
     "start_time": "2022-11-13T17:31:31.213957",
     "status": "completed"
    },
    "tags": []
   },
   "outputs": [
    {
     "name": "stdout",
     "output_type": "stream",
     "text": [
      "0      0\n",
      "1      1\n",
      "2      1\n",
      "3      1\n",
      "4      0\n",
      "      ..\n",
      "886    0\n",
      "887    1\n",
      "888    1\n",
      "889    0\n",
      "890    0\n",
      "Name: Sex, Length: 891, dtype: int64\n"
     ]
    }
   ],
   "source": [
    "# Make sex data binary such that Male = 0, Female = 1\n",
    "\n",
    "def sex_to_binary(value):\n",
    "    if isinstance(value, str):\n",
    "        if value == \"male\":\n",
    "            #male_num += 1\n",
    "            return 0\n",
    "        else:\n",
    "            return 1\n",
    "    return value\n",
    "\n",
    "training_data[\"Sex\"] = training_data[\"Sex\"].map(sex_to_binary)\n",
    "testing_data[\"Sex\"] = testing_data[\"Sex\"].map(sex_to_binary)\n",
    "print(training_data[\"Sex\"])"
   ]
  },
  {
   "cell_type": "code",
   "execution_count": 16,
   "id": "9b534453",
   "metadata": {
    "execution": {
     "iopub.execute_input": "2022-11-13T17:31:31.281086Z",
     "iopub.status.busy": "2022-11-13T17:31:31.280344Z",
     "iopub.status.idle": "2022-11-13T17:31:31.574249Z",
     "shell.execute_reply": "2022-11-13T17:31:31.572899Z"
    },
    "papermill": {
     "duration": 0.314897,
     "end_time": "2022-11-13T17:31:31.577039",
     "exception": false,
     "start_time": "2022-11-13T17:31:31.262142",
     "status": "completed"
    },
    "tags": []
   },
   "outputs": [
    {
     "data": {
      "text/plain": [
       "<AxesSubplot:xlabel='Sex', ylabel='Count'>"
      ]
     },
     "execution_count": 16,
     "metadata": {},
     "output_type": "execute_result"
    },
    {
     "data": {
      "image/png": "[encoded data removed]",
      "text/plain": [
       "<Figure size 432x288 with 1 Axes>"
      ]
     },
     "metadata": {
      "needs_background": "light"
     },
     "output_type": "display_data"
    }
   ],
   "source": [
    "# Replot this data since it has now been corrected \n",
    "sns.histplot(data = training_data['Sex'], kde = True)"
   ]
  },
  {
   "cell_type": "code",
   "execution_count": 17,
   "id": "29f05d8b",
   "metadata": {
    "execution": {
     "iopub.execute_input": "2022-11-13T17:31:31.608831Z",
     "iopub.status.busy": "2022-11-13T17:31:31.608391Z",
     "iopub.status.idle": "2022-11-13T17:31:31.624342Z",
     "shell.execute_reply": "2022-11-13T17:31:31.622717Z"
    },
    "papermill": {
     "duration": 0.035996,
     "end_time": "2022-11-13T17:31:31.627531",
     "exception": false,
     "start_time": "2022-11-13T17:31:31.591535",
     "status": "completed"
    },
    "tags": []
   },
   "outputs": [
    {
     "name": "stdout",
     "output_type": "stream",
     "text": [
      "0      22.0\n",
      "1      38.0\n",
      "2      26.0\n",
      "3      35.0\n",
      "4      35.0\n",
      "       ... \n",
      "886    27.0\n",
      "887    19.0\n",
      "888    28.0\n",
      "889    26.0\n",
      "890    32.0\n",
      "Name: Age, Length: 891, dtype: float64\n"
     ]
    }
   ],
   "source": [
    "# Make all unkown ages to median age\n",
    "training_ages = [a for a in training_data['Age'].tolist() if not math.isnan(a)]\n",
    "testing_ages = [a for a in training_data['Age'].tolist() if not math.isnan(a)]\n",
    "\n",
    "median_training_age = np.median(training_ages)\n",
    "median_testing_age = np.median(testing_ages)\n",
    "\n",
    "def training_age_to_med_age(age):\n",
    "    if math.isnan(age):\n",
    "        return median_training_age\n",
    "    return age\n",
    "\n",
    "def testing_age_to_med_age(age):\n",
    "    if math.isnan(age):\n",
    "        return median_testing_age\n",
    "    return age\n",
    "\n",
    "training_data[\"Age\"] = training_data[\"Age\"].map(training_age_to_med_age)\n",
    "training_data[\"Age\"] = training_data[\"Age\"].map(testing_age_to_med_age)\n",
    "\n",
    "print(training_data[\"Age\"])"
   ]
  },
  {
   "cell_type": "code",
   "execution_count": 18,
   "id": "f877a72b",
   "metadata": {
    "execution": {
     "iopub.execute_input": "2022-11-13T17:31:31.662497Z",
     "iopub.status.busy": "2022-11-13T17:31:31.661986Z",
     "iopub.status.idle": "2022-11-13T17:31:32.003865Z",
     "shell.execute_reply": "2022-11-13T17:31:32.002205Z"
    },
    "papermill": {
     "duration": 0.363134,
     "end_time": "2022-11-13T17:31:32.007152",
     "exception": false,
     "start_time": "2022-11-13T17:31:31.644018",
     "status": "completed"
    },
    "tags": []
   },
   "outputs": [
    {
     "data": {
      "text/plain": [
       "<AxesSubplot:xlabel='Age', ylabel='Count'>"
      ]
     },
     "execution_count": 18,
     "metadata": {},
     "output_type": "execute_result"
    },
    {
     "data": {
      "image/png": "[encoded data removed]",
      "text/plain": [
       "<Figure size 432x288 with 1 Axes>"
      ]
     },
     "metadata": {
      "needs_background": "light"
     },
     "output_type": "display_data"
    }
   ],
   "source": [
    "# Replot this training data since it has now been corrected \n",
    "sns.histplot(data = training_data['Age'], kde = True)"
   ]
  },
  {
   "cell_type": "code",
   "execution_count": 19,
   "id": "b7fbfaa6",
   "metadata": {
    "execution": {
     "iopub.execute_input": "2022-11-13T17:31:32.041583Z",
     "iopub.status.busy": "2022-11-13T17:31:32.041104Z",
     "iopub.status.idle": "2022-11-13T17:31:32.335029Z",
     "shell.execute_reply": "2022-11-13T17:31:32.333624Z"
    },
    "papermill": {
     "duration": 0.314308,
     "end_time": "2022-11-13T17:31:32.337781",
     "exception": false,
     "start_time": "2022-11-13T17:31:32.023473",
     "status": "completed"
    },
    "tags": []
   },
   "outputs": [
    {
     "data": {
      "text/plain": [
       "<AxesSubplot:xlabel='Age', ylabel='Count'>"
      ]
     },
     "execution_count": 19,
     "metadata": {},
     "output_type": "execute_result"
    },
    {
     "data": {
      "image/png": "[encoded data removed]",
      "text/plain": [
       "<Figure size 432x288 with 1 Axes>"
      ]
     },
     "metadata": {
      "needs_background": "light"
     },
     "output_type": "display_data"
    }
   ],
   "source": [
    "# Replot this testing data since it has now been corrected \n",
    "sns.histplot(data = testing_data['Age'], kde = True)"
   ]
  },
  {
   "cell_type": "code",
   "execution_count": 20,
   "id": "b0b4cc58",
   "metadata": {
    "execution": {
     "iopub.execute_input": "2022-11-13T17:31:32.371231Z",
     "iopub.status.busy": "2022-11-13T17:31:32.370799Z",
     "iopub.status.idle": "2022-11-13T17:31:32.387822Z",
     "shell.execute_reply": "2022-11-13T17:31:32.386581Z"
    },
    "papermill": {
     "duration": 0.036652,
     "end_time": "2022-11-13T17:31:32.390425",
     "exception": false,
     "start_time": "2022-11-13T17:31:32.353773",
     "status": "completed"
    },
    "tags": []
   },
   "outputs": [
    {
     "data": {
      "text/plain": [
       "0    327\n",
       "1     74\n",
       "2     10\n",
       "3      4\n",
       "4      3\n",
       "Name: CabinData, dtype: int64"
      ]
     },
     "execution_count": 20,
     "metadata": {},
     "output_type": "execute_result"
    }
   ],
   "source": [
    "# Simplify cabin data\n",
    "training_data['CabinData'] = training_data.Cabin.apply(lambda x: 0 if pd.isna(x) else len(x.split(' ')))\n",
    "training_data['CabinData'].value_counts()\n",
    "\n",
    "testing_data['CabinData'] = testing_data.Cabin.apply(lambda x: 0 if pd.isna(x) else len(x.split(' ')))\n",
    "testing_data['CabinData'].value_counts()"
   ]
  },
  {
   "cell_type": "code",
   "execution_count": 21,
   "id": "c7afa59a",
   "metadata": {
    "execution": {
     "iopub.execute_input": "2022-11-13T17:31:32.426619Z",
     "iopub.status.busy": "2022-11-13T17:31:32.426184Z",
     "iopub.status.idle": "2022-11-13T17:31:32.453294Z",
     "shell.execute_reply": "2022-11-13T17:31:32.451949Z"
    },
    "papermill": {
     "duration": 0.048343,
     "end_time": "2022-11-13T17:31:32.456159",
     "exception": false,
     "start_time": "2022-11-13T17:31:32.407816",
     "status": "completed"
    },
    "tags": []
   },
   "outputs": [
    {
     "data": {
      "text/html": [
       "<div>\n",
       "<style scoped>\n",
       "    .dataframe tbody tr th:only-of-type {\n",
       "        vertical-align: middle;\n",
       "    }\n",
       "\n",
       "    .dataframe tbody tr th {\n",
       "        vertical-align: top;\n",
       "    }\n",
       "\n",
       "    .dataframe thead th {\n",
       "        text-align: right;\n",
       "    }\n",
       "</style>\n",
       "<table border=\"1\" class=\"dataframe\">\n",
       "  <thead>\n",
       "    <tr style=\"text-align: right;\">\n",
       "      <th>CabinData</th>\n",
       "      <th>0</th>\n",
       "      <th>1</th>\n",
       "      <th>2</th>\n",
       "      <th>3</th>\n",
       "      <th>4</th>\n",
       "    </tr>\n",
       "    <tr>\n",
       "      <th>Survived</th>\n",
       "      <th></th>\n",
       "      <th></th>\n",
       "      <th></th>\n",
       "      <th></th>\n",
       "      <th></th>\n",
       "    </tr>\n",
       "  </thead>\n",
       "  <tbody>\n",
       "    <tr>\n",
       "      <th>0</th>\n",
       "      <td>481.0</td>\n",
       "      <td>58.0</td>\n",
       "      <td>7.0</td>\n",
       "      <td>3.0</td>\n",
       "      <td>NaN</td>\n",
       "    </tr>\n",
       "    <tr>\n",
       "      <th>1</th>\n",
       "      <td>206.0</td>\n",
       "      <td>122.0</td>\n",
       "      <td>9.0</td>\n",
       "      <td>3.0</td>\n",
       "      <td>2.0</td>\n",
       "    </tr>\n",
       "  </tbody>\n",
       "</table>\n",
       "</div>"
      ],
      "text/plain": [
       "CabinData      0      1    2    3    4\n",
       "Survived                              \n",
       "0          481.0   58.0  7.0  3.0  NaN\n",
       "1          206.0  122.0  9.0  3.0  2.0"
      ]
     },
     "execution_count": 21,
     "metadata": {},
     "output_type": "execute_result"
    }
   ],
   "source": [
    "pd.pivot_table(training_data, index = 'Survived', columns = 'CabinData', values = 'Ticket', aggfunc = 'count')"
   ]
  },
  {
   "cell_type": "code",
   "execution_count": 22,
   "id": "ea949de9",
   "metadata": {
    "execution": {
     "iopub.execute_input": "2022-11-13T17:31:32.490300Z",
     "iopub.status.busy": "2022-11-13T17:31:32.489886Z",
     "iopub.status.idle": "2022-11-13T17:31:32.522230Z",
     "shell.execute_reply": "2022-11-13T17:31:32.520751Z"
    },
    "papermill": {
     "duration": 0.052477,
     "end_time": "2022-11-13T17:31:32.524798",
     "exception": false,
     "start_time": "2022-11-13T17:31:32.472321",
     "status": "completed"
    },
    "tags": []
   },
   "outputs": [
    {
     "name": "stdout",
     "output_type": "stream",
     "text": [
      "83    644\n",
      "67    168\n",
      "81     77\n",
      "48      2\n",
      "Name: Embarked, dtype: int64\n"
     ]
    },
    {
     "data": {
      "text/html": [
       "<div>\n",
       "<style scoped>\n",
       "    .dataframe tbody tr th:only-of-type {\n",
       "        vertical-align: middle;\n",
       "    }\n",
       "\n",
       "    .dataframe tbody tr th {\n",
       "        vertical-align: top;\n",
       "    }\n",
       "\n",
       "    .dataframe thead th {\n",
       "        text-align: right;\n",
       "    }\n",
       "</style>\n",
       "<table border=\"1\" class=\"dataframe\">\n",
       "  <thead>\n",
       "    <tr style=\"text-align: right;\">\n",
       "      <th>Embarked</th>\n",
       "      <th>48</th>\n",
       "      <th>67</th>\n",
       "      <th>81</th>\n",
       "      <th>83</th>\n",
       "    </tr>\n",
       "    <tr>\n",
       "      <th>Survived</th>\n",
       "      <th></th>\n",
       "      <th></th>\n",
       "      <th></th>\n",
       "      <th></th>\n",
       "    </tr>\n",
       "  </thead>\n",
       "  <tbody>\n",
       "    <tr>\n",
       "      <th>0</th>\n",
       "      <td>NaN</td>\n",
       "      <td>75.0</td>\n",
       "      <td>47.0</td>\n",
       "      <td>427.0</td>\n",
       "    </tr>\n",
       "    <tr>\n",
       "      <th>1</th>\n",
       "      <td>2.0</td>\n",
       "      <td>93.0</td>\n",
       "      <td>30.0</td>\n",
       "      <td>217.0</td>\n",
       "    </tr>\n",
       "  </tbody>\n",
       "</table>\n",
       "</div>"
      ],
      "text/plain": [
       "Embarked   48    67    81     83\n",
       "Survived                        \n",
       "0         NaN  75.0  47.0  427.0\n",
       "1         2.0  93.0  30.0  217.0"
      ]
     },
     "execution_count": 22,
     "metadata": {},
     "output_type": "execute_result"
    }
   ],
   "source": [
    "# Cabin Categories \n",
    "# Convered all Cabin Letter Codes to Rooms to ints \n",
    "\n",
    "def char_to_int(c):\n",
    "    if isinstance(c, int):\n",
    "        return c\n",
    "    if not isinstance(c, str):\n",
    "        if math.isnan(c):\n",
    "            c = '0'\n",
    "    c = str(c)[0]\n",
    "    return ord(c)\n",
    "\n",
    "training_data['Embarked'] = training_data['Embarked'].map(char_to_int)\n",
    "testing_data['Embarked'] = testing_data['Embarked'].map(char_to_int)\n",
    "\n",
    "print(training_data.Embarked.value_counts())\n",
    "pd.pivot_table(training_data, index='Survived', columns='Embarked', values = 'Ticket', aggfunc='count')"
   ]
  },
  {
   "cell_type": "code",
   "execution_count": 23,
   "id": "e2df61d4",
   "metadata": {
    "execution": {
     "iopub.execute_input": "2022-11-13T17:31:32.559669Z",
     "iopub.status.busy": "2022-11-13T17:31:32.557986Z",
     "iopub.status.idle": "2022-11-13T17:31:32.598363Z",
     "shell.execute_reply": "2022-11-13T17:31:32.596930Z"
    },
    "papermill": {
     "duration": 0.060515,
     "end_time": "2022-11-13T17:31:32.601317",
     "exception": false,
     "start_time": "2022-11-13T17:31:32.540802",
     "status": "completed"
    },
    "tags": []
   },
   "outputs": [
    {
     "name": "stdout",
     "output_type": "stream",
     "text": [
      "110    687\n",
      "67      59\n",
      "66      47\n",
      "68      33\n",
      "69      32\n",
      "65      15\n",
      "70      13\n",
      "71       4\n",
      "84       1\n",
      "Name: CabinLetter, dtype: int64\n"
     ]
    },
    {
     "data": {
      "text/html": [
       "<div>\n",
       "<style scoped>\n",
       "    .dataframe tbody tr th:only-of-type {\n",
       "        vertical-align: middle;\n",
       "    }\n",
       "\n",
       "    .dataframe tbody tr th {\n",
       "        vertical-align: top;\n",
       "    }\n",
       "\n",
       "    .dataframe thead th {\n",
       "        text-align: right;\n",
       "    }\n",
       "</style>\n",
       "<table border=\"1\" class=\"dataframe\">\n",
       "  <thead>\n",
       "    <tr style=\"text-align: right;\">\n",
       "      <th>CabinLetter</th>\n",
       "      <th>65</th>\n",
       "      <th>66</th>\n",
       "      <th>67</th>\n",
       "      <th>68</th>\n",
       "      <th>69</th>\n",
       "      <th>70</th>\n",
       "      <th>71</th>\n",
       "      <th>84</th>\n",
       "      <th>110</th>\n",
       "    </tr>\n",
       "    <tr>\n",
       "      <th>Survived</th>\n",
       "      <th></th>\n",
       "      <th></th>\n",
       "      <th></th>\n",
       "      <th></th>\n",
       "      <th></th>\n",
       "      <th></th>\n",
       "      <th></th>\n",
       "      <th></th>\n",
       "      <th></th>\n",
       "    </tr>\n",
       "  </thead>\n",
       "  <tbody>\n",
       "    <tr>\n",
       "      <th>0</th>\n",
       "      <td>8.0</td>\n",
       "      <td>12.0</td>\n",
       "      <td>24.0</td>\n",
       "      <td>8.0</td>\n",
       "      <td>8.0</td>\n",
       "      <td>5.0</td>\n",
       "      <td>2.0</td>\n",
       "      <td>1.0</td>\n",
       "      <td>481.0</td>\n",
       "    </tr>\n",
       "    <tr>\n",
       "      <th>1</th>\n",
       "      <td>7.0</td>\n",
       "      <td>35.0</td>\n",
       "      <td>35.0</td>\n",
       "      <td>25.0</td>\n",
       "      <td>24.0</td>\n",
       "      <td>8.0</td>\n",
       "      <td>2.0</td>\n",
       "      <td>NaN</td>\n",
       "      <td>206.0</td>\n",
       "    </tr>\n",
       "  </tbody>\n",
       "</table>\n",
       "</div>"
      ],
      "text/plain": [
       "CabinLetter  65    66    67    68    69   70   71   84     110\n",
       "Survived                                                      \n",
       "0            8.0  12.0  24.0   8.0   8.0  5.0  2.0  1.0  481.0\n",
       "1            7.0  35.0  35.0  25.0  24.0  8.0  2.0  NaN  206.0"
      ]
     },
     "execution_count": 23,
     "metadata": {},
     "output_type": "execute_result"
    }
   ],
   "source": [
    "# Cabin Categories \n",
    "# Convered all Cabin Letter Codes to Rooms to ints \n",
    "def char_to_int(c):\n",
    "    if not isinstance(c, str):\n",
    "        if math.isnan(c):\n",
    "            c = '0'\n",
    "    return ord(c)\n",
    "\n",
    "training_data['CabinLetter'] = training_data.Cabin.apply(lambda x: str(x)[0])\n",
    "training_data['CabinLetter'] = training_data['CabinLetter'].map(char_to_int)\n",
    "\n",
    "testing_data['CabinLetter'] = testing_data.Cabin.apply(lambda x: str(x)[0])\n",
    "testing_data['CabinLetter'] = testing_data['CabinLetter'].map(char_to_int)\n",
    "\n",
    "print(training_data.CabinLetter.value_counts())\n",
    "pd.pivot_table(training_data, index='Survived', columns='CabinLetter', values = 'Ticket', aggfunc='count')"
   ]
  },
  {
   "cell_type": "code",
   "execution_count": 24,
   "id": "87858869",
   "metadata": {
    "execution": {
     "iopub.execute_input": "2022-11-13T17:31:32.634524Z",
     "iopub.status.busy": "2022-11-13T17:31:32.634110Z",
     "iopub.status.idle": "2022-11-13T17:31:32.721330Z",
     "shell.execute_reply": "2022-11-13T17:31:32.719817Z"
    },
    "papermill": {
     "duration": 0.106728,
     "end_time": "2022-11-13T17:31:32.724002",
     "exception": false,
     "start_time": "2022-11-13T17:31:32.617274",
     "status": "completed"
    },
    "tags": []
   },
   "outputs": [
    {
     "name": "stdout",
     "output_type": "stream",
     "text": [
      "0        21171\n",
      "1        17599\n",
      "2      3101282\n",
      "3       113803\n",
      "4       373450\n",
      "        ...   \n",
      "886     211536\n",
      "887     112053\n",
      "888       6607\n",
      "889     111369\n",
      "890     370376\n",
      "Name: Ticket, Length: 891, dtype: int64\n"
     ]
    },
    {
     "data": {
      "text/html": [
       "<div>\n",
       "<style scoped>\n",
       "    .dataframe tbody tr th:only-of-type {\n",
       "        vertical-align: middle;\n",
       "    }\n",
       "\n",
       "    .dataframe tbody tr th {\n",
       "        vertical-align: top;\n",
       "    }\n",
       "\n",
       "    .dataframe thead tr th {\n",
       "        text-align: left;\n",
       "    }\n",
       "\n",
       "    .dataframe thead tr:last-of-type th {\n",
       "        text-align: right;\n",
       "    }\n",
       "</style>\n",
       "<table border=\"1\" class=\"dataframe\">\n",
       "  <thead>\n",
       "    <tr>\n",
       "      <th></th>\n",
       "      <th colspan=\"10\" halign=\"left\">Age</th>\n",
       "      <th>...</th>\n",
       "      <th colspan=\"10\" halign=\"left\">SibSp</th>\n",
       "    </tr>\n",
       "    <tr>\n",
       "      <th>Ticket</th>\n",
       "      <th>0</th>\n",
       "      <th>3</th>\n",
       "      <th>541</th>\n",
       "      <th>693</th>\n",
       "      <th>695</th>\n",
       "      <th>751</th>\n",
       "      <th>752</th>\n",
       "      <th>851</th>\n",
       "      <th>1166</th>\n",
       "      <th>1585</th>\n",
       "      <th>...</th>\n",
       "      <th>3101296</th>\n",
       "      <th>3101298</th>\n",
       "      <th>3101305</th>\n",
       "      <th>3101306</th>\n",
       "      <th>3101307</th>\n",
       "      <th>3101310</th>\n",
       "      <th>3101311</th>\n",
       "      <th>3101312</th>\n",
       "      <th>3101316</th>\n",
       "      <th>3101317</th>\n",
       "    </tr>\n",
       "    <tr>\n",
       "      <th>Survived</th>\n",
       "      <th></th>\n",
       "      <th></th>\n",
       "      <th></th>\n",
       "      <th></th>\n",
       "      <th></th>\n",
       "      <th></th>\n",
       "      <th></th>\n",
       "      <th></th>\n",
       "      <th></th>\n",
       "      <th></th>\n",
       "      <th></th>\n",
       "      <th></th>\n",
       "      <th></th>\n",
       "      <th></th>\n",
       "      <th></th>\n",
       "      <th></th>\n",
       "      <th></th>\n",
       "      <th></th>\n",
       "      <th></th>\n",
       "      <th></th>\n",
       "      <th></th>\n",
       "    </tr>\n",
       "  </thead>\n",
       "  <tbody>\n",
       "    <tr>\n",
       "      <th>0</th>\n",
       "      <td>3.0</td>\n",
       "      <td>2.0</td>\n",
       "      <td>NaN</td>\n",
       "      <td>1.0</td>\n",
       "      <td>1.0</td>\n",
       "      <td>1.0</td>\n",
       "      <td>NaN</td>\n",
       "      <td>1.0</td>\n",
       "      <td>1.0</td>\n",
       "      <td>1.0</td>\n",
       "      <td>...</td>\n",
       "      <td>1.0</td>\n",
       "      <td>NaN</td>\n",
       "      <td>1.0</td>\n",
       "      <td>1.0</td>\n",
       "      <td>1.0</td>\n",
       "      <td>1.0</td>\n",
       "      <td>1.0</td>\n",
       "      <td>1.0</td>\n",
       "      <td>1.0</td>\n",
       "      <td>1.0</td>\n",
       "    </tr>\n",
       "    <tr>\n",
       "      <th>1</th>\n",
       "      <td>1.0</td>\n",
       "      <td>NaN</td>\n",
       "      <td>1.0</td>\n",
       "      <td>NaN</td>\n",
       "      <td>NaN</td>\n",
       "      <td>1.0</td>\n",
       "      <td>1.0</td>\n",
       "      <td>NaN</td>\n",
       "      <td>NaN</td>\n",
       "      <td>NaN</td>\n",
       "      <td>...</td>\n",
       "      <td>NaN</td>\n",
       "      <td>1.0</td>\n",
       "      <td>NaN</td>\n",
       "      <td>NaN</td>\n",
       "      <td>NaN</td>\n",
       "      <td>NaN</td>\n",
       "      <td>NaN</td>\n",
       "      <td>NaN</td>\n",
       "      <td>NaN</td>\n",
       "      <td>NaN</td>\n",
       "    </tr>\n",
       "  </tbody>\n",
       "</table>\n",
       "<p>2 rows × 8148 columns</p>\n",
       "</div>"
      ],
      "text/plain": [
       "             Age                                                          \\\n",
       "Ticket   0       3       541     693     695     751     752     851       \n",
       "Survived                                                                   \n",
       "0            3.0     2.0     NaN     1.0     1.0     1.0     NaN     1.0   \n",
       "1            1.0     NaN     1.0     NaN     NaN     1.0     1.0     NaN   \n",
       "\n",
       "                          ...   SibSp                                          \\\n",
       "Ticket   1166    1585     ... 3101296 3101298 3101305 3101306 3101307 3101310   \n",
       "Survived                  ...                                                   \n",
       "0            1.0     1.0  ...     1.0     NaN     1.0     1.0     1.0     1.0   \n",
       "1            NaN     NaN  ...     NaN     1.0     NaN     NaN     NaN     NaN   \n",
       "\n",
       "                                          \n",
       "Ticket   3101311 3101312 3101316 3101317  \n",
       "Survived                                  \n",
       "0            1.0     1.0     1.0     1.0  \n",
       "1            NaN     NaN     NaN     NaN  \n",
       "\n",
       "[2 rows x 8148 columns]"
      ]
     },
     "execution_count": 24,
     "metadata": {},
     "output_type": "execute_result"
    }
   ],
   "source": [
    "# Set all ticket numbers to integers\n",
    "def ticket_to_num(ticket):\n",
    "    if isinstance(ticket, int):\n",
    "        return ticket\n",
    "    if isinstance(ticket, str):\n",
    "        try:\n",
    "            if len(ticket.split(\" \")) > 1:\n",
    "                return int(ticket.split(\" \")[-1])\n",
    "            else:\n",
    "                return int(ticket)\n",
    "        except:\n",
    "            return 0\n",
    "    return 0\n",
    "            \n",
    "training_data['Ticket'] = training_data['Ticket'].map(ticket_to_num)\n",
    "testing_data['Ticket'] = testing_data['Ticket'].map(ticket_to_num)\n",
    "print(training_data['Ticket'])\n",
    "pd.pivot_table(training_data, index='Survived', columns='Ticket', aggfunc='count')"
   ]
  },
  {
   "cell_type": "code",
   "execution_count": 25,
   "id": "738f60e5",
   "metadata": {
    "execution": {
     "iopub.execute_input": "2022-11-13T17:31:32.759843Z",
     "iopub.status.busy": "2022-11-13T17:31:32.758612Z",
     "iopub.status.idle": "2022-11-13T17:31:33.205866Z",
     "shell.execute_reply": "2022-11-13T17:31:33.204499Z"
    },
    "papermill": {
     "duration": 0.468122,
     "end_time": "2022-11-13T17:31:33.208653",
     "exception": false,
     "start_time": "2022-11-13T17:31:32.740531",
     "status": "completed"
    },
    "tags": []
   },
   "outputs": [
    {
     "data": {
      "text/plain": [
       "<AxesSubplot:>"
      ]
     },
     "execution_count": 25,
     "metadata": {},
     "output_type": "execute_result"
    },
    {
     "data": {
      "image/png": "[encoded data removed]",
      "text/plain": [
       "<Figure size 432x288 with 2 Axes>"
      ]
     },
     "metadata": {
      "needs_background": "light"
     },
     "output_type": "display_data"
    }
   ],
   "source": [
    "# Plot correlation heatmap to observe what is correlated to survival with basic training data. \n",
    "sns.heatmap(training_data.corr(), cmap = \"Blues\", linewidths=0.5)"
   ]
  },
  {
   "cell_type": "code",
   "execution_count": 26,
   "id": "86cedb06",
   "metadata": {
    "execution": {
     "iopub.execute_input": "2022-11-13T17:31:33.247769Z",
     "iopub.status.busy": "2022-11-13T17:31:33.247360Z",
     "iopub.status.idle": "2022-11-13T17:31:33.260492Z",
     "shell.execute_reply": "2022-11-13T17:31:33.259255Z"
    },
    "papermill": {
     "duration": 0.034879,
     "end_time": "2022-11-13T17:31:33.262934",
     "exception": false,
     "start_time": "2022-11-13T17:31:33.228055",
     "status": "completed"
    },
    "tags": []
   },
   "outputs": [
    {
     "data": {
      "text/plain": [
       "((418, 9), (473, 9), (418,), (473,))"
      ]
     },
     "execution_count": 26,
     "metadata": {},
     "output_type": "execute_result"
    }
   ],
   "source": [
    "features = ['PassengerId', 'Pclass', 'Sex', 'Age', 'SibSp','Parch', 'Ticket', 'Fare', 'Embarked']\n",
    "X = training_data[features]\n",
    "Y = training_data['Survived']\n",
    "X_train, X_test, y_train, y_test = train_test_split(X, Y, test_size=0.53, train_size=0.47)\n",
    "X_train.shape, X_test.shape, y_train.shape, y_test.shape"
   ]
  },
  {
   "cell_type": "markdown",
   "id": "5cd6d279",
   "metadata": {
    "papermill": {
     "duration": 0.018488,
     "end_time": "2022-11-13T17:31:33.298691",
     "exception": false,
     "start_time": "2022-11-13T17:31:33.280203",
     "status": "completed"
    },
    "tags": []
   },
   "source": [
    "**Testing Various Models:**\n",
    "1. Random Forrest Classifier \n",
    "2. Gradient Boost Model\n",
    "3. Perceptron"
   ]
  },
  {
   "cell_type": "code",
   "execution_count": 27,
   "id": "537a9ff6",
   "metadata": {
    "execution": {
     "iopub.execute_input": "2022-11-13T17:31:33.337054Z",
     "iopub.status.busy": "2022-11-13T17:31:33.336409Z",
     "iopub.status.idle": "2022-11-13T17:31:36.922639Z",
     "shell.execute_reply": "2022-11-13T17:31:36.921538Z"
    },
    "papermill": {
     "duration": 3.60971,
     "end_time": "2022-11-13T17:31:36.926181",
     "exception": false,
     "start_time": "2022-11-13T17:31:33.316471",
     "status": "completed"
    },
    "tags": []
   },
   "outputs": [
    {
     "name": "stdout",
     "output_type": "stream",
     "text": [
      "Max Prediction: 1.0 with 500 predictors\n",
      "Min Prediction: 1.0 with 500 predictors\n",
      "Median Prediction: 1.0 with 500 predictors\n",
      "Mean Prediction: 1.0\n",
      "Standard Deviation of Predictions is: 0.0\n"
     ]
    }
   ],
   "source": [
    "# Random Forest \n",
    "\n",
    "rf_predictions = []\n",
    "rf_n_estimators = []\n",
    "for i in range(500,503):\n",
    "    random_forest_model = RandomForestClassifier(n_estimators=i)\n",
    "    random_forest_model.fit(X_train, y_train)\n",
    "    rf_prediction = random_forest_model.predict(X_train)\n",
    "    rf_predictions.append(random_forest_model.score(X_train, y_train))\n",
    "    rf_n_estimators.append(i)\n",
    "\n",
    "print(\"Max Prediction: \" + str(max(rf_predictions)) + \" with \" \n",
    "      + str(rf_n_estimators[rf_predictions.index(max(rf_predictions))]) + \" predictors\")\n",
    "print(\"Min Prediction: \" + str(min(rf_predictions)) + \" with \" \n",
    "      + str(rf_n_estimators[rf_predictions.index(min(rf_predictions))]) + \" predictors\") \n",
    "print(\"Median Prediction: \" + str(statistics.median(rf_predictions)) + \" with \" \n",
    "      + str(rf_n_estimators[rf_predictions.index(statistics.median(rf_predictions))]) + \" predictors\") \n",
    "print(\"Mean Prediction: \" + str(statistics.mean(rf_predictions))) \n",
    "print(\"Standard Deviation of Predictions is: \" + str(statistics.stdev(rf_predictions)))"
   ]
  },
  {
   "cell_type": "code",
   "execution_count": 28,
   "id": "175bf329",
   "metadata": {
    "execution": {
     "iopub.execute_input": "2022-11-13T17:31:36.968390Z",
     "iopub.status.busy": "2022-11-13T17:31:36.967893Z",
     "iopub.status.idle": "2022-11-13T17:31:38.774398Z",
     "shell.execute_reply": "2022-11-13T17:31:38.773022Z"
    },
    "papermill": {
     "duration": 1.833376,
     "end_time": "2022-11-13T17:31:38.777558",
     "exception": false,
     "start_time": "2022-11-13T17:31:36.944182",
     "status": "completed"
    },
    "tags": []
   },
   "outputs": [
    {
     "name": "stdout",
     "output_type": "stream",
     "text": [
      "Max Prediction: 1.0 with 500 predictors\n",
      "Min Prediction: 1.0 with 500 predictors\n",
      "Median Prediction: 1.0 with 500 predictors\n",
      "Mean Prediction: 1.0\n",
      "Standard Deviation of Predictions is: 0.0\n"
     ]
    }
   ],
   "source": [
    "# Gradient Boost Model\n",
    "gb_predictions = []\n",
    "gb_n_estimators = []\n",
    "for i in range(500,503):\n",
    "    gradient_boost_model = GradientBoostingClassifier(n_estimators = i)\n",
    "    gradient_boost_model.fit(X_train, y_train)\n",
    "    gb_prediction = gradient_boost_model.predict(X_train)\n",
    "    gb_predictions.append(gradient_boost_model.score(X_train, y_train))\n",
    "    gb_n_estimators.append(i)\n",
    "\n",
    "print(\"Max Prediction: \" + str(max(gb_predictions)) + \" with \" \n",
    "      + str(gb_n_estimators[gb_predictions.index(max(gb_predictions))]) + \" predictors\")\n",
    "print(\"Min Prediction: \" + str(min(gb_predictions)) + \" with \" \n",
    "      + str(gb_n_estimators[gb_predictions.index(min(gb_predictions))]) + \" predictors\") \n",
    "print(\"Median Prediction: \" + str(statistics.median(gb_predictions)) + \" with \" \n",
    "      + str(gb_n_estimators[gb_predictions.index(statistics.median(gb_predictions))]) + \" predictors\") \n",
    "print(\"Mean Prediction: \" + str(statistics.mean(gb_predictions))) \n",
    "print(\"Standard Deviation of Predictions is: \" + str(statistics.stdev(gb_predictions)))"
   ]
  },
  {
   "cell_type": "code",
   "execution_count": 29,
   "id": "30ee0669",
   "metadata": {
    "execution": {
     "iopub.execute_input": "2022-11-13T17:31:38.813870Z",
     "iopub.status.busy": "2022-11-13T17:31:38.813116Z",
     "iopub.status.idle": "2022-11-13T17:31:38.845724Z",
     "shell.execute_reply": "2022-11-13T17:31:38.843960Z"
    },
    "papermill": {
     "duration": 0.054434,
     "end_time": "2022-11-13T17:31:38.849081",
     "exception": false,
     "start_time": "2022-11-13T17:31:38.794647",
     "status": "completed"
    },
    "tags": []
   },
   "outputs": [
    {
     "name": "stdout",
     "output_type": "stream",
     "text": [
      "Max Prediction: 0.6196172248803827 with 500 predictors\n",
      "Min Prediction: 0.6196172248803827 with 500 predictors\n",
      "Median Prediction: 0.6196172248803827 with 500 predictors\n",
      "Mean Prediction: 0.6196172248803827\n",
      "Standard Deviation of Predictions is: 0.0\n"
     ]
    }
   ],
   "source": [
    "# Perceptron\n",
    "p_predictions = []\n",
    "p_n_estimators = []\n",
    "for i in range(500,503):\n",
    "    perceptron_model = Perceptron(max_iter=i)\n",
    "    perceptron_model.fit(X_train, y_train)\n",
    "    p_prediction = perceptron_model.predict(X_train)\n",
    "    p_predictions.append(perceptron_model.score(X_train, y_train))\n",
    "    p_n_estimators.append(i)\n",
    "\n",
    "print(\"Max Prediction: \" + str(max(p_predictions)) + \" with \" \n",
    "      + str(p_n_estimators[p_predictions.index(max(p_predictions))]) + \" predictors\")\n",
    "print(\"Min Prediction: \" + str(min(p_predictions)) + \" with \" \n",
    "      + str(p_n_estimators[p_predictions.index(min(p_predictions))]) + \" predictors\") \n",
    "print(\"Median Prediction: \" + str(statistics.median(p_predictions)) + \" with \" \n",
    "      + str(p_n_estimators[p_predictions.index(statistics.median(p_predictions))]) + \" predictors\") \n",
    "print(\"Mean Prediction: \" + str(statistics.mean(p_predictions))) \n",
    "print(\"Standard Deviation of Predictions is: \" + str(statistics.stdev(p_predictions)))"
   ]
  },
  {
   "cell_type": "markdown",
   "id": "af64a521",
   "metadata": {
    "papermill": {
     "duration": 0.017118,
     "end_time": "2022-11-13T17:31:38.883521",
     "exception": false,
     "start_time": "2022-11-13T17:31:38.866403",
     "status": "completed"
    },
    "tags": []
   },
   "source": [
    "Cross Validation for each model used is included below:"
   ]
  },
  {
   "cell_type": "code",
   "execution_count": 30,
   "id": "9d6ab7b8",
   "metadata": {
    "execution": {
     "iopub.execute_input": "2022-11-13T17:31:38.924072Z",
     "iopub.status.busy": "2022-11-13T17:31:38.922959Z",
     "iopub.status.idle": "2022-11-13T17:31:42.075278Z",
     "shell.execute_reply": "2022-11-13T17:31:42.073758Z"
    },
    "papermill": {
     "duration": 3.176693,
     "end_time": "2022-11-13T17:31:42.079174",
     "exception": false,
     "start_time": "2022-11-13T17:31:38.902481",
     "status": "completed"
    },
    "tags": []
   },
   "outputs": [
    {
     "name": "stdout",
     "output_type": "stream",
     "text": [
      "==============================\n",
      "Perceptron Cross Validation\n",
      "Scores: [0.64285714 0.61904762 0.66666667 0.61904762 0.61904762 0.5952381\n",
      " 0.64285714 0.61904762 0.36585366 0.63414634]\n",
      "Mean: 0.6023809523809524\n",
      "Standard Deviation: 0.08094790253510484\n",
      "==============================\n",
      "Random Forest Cross Validation\n",
      "Scores: [0.69047619 0.88095238 0.9047619  0.88095238 0.83333333 0.85714286\n",
      " 0.88095238 0.78571429 0.82926829 0.75609756]\n",
      "Mean: 0.8299651567944251\n",
      "Standard Deviation: 0.0640436064298853\n",
      "==============================\n",
      "Gradient Boost Cross Validation\n",
      "Scores: [0.78571429 0.83333333 0.85714286 0.83333333 0.80952381 0.80952381\n",
      " 0.85714286 0.80952381 0.82926829 0.75609756]\n",
      "Mean: 0.8180603948896632\n",
      "Standard Deviation: 0.029582602009405295\n",
      "Cross Validation Means: \n",
      "{'p_mean': 0.6023809523809524, 'rf_mean': 0.8299651567944251, 'gb_mean': 0.8180603948896632}\n"
     ]
    }
   ],
   "source": [
    "# Cross Validation method is used to further evaluate the scores of the models \n",
    "perceptron_model = Perceptron()\n",
    "perceptron_scores = cross_val_score(perceptron_model, X_train, y_train, cv=10, scoring = \"accuracy\")\n",
    "random_forest_model = RandomForestClassifier()\n",
    "random_forest_scores = cross_val_score(random_forest_model, X_train, y_train, cv=10, scoring = \"accuracy\")\n",
    "gradient_boost_model = GradientBoostingClassifier()\n",
    "gradient_boost_scores = cross_val_score(gradient_boost_model, X_train, y_train, cv=10, scoring = \"accuracy\")\n",
    "cross_validation_means = {}\n",
    "print(\"==============================\")\n",
    "print(\"Perceptron Cross Validation\")\n",
    "print(\"Scores:\", perceptron_scores)\n",
    "cross_validation_means[\"p_mean\"] = perceptron_scores.mean()\n",
    "print(\"Mean:\", perceptron_scores.mean())\n",
    "print(\"Standard Deviation:\", perceptron_scores.std())\n",
    "print(\"==============================\")\n",
    "print(\"Random Forest Cross Validation\")\n",
    "print(\"Scores:\", random_forest_scores)\n",
    "cross_validation_means[\"rf_mean\"] = random_forest_scores.mean()\n",
    "print(\"Mean:\", random_forest_scores.mean())\n",
    "print(\"Standard Deviation:\", random_forest_scores.std())\n",
    "print(\"==============================\")\n",
    "print(\"Gradient Boost Cross Validation\")\n",
    "print(\"Scores:\", gradient_boost_scores)\n",
    "cross_validation_means[\"gb_mean\"] = gradient_boost_scores.mean()\n",
    "print(\"Mean:\", gradient_boost_scores.mean())\n",
    "print(\"Standard Deviation:\", gradient_boost_scores.std())\n",
    "print(\"Cross Validation Means: \")\n",
    "print(cross_validation_means)"
   ]
  },
  {
   "cell_type": "markdown",
   "id": "6f76f5f2",
   "metadata": {
    "papermill": {
     "duration": 0.017779,
     "end_time": "2022-11-13T17:31:42.116266",
     "exception": false,
     "start_time": "2022-11-13T17:31:42.098487",
     "status": "completed"
    },
    "tags": []
   },
   "source": [
    "**Submission:**\n",
    "Preparing the submission csv with the best performing predictor "
   ]
  },
  {
   "cell_type": "code",
   "execution_count": 31,
   "id": "597a8946",
   "metadata": {
    "execution": {
     "iopub.execute_input": "2022-11-13T17:31:42.153420Z",
     "iopub.status.busy": "2022-11-13T17:31:42.153019Z",
     "iopub.status.idle": "2022-11-13T17:31:42.167118Z",
     "shell.execute_reply": "2022-11-13T17:31:42.165818Z"
    },
    "papermill": {
     "duration": 0.036552,
     "end_time": "2022-11-13T17:31:42.170274",
     "exception": false,
     "start_time": "2022-11-13T17:31:42.133722",
     "status": "completed"
    },
    "tags": []
   },
   "outputs": [
    {
     "name": "stdout",
     "output_type": "stream",
     "text": [
      "Random Forest is the best prediction\n",
      "Testing_Data Length: 418\n",
      "Best Prediction: 418\n"
     ]
    }
   ],
   "source": [
    "# Randfom Forest has the best score. In the event that anything changes, \n",
    "# this code selects the best prediction based on the mean cross validation score\n",
    "max_mean_cross_validation_score = max(cross_validation_means, key = cross_validation_means.get)\n",
    "predictions = {\"rf\": rf_prediction, \"gb\": gb_prediction, \"p\": p_prediction}\n",
    "prediction_names = {\"rf\": \"Random Forest\", \"gb\": \"Gradient Boost\", \"p\": \"Perceptron\"}\n",
    "best_prediction_prefix = max_mean_cross_validation_score.split(\"_\")[0]\n",
    "best_prediction = predictions[best_prediction_prefix]\n",
    "print(prediction_names[best_prediction_prefix] + \" is the best prediction\")\n",
    "\n",
    "print(\"Testing_Data Length: \" + str(len(testing_data[\"PassengerId\"])))\n",
    "print(\"Best Prediction: \" + str(len(best_prediction)))\n",
    "submission = pd.DataFrame({\n",
    "#         \"PassengerId\": training_data[\"PassengerId\"].head(len(best_prediction)),\n",
    "#         \"Survived\": best_prediction\n",
    "        \"PassengerId\": testing_data[\"PassengerId\"],\n",
    "        \"Survived\": best_prediction\n",
    "    })\n",
    "\n",
    "submission.to_csv('submission.csv', index=False)"
   ]
  },
  {
   "cell_type": "code",
   "execution_count": 32,
   "id": "97e876cc",
   "metadata": {
    "execution": {
     "iopub.execute_input": "2022-11-13T17:31:42.207724Z",
     "iopub.status.busy": "2022-11-13T17:31:42.207225Z",
     "iopub.status.idle": "2022-11-13T17:31:42.220613Z",
     "shell.execute_reply": "2022-11-13T17:31:42.219197Z"
    },
    "papermill": {
     "duration": 0.034588,
     "end_time": "2022-11-13T17:31:42.223128",
     "exception": false,
     "start_time": "2022-11-13T17:31:42.188540",
     "status": "completed"
    },
    "tags": []
   },
   "outputs": [
    {
     "data": {
      "text/html": [
       "<div>\n",
       "<style scoped>\n",
       "    .dataframe tbody tr th:only-of-type {\n",
       "        vertical-align: middle;\n",
       "    }\n",
       "\n",
       "    .dataframe tbody tr th {\n",
       "        vertical-align: top;\n",
       "    }\n",
       "\n",
       "    .dataframe thead th {\n",
       "        text-align: right;\n",
       "    }\n",
       "</style>\n",
       "<table border=\"1\" class=\"dataframe\">\n",
       "  <thead>\n",
       "    <tr style=\"text-align: right;\">\n",
       "      <th></th>\n",
       "      <th>PassengerId</th>\n",
       "      <th>Survived</th>\n",
       "    </tr>\n",
       "  </thead>\n",
       "  <tbody>\n",
       "    <tr>\n",
       "      <th>0</th>\n",
       "      <td>892</td>\n",
       "      <td>0</td>\n",
       "    </tr>\n",
       "    <tr>\n",
       "      <th>1</th>\n",
       "      <td>893</td>\n",
       "      <td>1</td>\n",
       "    </tr>\n",
       "    <tr>\n",
       "      <th>2</th>\n",
       "      <td>894</td>\n",
       "      <td>0</td>\n",
       "    </tr>\n",
       "    <tr>\n",
       "      <th>3</th>\n",
       "      <td>895</td>\n",
       "      <td>0</td>\n",
       "    </tr>\n",
       "    <tr>\n",
       "      <th>4</th>\n",
       "      <td>896</td>\n",
       "      <td>1</td>\n",
       "    </tr>\n",
       "    <tr>\n",
       "      <th>5</th>\n",
       "      <td>897</td>\n",
       "      <td>1</td>\n",
       "    </tr>\n",
       "    <tr>\n",
       "      <th>6</th>\n",
       "      <td>898</td>\n",
       "      <td>0</td>\n",
       "    </tr>\n",
       "    <tr>\n",
       "      <th>7</th>\n",
       "      <td>899</td>\n",
       "      <td>1</td>\n",
       "    </tr>\n",
       "    <tr>\n",
       "      <th>8</th>\n",
       "      <td>900</td>\n",
       "      <td>0</td>\n",
       "    </tr>\n",
       "    <tr>\n",
       "      <th>9</th>\n",
       "      <td>901</td>\n",
       "      <td>0</td>\n",
       "    </tr>\n",
       "  </tbody>\n",
       "</table>\n",
       "</div>"
      ],
      "text/plain": [
       "   PassengerId  Survived\n",
       "0          892         0\n",
       "1          893         1\n",
       "2          894         0\n",
       "3          895         0\n",
       "4          896         1\n",
       "5          897         1\n",
       "6          898         0\n",
       "7          899         1\n",
       "8          900         0\n",
       "9          901         0"
      ]
     },
     "execution_count": 32,
     "metadata": {},
     "output_type": "execute_result"
    }
   ],
   "source": [
    "data = pd.read_csv(\"submission.csv\")\n",
    "data.head(10)"
   ]
  }
 ],
 "metadata": {
  "kernelspec": {
   "display_name": "Python 3",
   "language": "python",
   "name": "python3"
  },
  "language_info": {
   "codemirror_mode": {
    "name": "ipython",
    "version": 3
   },
   "file_extension": ".py",
   "mimetype": "text/x-python",
   "name": "python",
   "nbconvert_exporter": "python",
   "pygments_lexer": "ipython3",
   "version": "3.7.12"
  },
  "papermill": {
   "default_parameters": {},
   "duration": 27.812465,
   "end_time": "2022-11-13T17:31:43.163500",
   "environment_variables": {},
   "exception": null,
   "input_path": "__notebook__.ipynb",
   "output_path": "__notebook__.ipynb",
   "parameters": {},
   "start_time": "2022-11-13T17:31:15.351035",
   "version": "2.3.4"
  }
 },
 "nbformat": 4,
 "nbformat_minor": 5
}
