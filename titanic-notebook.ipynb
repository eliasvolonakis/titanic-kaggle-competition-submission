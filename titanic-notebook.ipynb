{
 "cells": [
  {
   "cell_type": "markdown",
   "id": "80f070df",
   "metadata": {
    "papermill": {
     "duration": 0.014359,
     "end_time": "2022-11-13T23:04:49.694096",
     "exception": false,
     "start_time": "2022-11-13T23:04:49.679737",
     "status": "completed"
    },
    "tags": []
   },
   "source": [
    "**Overview of Notebook:**\n",
    "1. All required imports and data collection\n",
    "2. Exploratory Data Analysis (EDA)\n",
    "3. Feature Engineering\n",
    "4. Testing Various Models\n",
    "5. Preparing the CSV Submission"
   ]
  },
  {
   "cell_type": "code",
   "execution_count": 1,
   "id": "cb2e0bd9",
   "metadata": {
    "execution": {
     "iopub.execute_input": "2022-11-13T23:04:49.716674Z",
     "iopub.status.busy": "2022-11-13T23:04:49.716140Z",
     "iopub.status.idle": "2022-11-13T23:04:51.220489Z",
     "shell.execute_reply": "2022-11-13T23:04:51.219189Z"
    },
    "papermill": {
     "duration": 1.518821,
     "end_time": "2022-11-13T23:04:51.223571",
     "exception": false,
     "start_time": "2022-11-13T23:04:49.704750",
     "status": "completed"
    },
    "tags": []
   },
   "outputs": [
    {
     "name": "stdout",
     "output_type": "stream",
     "text": [
      "/kaggle/input/titanic/train.csv\n",
      "/kaggle/input/titanic/test.csv\n",
      "/kaggle/input/titanic/gender_submission.csv\n"
     ]
    }
   ],
   "source": [
    "# All required import statements \n",
    "import math\n",
    "import numpy as np \n",
    "import pandas as pd \n",
    "import seaborn as sns\n",
    "from matplotlib import pyplot as plt\n",
    "from sklearn.model_selection import train_test_split\n",
    "from numpy import median\n",
    "import statistics\n",
    "from sklearn.ensemble import RandomForestClassifier\n",
    "from sklearn.ensemble import GradientBoostingClassifier\n",
    "from sklearn.linear_model import Perceptron\n",
    "from sklearn.model_selection import cross_val_score\n",
    "from sklearn.metrics import f1_score\n",
    "from sklearn.preprocessing import StandardScaler\n",
    "%matplotlib inline\n",
    "\n",
    "import os\n",
    "for dirname, _, filenames in os.walk('/kaggle/input'):\n",
    "    for filename in filenames:\n",
    "        print(os.path.join(dirname, filename))"
   ]
  },
  {
   "cell_type": "code",
   "execution_count": 2,
   "id": "d43a2baa",
   "metadata": {
    "execution": {
     "iopub.execute_input": "2022-11-13T23:04:51.243728Z",
     "iopub.status.busy": "2022-11-13T23:04:51.243276Z",
     "iopub.status.idle": "2022-11-13T23:04:51.297943Z",
     "shell.execute_reply": "2022-11-13T23:04:51.296874Z"
    },
    "papermill": {
     "duration": 0.068058,
     "end_time": "2022-11-13T23:04:51.300835",
     "exception": false,
     "start_time": "2022-11-13T23:04:51.232777",
     "status": "completed"
    },
    "tags": []
   },
   "outputs": [
    {
     "name": "stdout",
     "output_type": "stream",
     "text": [
      "<class 'pandas.core.frame.DataFrame'>\n",
      "RangeIndex: 891 entries, 0 to 890\n",
      "Data columns (total 12 columns):\n",
      " #   Column       Non-Null Count  Dtype  \n",
      "---  ------       --------------  -----  \n",
      " 0   PassengerId  891 non-null    int64  \n",
      " 1   Survived     891 non-null    int64  \n",
      " 2   Pclass       891 non-null    int64  \n",
      " 3   Name         891 non-null    object \n",
      " 4   Sex          891 non-null    object \n",
      " 5   Age          714 non-null    float64\n",
      " 6   SibSp        891 non-null    int64  \n",
      " 7   Parch        891 non-null    int64  \n",
      " 8   Ticket       891 non-null    object \n",
      " 9   Fare         891 non-null    float64\n",
      " 10  Cabin        204 non-null    object \n",
      " 11  Embarked     889 non-null    object \n",
      "dtypes: float64(2), int64(5), object(5)\n",
      "memory usage: 83.7+ KB\n",
      "<class 'pandas.core.frame.DataFrame'>\n",
      "RangeIndex: 418 entries, 0 to 417\n",
      "Data columns (total 11 columns):\n",
      " #   Column       Non-Null Count  Dtype  \n",
      "---  ------       --------------  -----  \n",
      " 0   PassengerId  418 non-null    int64  \n",
      " 1   Pclass       418 non-null    int64  \n",
      " 2   Name         418 non-null    object \n",
      " 3   Sex          418 non-null    object \n",
      " 4   Age          332 non-null    float64\n",
      " 5   SibSp        418 non-null    int64  \n",
      " 6   Parch        418 non-null    int64  \n",
      " 7   Ticket       418 non-null    object \n",
      " 8   Fare         417 non-null    float64\n",
      " 9   Cabin        91 non-null     object \n",
      " 10  Embarked     418 non-null    object \n",
      "dtypes: float64(2), int64(4), object(5)\n",
      "memory usage: 36.0+ KB\n"
     ]
    }
   ],
   "source": [
    "# Examine the head of the dataset to get an initial understanding of what the data looks like\n",
    "training_data = pd.read_csv(\"../input/titanic/train.csv\")\n",
    "testing_data = pd.read_csv(\"../input/titanic/test.csv\")\n",
    "\n",
    "training_data.info()\n",
    "testing_data.info()"
   ]
  },
  {
   "cell_type": "markdown",
   "id": "921437e4",
   "metadata": {
    "papermill": {
     "duration": 0.00893,
     "end_time": "2022-11-13T23:04:51.320416",
     "exception": false,
     "start_time": "2022-11-13T23:04:51.311486",
     "status": "completed"
    },
    "tags": []
   },
   "source": [
    "**Exploratory Data Analysis (EDA):**\n",
    "\n",
    "Now that the data has been collected, some exploratory data analysis is required "
   ]
  },
  {
   "cell_type": "code",
   "execution_count": 3,
   "id": "edfebc61",
   "metadata": {
    "execution": {
     "iopub.execute_input": "2022-11-13T23:04:51.341859Z",
     "iopub.status.busy": "2022-11-13T23:04:51.341445Z",
     "iopub.status.idle": "2022-11-13T23:04:51.383722Z",
     "shell.execute_reply": "2022-11-13T23:04:51.382426Z"
    },
    "papermill": {
     "duration": 0.055052,
     "end_time": "2022-11-13T23:04:51.386119",
     "exception": false,
     "start_time": "2022-11-13T23:04:51.331067",
     "status": "completed"
    },
    "tags": []
   },
   "outputs": [
    {
     "data": {
      "text/html": [
       "<div>\n",
       "<style scoped>\n",
       "    .dataframe tbody tr th:only-of-type {\n",
       "        vertical-align: middle;\n",
       "    }\n",
       "\n",
       "    .dataframe tbody tr th {\n",
       "        vertical-align: top;\n",
       "    }\n",
       "\n",
       "    .dataframe thead th {\n",
       "        text-align: right;\n",
       "    }\n",
       "</style>\n",
       "<table border=\"1\" class=\"dataframe\">\n",
       "  <thead>\n",
       "    <tr style=\"text-align: right;\">\n",
       "      <th></th>\n",
       "      <th>PassengerId</th>\n",
       "      <th>Survived</th>\n",
       "      <th>Pclass</th>\n",
       "      <th>Age</th>\n",
       "      <th>SibSp</th>\n",
       "      <th>Parch</th>\n",
       "      <th>Fare</th>\n",
       "    </tr>\n",
       "  </thead>\n",
       "  <tbody>\n",
       "    <tr>\n",
       "      <th>count</th>\n",
       "      <td>891.000000</td>\n",
       "      <td>891.000000</td>\n",
       "      <td>891.000000</td>\n",
       "      <td>714.000000</td>\n",
       "      <td>891.000000</td>\n",
       "      <td>891.000000</td>\n",
       "      <td>891.000000</td>\n",
       "    </tr>\n",
       "    <tr>\n",
       "      <th>mean</th>\n",
       "      <td>446.000000</td>\n",
       "      <td>0.383838</td>\n",
       "      <td>2.308642</td>\n",
       "      <td>29.699118</td>\n",
       "      <td>0.523008</td>\n",
       "      <td>0.381594</td>\n",
       "      <td>32.204208</td>\n",
       "    </tr>\n",
       "    <tr>\n",
       "      <th>std</th>\n",
       "      <td>257.353842</td>\n",
       "      <td>0.486592</td>\n",
       "      <td>0.836071</td>\n",
       "      <td>14.526497</td>\n",
       "      <td>1.102743</td>\n",
       "      <td>0.806057</td>\n",
       "      <td>49.693429</td>\n",
       "    </tr>\n",
       "    <tr>\n",
       "      <th>min</th>\n",
       "      <td>1.000000</td>\n",
       "      <td>0.000000</td>\n",
       "      <td>1.000000</td>\n",
       "      <td>0.420000</td>\n",
       "      <td>0.000000</td>\n",
       "      <td>0.000000</td>\n",
       "      <td>0.000000</td>\n",
       "    </tr>\n",
       "    <tr>\n",
       "      <th>25%</th>\n",
       "      <td>223.500000</td>\n",
       "      <td>0.000000</td>\n",
       "      <td>2.000000</td>\n",
       "      <td>20.125000</td>\n",
       "      <td>0.000000</td>\n",
       "      <td>0.000000</td>\n",
       "      <td>7.910400</td>\n",
       "    </tr>\n",
       "    <tr>\n",
       "      <th>50%</th>\n",
       "      <td>446.000000</td>\n",
       "      <td>0.000000</td>\n",
       "      <td>3.000000</td>\n",
       "      <td>28.000000</td>\n",
       "      <td>0.000000</td>\n",
       "      <td>0.000000</td>\n",
       "      <td>14.454200</td>\n",
       "    </tr>\n",
       "    <tr>\n",
       "      <th>75%</th>\n",
       "      <td>668.500000</td>\n",
       "      <td>1.000000</td>\n",
       "      <td>3.000000</td>\n",
       "      <td>38.000000</td>\n",
       "      <td>1.000000</td>\n",
       "      <td>0.000000</td>\n",
       "      <td>31.000000</td>\n",
       "    </tr>\n",
       "    <tr>\n",
       "      <th>max</th>\n",
       "      <td>891.000000</td>\n",
       "      <td>1.000000</td>\n",
       "      <td>3.000000</td>\n",
       "      <td>80.000000</td>\n",
       "      <td>8.000000</td>\n",
       "      <td>6.000000</td>\n",
       "      <td>512.329200</td>\n",
       "    </tr>\n",
       "  </tbody>\n",
       "</table>\n",
       "</div>"
      ],
      "text/plain": [
       "       PassengerId    Survived      Pclass         Age       SibSp  \\\n",
       "count   891.000000  891.000000  891.000000  714.000000  891.000000   \n",
       "mean    446.000000    0.383838    2.308642   29.699118    0.523008   \n",
       "std     257.353842    0.486592    0.836071   14.526497    1.102743   \n",
       "min       1.000000    0.000000    1.000000    0.420000    0.000000   \n",
       "25%     223.500000    0.000000    2.000000   20.125000    0.000000   \n",
       "50%     446.000000    0.000000    3.000000   28.000000    0.000000   \n",
       "75%     668.500000    1.000000    3.000000   38.000000    1.000000   \n",
       "max     891.000000    1.000000    3.000000   80.000000    8.000000   \n",
       "\n",
       "            Parch        Fare  \n",
       "count  891.000000  891.000000  \n",
       "mean     0.381594   32.204208  \n",
       "std      0.806057   49.693429  \n",
       "min      0.000000    0.000000  \n",
       "25%      0.000000    7.910400  \n",
       "50%      0.000000   14.454200  \n",
       "75%      0.000000   31.000000  \n",
       "max      6.000000  512.329200  "
      ]
     },
     "execution_count": 3,
     "metadata": {},
     "output_type": "execute_result"
    }
   ],
   "source": [
    "# Get some information of the training dataset \n",
    "training_data.describe()"
   ]
  },
  {
   "cell_type": "code",
   "execution_count": 4,
   "id": "2564393d",
   "metadata": {
    "execution": {
     "iopub.execute_input": "2022-11-13T23:04:51.408539Z",
     "iopub.status.busy": "2022-11-13T23:04:51.407796Z",
     "iopub.status.idle": "2022-11-13T23:04:51.436620Z",
     "shell.execute_reply": "2022-11-13T23:04:51.435448Z"
    },
    "papermill": {
     "duration": 0.043243,
     "end_time": "2022-11-13T23:04:51.439108",
     "exception": false,
     "start_time": "2022-11-13T23:04:51.395865",
     "status": "completed"
    },
    "tags": []
   },
   "outputs": [
    {
     "data": {
      "text/html": [
       "<div>\n",
       "<style scoped>\n",
       "    .dataframe tbody tr th:only-of-type {\n",
       "        vertical-align: middle;\n",
       "    }\n",
       "\n",
       "    .dataframe tbody tr th {\n",
       "        vertical-align: top;\n",
       "    }\n",
       "\n",
       "    .dataframe thead th {\n",
       "        text-align: right;\n",
       "    }\n",
       "</style>\n",
       "<table border=\"1\" class=\"dataframe\">\n",
       "  <thead>\n",
       "    <tr style=\"text-align: right;\">\n",
       "      <th></th>\n",
       "      <th>PassengerId</th>\n",
       "      <th>Pclass</th>\n",
       "      <th>Age</th>\n",
       "      <th>SibSp</th>\n",
       "      <th>Parch</th>\n",
       "      <th>Fare</th>\n",
       "    </tr>\n",
       "  </thead>\n",
       "  <tbody>\n",
       "    <tr>\n",
       "      <th>count</th>\n",
       "      <td>418.000000</td>\n",
       "      <td>418.000000</td>\n",
       "      <td>332.000000</td>\n",
       "      <td>418.000000</td>\n",
       "      <td>418.000000</td>\n",
       "      <td>417.000000</td>\n",
       "    </tr>\n",
       "    <tr>\n",
       "      <th>mean</th>\n",
       "      <td>1100.500000</td>\n",
       "      <td>2.265550</td>\n",
       "      <td>30.272590</td>\n",
       "      <td>0.447368</td>\n",
       "      <td>0.392344</td>\n",
       "      <td>35.627188</td>\n",
       "    </tr>\n",
       "    <tr>\n",
       "      <th>std</th>\n",
       "      <td>120.810458</td>\n",
       "      <td>0.841838</td>\n",
       "      <td>14.181209</td>\n",
       "      <td>0.896760</td>\n",
       "      <td>0.981429</td>\n",
       "      <td>55.907576</td>\n",
       "    </tr>\n",
       "    <tr>\n",
       "      <th>min</th>\n",
       "      <td>892.000000</td>\n",
       "      <td>1.000000</td>\n",
       "      <td>0.170000</td>\n",
       "      <td>0.000000</td>\n",
       "      <td>0.000000</td>\n",
       "      <td>0.000000</td>\n",
       "    </tr>\n",
       "    <tr>\n",
       "      <th>25%</th>\n",
       "      <td>996.250000</td>\n",
       "      <td>1.000000</td>\n",
       "      <td>21.000000</td>\n",
       "      <td>0.000000</td>\n",
       "      <td>0.000000</td>\n",
       "      <td>7.895800</td>\n",
       "    </tr>\n",
       "    <tr>\n",
       "      <th>50%</th>\n",
       "      <td>1100.500000</td>\n",
       "      <td>3.000000</td>\n",
       "      <td>27.000000</td>\n",
       "      <td>0.000000</td>\n",
       "      <td>0.000000</td>\n",
       "      <td>14.454200</td>\n",
       "    </tr>\n",
       "    <tr>\n",
       "      <th>75%</th>\n",
       "      <td>1204.750000</td>\n",
       "      <td>3.000000</td>\n",
       "      <td>39.000000</td>\n",
       "      <td>1.000000</td>\n",
       "      <td>0.000000</td>\n",
       "      <td>31.500000</td>\n",
       "    </tr>\n",
       "    <tr>\n",
       "      <th>max</th>\n",
       "      <td>1309.000000</td>\n",
       "      <td>3.000000</td>\n",
       "      <td>76.000000</td>\n",
       "      <td>8.000000</td>\n",
       "      <td>9.000000</td>\n",
       "      <td>512.329200</td>\n",
       "    </tr>\n",
       "  </tbody>\n",
       "</table>\n",
       "</div>"
      ],
      "text/plain": [
       "       PassengerId      Pclass         Age       SibSp       Parch        Fare\n",
       "count   418.000000  418.000000  332.000000  418.000000  418.000000  417.000000\n",
       "mean   1100.500000    2.265550   30.272590    0.447368    0.392344   35.627188\n",
       "std     120.810458    0.841838   14.181209    0.896760    0.981429   55.907576\n",
       "min     892.000000    1.000000    0.170000    0.000000    0.000000    0.000000\n",
       "25%     996.250000    1.000000   21.000000    0.000000    0.000000    7.895800\n",
       "50%    1100.500000    3.000000   27.000000    0.000000    0.000000   14.454200\n",
       "75%    1204.750000    3.000000   39.000000    1.000000    0.000000   31.500000\n",
       "max    1309.000000    3.000000   76.000000    8.000000    9.000000  512.329200"
      ]
     },
     "execution_count": 4,
     "metadata": {},
     "output_type": "execute_result"
    }
   ],
   "source": [
    "# Get some information of the testing dataset \n",
    "testing_data.describe()"
   ]
  },
  {
   "cell_type": "code",
   "execution_count": 5,
   "id": "79a174ba",
   "metadata": {
    "execution": {
     "iopub.execute_input": "2022-11-13T23:04:51.460974Z",
     "iopub.status.busy": "2022-11-13T23:04:51.460294Z",
     "iopub.status.idle": "2022-11-13T23:04:51.505415Z",
     "shell.execute_reply": "2022-11-13T23:04:51.504287Z"
    },
    "papermill": {
     "duration": 0.058898,
     "end_time": "2022-11-13T23:04:51.507822",
     "exception": false,
     "start_time": "2022-11-13T23:04:51.448924",
     "status": "completed"
    },
    "tags": []
   },
   "outputs": [
    {
     "name": "stdout",
     "output_type": "stream",
     "text": [
      "Training Data Information:\n",
      "(891, 12)\n",
      "Testing Data Information:\n",
      "(418, 11)\n"
     ]
    },
    {
     "data": {
      "text/plain": [
       "Index(['PassengerId', 'Survived', 'Pclass', 'Age', 'SibSp', 'Parch', 'Fare'], dtype='object')"
      ]
     },
     "execution_count": 5,
     "metadata": {},
     "output_type": "execute_result"
    }
   ],
   "source": [
    "# Identify the columns of the training data\n",
    "print(\"Training Data Information:\")\n",
    "print(training_data.shape)\n",
    "training_data.describe().columns\n",
    "print(\"Testing Data Information:\")\n",
    "print(testing_data.shape)\n",
    "training_data.describe().columns"
   ]
  },
  {
   "cell_type": "code",
   "execution_count": 6,
   "id": "fff22358",
   "metadata": {
    "execution": {
     "iopub.execute_input": "2022-11-13T23:04:51.529391Z",
     "iopub.status.busy": "2022-11-13T23:04:51.528912Z",
     "iopub.status.idle": "2022-11-13T23:04:51.544301Z",
     "shell.execute_reply": "2022-11-13T23:04:51.543254Z"
    },
    "papermill": {
     "duration": 0.029166,
     "end_time": "2022-11-13T23:04:51.547034",
     "exception": false,
     "start_time": "2022-11-13T23:04:51.517868",
     "status": "completed"
    },
    "tags": []
   },
   "outputs": [
    {
     "name": "stdout",
     "output_type": "stream",
     "text": [
      "     PassengerId  Survived  Pclass  \\\n",
      "473          474         1       2   \n",
      "474          475         0       3   \n",
      "475          476         0       1   \n",
      "476          477         0       2   \n",
      "477          478         0       3   \n",
      "..           ...       ...     ...   \n",
      "886          887         0       2   \n",
      "887          888         1       1   \n",
      "888          889         0       3   \n",
      "889          890         1       1   \n",
      "890          891         0       3   \n",
      "\n",
      "                                             Name     Sex   Age  SibSp  Parch  \\\n",
      "473  Jerwan, Mrs. Amin S (Marie Marthe Thuillard)  female  23.0      0      0   \n",
      "474                   Strandberg, Miss. Ida Sofia  female  22.0      0      0   \n",
      "475                   Clifford, Mr. George Quincy    male   NaN      0      0   \n",
      "476                       Renouf, Mr. Peter Henry    male  34.0      1      0   \n",
      "477                     Braund, Mr. Lewis Richard    male  29.0      1      0   \n",
      "..                                            ...     ...   ...    ...    ...   \n",
      "886                         Montvila, Rev. Juozas    male  27.0      0      0   \n",
      "887                  Graham, Miss. Margaret Edith  female  19.0      0      0   \n",
      "888      Johnston, Miss. Catherine Helen \"Carrie\"  female   NaN      1      2   \n",
      "889                         Behr, Mr. Karl Howell    male  26.0      0      0   \n",
      "890                           Dooley, Mr. Patrick    male  32.0      0      0   \n",
      "\n",
      "              Ticket     Fare Cabin Embarked  \n",
      "473  SC/AH Basle 541  13.7917     D        C  \n",
      "474             7553   9.8375   NaN        S  \n",
      "475           110465  52.0000   A14        S  \n",
      "476            31027  21.0000   NaN        S  \n",
      "477             3460   7.0458   NaN        S  \n",
      "..               ...      ...   ...      ...  \n",
      "886           211536  13.0000   NaN        S  \n",
      "887           112053  30.0000   B42        S  \n",
      "888       W./C. 6607  23.4500   NaN        S  \n",
      "889           111369  30.0000  C148        C  \n",
      "890           370376   7.7500   NaN        Q  \n",
      "\n",
      "[418 rows x 12 columns]\n"
     ]
    }
   ],
   "source": [
    "print(training_data[473:])"
   ]
  },
  {
   "cell_type": "code",
   "execution_count": 7,
   "id": "189abf16",
   "metadata": {
    "execution": {
     "iopub.execute_input": "2022-11-13T23:04:51.568932Z",
     "iopub.status.busy": "2022-11-13T23:04:51.568495Z",
     "iopub.status.idle": "2022-11-13T23:04:51.583439Z",
     "shell.execute_reply": "2022-11-13T23:04:51.582511Z"
    },
    "papermill": {
     "duration": 0.028545,
     "end_time": "2022-11-13T23:04:51.585755",
     "exception": false,
     "start_time": "2022-11-13T23:04:51.557210",
     "status": "completed"
    },
    "tags": []
   },
   "outputs": [
    {
     "name": "stdout",
     "output_type": "stream",
     "text": [
      "     PassengerId  Pclass                                          Name  \\\n",
      "0            892       3                              Kelly, Mr. James   \n",
      "1            893       3              Wilkes, Mrs. James (Ellen Needs)   \n",
      "2            894       2                     Myles, Mr. Thomas Francis   \n",
      "3            895       3                              Wirz, Mr. Albert   \n",
      "4            896       3  Hirvonen, Mrs. Alexander (Helga E Lindqvist)   \n",
      "..           ...     ...                                           ...   \n",
      "413         1305       3                            Spector, Mr. Woolf   \n",
      "414         1306       1                  Oliva y Ocana, Dona. Fermina   \n",
      "415         1307       3                  Saether, Mr. Simon Sivertsen   \n",
      "416         1308       3                           Ware, Mr. Frederick   \n",
      "417         1309       3                      Peter, Master. Michael J   \n",
      "\n",
      "        Sex   Age  SibSp  Parch              Ticket      Fare Cabin Embarked  \n",
      "0      male  34.5      0      0              330911    7.8292   NaN        Q  \n",
      "1    female  47.0      1      0              363272    7.0000   NaN        S  \n",
      "2      male  62.0      0      0              240276    9.6875   NaN        Q  \n",
      "3      male  27.0      0      0              315154    8.6625   NaN        S  \n",
      "4    female  22.0      1      1             3101298   12.2875   NaN        S  \n",
      "..      ...   ...    ...    ...                 ...       ...   ...      ...  \n",
      "413    male   NaN      0      0           A.5. 3236    8.0500   NaN        S  \n",
      "414  female  39.0      0      0            PC 17758  108.9000  C105        C  \n",
      "415    male  38.5      0      0  SOTON/O.Q. 3101262    7.2500   NaN        S  \n",
      "416    male   NaN      0      0              359309    8.0500   NaN        S  \n",
      "417    male   NaN      1      1                2668   22.3583   NaN        C  \n",
      "\n",
      "[418 rows x 11 columns]\n"
     ]
    }
   ],
   "source": [
    "print(testing_data)"
   ]
  },
  {
   "cell_type": "code",
   "execution_count": 8,
   "id": "1dee6499",
   "metadata": {
    "execution": {
     "iopub.execute_input": "2022-11-13T23:04:51.608720Z",
     "iopub.status.busy": "2022-11-13T23:04:51.607430Z",
     "iopub.status.idle": "2022-11-13T23:04:51.930287Z",
     "shell.execute_reply": "2022-11-13T23:04:51.929156Z"
    },
    "papermill": {
     "duration": 0.336617,
     "end_time": "2022-11-13T23:04:51.932676",
     "exception": false,
     "start_time": "2022-11-13T23:04:51.596059",
     "status": "completed"
    },
    "tags": []
   },
   "outputs": [
    {
     "data": {
      "text/plain": [
       "<AxesSubplot:xlabel='Age', ylabel='Count'>"
      ]
     },
     "execution_count": 8,
     "metadata": {},
     "output_type": "execute_result"
    },
    {
     "data": {
      "image/png": "[encoded data removed]",
      "text/plain": [
       "<Figure size 432x288 with 1 Axes>"
      ]
     },
     "metadata": {
      "needs_background": "light"
     },
     "output_type": "display_data"
    }
   ],
   "source": [
    "# Seperate the data into numeric and categorical data\n",
    "numeric_data = training_data[['Age', 'SibSp', 'Parch', 'Fare']]\n",
    "categorical_data = training_data[['Survived', 'Pclass', 'Sex', 'Ticket', 'Cabin', 'Embarked']]\n",
    "\n",
    "sns.histplot(data = training_data['Age'], kde = True)"
   ]
  },
  {
   "cell_type": "code",
   "execution_count": 9,
   "id": "e688aeca",
   "metadata": {
    "execution": {
     "iopub.execute_input": "2022-11-13T23:04:51.955366Z",
     "iopub.status.busy": "2022-11-13T23:04:51.954981Z",
     "iopub.status.idle": "2022-11-13T23:04:52.263000Z",
     "shell.execute_reply": "2022-11-13T23:04:52.261562Z"
    },
    "papermill": {
     "duration": 0.322451,
     "end_time": "2022-11-13T23:04:52.265777",
     "exception": false,
     "start_time": "2022-11-13T23:04:51.943326",
     "status": "completed"
    },
    "tags": []
   },
   "outputs": [
    {
     "data": {
      "text/plain": [
       "<AxesSubplot:xlabel='SibSp', ylabel='Count'>"
      ]
     },
     "execution_count": 9,
     "metadata": {},
     "output_type": "execute_result"
    },
    {
     "data": {
      "image/png": "[encoded data removed]",
      "text/plain": [
       "<Figure size 432x288 with 1 Axes>"
      ]
     },
     "metadata": {
      "needs_background": "light"
     },
     "output_type": "display_data"
    }
   ],
   "source": [
    "sns.histplot(data = training_data['SibSp'], kde = True)"
   ]
  },
  {
   "cell_type": "code",
   "execution_count": 10,
   "id": "3f63de47",
   "metadata": {
    "execution": {
     "iopub.execute_input": "2022-11-13T23:04:52.290036Z",
     "iopub.status.busy": "2022-11-13T23:04:52.289226Z",
     "iopub.status.idle": "2022-11-13T23:04:52.553173Z",
     "shell.execute_reply": "2022-11-13T23:04:52.552024Z"
    },
    "papermill": {
     "duration": 0.279211,
     "end_time": "2022-11-13T23:04:52.556105",
     "exception": false,
     "start_time": "2022-11-13T23:04:52.276894",
     "status": "completed"
    },
    "tags": []
   },
   "outputs": [
    {
     "data": {
      "text/plain": [
       "<AxesSubplot:xlabel='Parch', ylabel='Count'>"
      ]
     },
     "execution_count": 10,
     "metadata": {},
     "output_type": "execute_result"
    },
    {
     "data": {
      "image/png": "[encoded data removed]",
      "text/plain": [
       "<Figure size 432x288 with 1 Axes>"
      ]
     },
     "metadata": {
      "needs_background": "light"
     },
     "output_type": "display_data"
    }
   ],
   "source": [
    "sns.histplot(data = training_data['Parch'], kde = True)"
   ]
  },
  {
   "cell_type": "code",
   "execution_count": 11,
   "id": "bd26679d",
   "metadata": {
    "execution": {
     "iopub.execute_input": "2022-11-13T23:04:52.581870Z",
     "iopub.status.busy": "2022-11-13T23:04:52.581116Z",
     "iopub.status.idle": "2022-11-13T23:04:53.020030Z",
     "shell.execute_reply": "2022-11-13T23:04:53.018255Z"
    },
    "papermill": {
     "duration": 0.454368,
     "end_time": "2022-11-13T23:04:53.022491",
     "exception": false,
     "start_time": "2022-11-13T23:04:52.568123",
     "status": "completed"
    },
    "tags": []
   },
   "outputs": [
    {
     "data": {
      "text/plain": [
       "<AxesSubplot:xlabel='Fare', ylabel='Count'>"
      ]
     },
     "execution_count": 11,
     "metadata": {},
     "output_type": "execute_result"
    },
    {
     "data": {
      "image/png": "[encoded data removed]",
      "text/plain": [
       "<Figure size 432x288 with 1 Axes>"
      ]
     },
     "metadata": {
      "needs_background": "light"
     },
     "output_type": "display_data"
    }
   ],
   "source": [
    "sns.histplot(data = training_data['Fare'], kde = True)"
   ]
  },
  {
   "cell_type": "code",
   "execution_count": 12,
   "id": "8b6097d7",
   "metadata": {
    "execution": {
     "iopub.execute_input": "2022-11-13T23:04:53.047703Z",
     "iopub.status.busy": "2022-11-13T23:04:53.047041Z",
     "iopub.status.idle": "2022-11-13T23:04:53.609607Z",
     "shell.execute_reply": "2022-11-13T23:04:53.608703Z"
    },
    "papermill": {
     "duration": 0.577464,
     "end_time": "2022-11-13T23:04:53.611832",
     "exception": false,
     "start_time": "2022-11-13T23:04:53.034368",
     "status": "completed"
    },
    "tags": []
   },
   "outputs": [
    {
     "data": {
      "text/plain": [
       "<AxesSubplot:>"
      ]
     },
     "execution_count": 12,
     "metadata": {},
     "output_type": "execute_result"
    },
    {
     "data": {
      "image/png": "[encoded data removed]",
      "text/plain": [
       "<Figure size 432x288 with 2 Axes>"
      ]
     },
     "metadata": {
      "needs_background": "light"
     },
     "output_type": "display_data"
    }
   ],
   "source": [
    "# Plot correlation heatmap to observe what is correlated to survival with basic training data. \n",
    "sns.heatmap(training_data.corr(), cmap = \"Blues\", annot = True)"
   ]
  },
  {
   "cell_type": "code",
   "execution_count": 13,
   "id": "a565cede",
   "metadata": {
    "execution": {
     "iopub.execute_input": "2022-11-13T23:04:53.638293Z",
     "iopub.status.busy": "2022-11-13T23:04:53.637686Z",
     "iopub.status.idle": "2022-11-13T23:04:53.941437Z",
     "shell.execute_reply": "2022-11-13T23:04:53.940130Z"
    },
    "papermill": {
     "duration": 0.319646,
     "end_time": "2022-11-13T23:04:53.943940",
     "exception": false,
     "start_time": "2022-11-13T23:04:53.624294",
     "status": "completed"
    },
    "tags": []
   },
   "outputs": [
    {
     "data": {
      "text/plain": [
       "<AxesSubplot:>"
      ]
     },
     "execution_count": 13,
     "metadata": {},
     "output_type": "execute_result"
    },
    {
     "data": {
      "image/png": "[encoded data removed]",
      "text/plain": [
       "<Figure size 432x288 with 2 Axes>"
      ]
     },
     "metadata": {
      "needs_background": "light"
     },
     "output_type": "display_data"
    }
   ],
   "source": [
    "# Plot correlation heatmap to observe what is correlated to survival with basic training data. \n",
    "sns.heatmap(numeric_data.corr(), cmap = \"Blues\", annot = True)"
   ]
  },
  {
   "cell_type": "code",
   "execution_count": 14,
   "id": "717d8352",
   "metadata": {
    "execution": {
     "iopub.execute_input": "2022-11-13T23:04:53.971142Z",
     "iopub.status.busy": "2022-11-13T23:04:53.970744Z",
     "iopub.status.idle": "2022-11-13T23:04:53.997177Z",
     "shell.execute_reply": "2022-11-13T23:04:53.996157Z"
    },
    "papermill": {
     "duration": 0.043261,
     "end_time": "2022-11-13T23:04:53.999802",
     "exception": false,
     "start_time": "2022-11-13T23:04:53.956541",
     "status": "completed"
    },
    "tags": []
   },
   "outputs": [
    {
     "data": {
      "text/html": [
       "<div>\n",
       "<style scoped>\n",
       "    .dataframe tbody tr th:only-of-type {\n",
       "        vertical-align: middle;\n",
       "    }\n",
       "\n",
       "    .dataframe tbody tr th {\n",
       "        vertical-align: top;\n",
       "    }\n",
       "\n",
       "    .dataframe thead th {\n",
       "        text-align: right;\n",
       "    }\n",
       "</style>\n",
       "<table border=\"1\" class=\"dataframe\">\n",
       "  <thead>\n",
       "    <tr style=\"text-align: right;\">\n",
       "      <th></th>\n",
       "      <th>Age</th>\n",
       "      <th>Fare</th>\n",
       "      <th>Parch</th>\n",
       "      <th>SibSp</th>\n",
       "    </tr>\n",
       "    <tr>\n",
       "      <th>Survived</th>\n",
       "      <th></th>\n",
       "      <th></th>\n",
       "      <th></th>\n",
       "      <th></th>\n",
       "    </tr>\n",
       "  </thead>\n",
       "  <tbody>\n",
       "    <tr>\n",
       "      <th>0</th>\n",
       "      <td>30.626179</td>\n",
       "      <td>22.117887</td>\n",
       "      <td>0.329690</td>\n",
       "      <td>0.553734</td>\n",
       "    </tr>\n",
       "    <tr>\n",
       "      <th>1</th>\n",
       "      <td>28.343690</td>\n",
       "      <td>48.395408</td>\n",
       "      <td>0.464912</td>\n",
       "      <td>0.473684</td>\n",
       "    </tr>\n",
       "  </tbody>\n",
       "</table>\n",
       "</div>"
      ],
      "text/plain": [
       "                Age       Fare     Parch     SibSp\n",
       "Survived                                          \n",
       "0         30.626179  22.117887  0.329690  0.553734\n",
       "1         28.343690  48.395408  0.464912  0.473684"
      ]
     },
     "execution_count": 14,
     "metadata": {},
     "output_type": "execute_result"
    }
   ],
   "source": [
    "pd.pivot_table(training_data, index = 'Survived', values = ['Age', 'SibSp', 'Parch', 'Fare'])"
   ]
  },
  {
   "cell_type": "code",
   "execution_count": 15,
   "id": "3f7d4130",
   "metadata": {
    "execution": {
     "iopub.execute_input": "2022-11-13T23:04:54.027313Z",
     "iopub.status.busy": "2022-11-13T23:04:54.026906Z",
     "iopub.status.idle": "2022-11-13T23:04:55.191077Z",
     "shell.execute_reply": "2022-11-13T23:04:55.189816Z"
    },
    "papermill": {
     "duration": 1.180511,
     "end_time": "2022-11-13T23:04:55.193464",
     "exception": false,
     "start_time": "2022-11-13T23:04:54.012953",
     "status": "completed"
    },
    "tags": []
   },
   "outputs": [
    {
     "data": {
      "text/plain": [
       "<seaborn.axisgrid.FacetGrid at 0x7fab5ca77490>"
      ]
     },
     "execution_count": 15,
     "metadata": {},
     "output_type": "execute_result"
    },
    {
     "data": {
      "image/png": "[encoded data removed]",
      "text/plain": [
       "<Figure size 418.25x360 with 1 Axes>"
      ]
     },
     "metadata": {
      "needs_background": "light"
     },
     "output_type": "display_data"
    },
    {
     "data": {
      "image/png": "[encoded data removed]",
      "text/plain": [
       "<Figure size 402.375x360 with 1 Axes>"
      ]
     },
     "metadata": {
      "needs_background": "light"
     },
     "output_type": "display_data"
    },
    {
     "data": {
      "image/png": "[encoded data removed]",
      "text/plain": [
       "<Figure size 430.5x360 with 1 Axes>"
      ]
     },
     "metadata": {
      "needs_background": "light"
     },
     "output_type": "display_data"
    }
   ],
   "source": [
    "sns.catplot(data = training_data, kind = \"count\", x = \"Survived\", hue = \"Embarked\")\n",
    "sns.catplot(data = training_data, kind = \"count\", x = \"Survived\", hue = \"Pclass\")\n",
    "sns.catplot(data = training_data, kind = \"count\", x = \"Survived\", hue = \"Sex\")"
   ]
  },
  {
   "cell_type": "code",
   "execution_count": 16,
   "id": "eab12708",
   "metadata": {
    "execution": {
     "iopub.execute_input": "2022-11-13T23:04:55.225639Z",
     "iopub.status.busy": "2022-11-13T23:04:55.224330Z",
     "iopub.status.idle": "2022-11-13T23:04:55.234110Z",
     "shell.execute_reply": "2022-11-13T23:04:55.232851Z"
    },
    "papermill": {
     "duration": 0.029165,
     "end_time": "2022-11-13T23:04:55.236800",
     "exception": false,
     "start_time": "2022-11-13T23:04:55.207635",
     "status": "completed"
    },
    "tags": []
   },
   "outputs": [
    {
     "name": "stdout",
     "output_type": "stream",
     "text": [
      "Cabin          687\n",
      "Age            177\n",
      "Embarked         2\n",
      "PassengerId      0\n",
      "Survived         0\n",
      "Pclass           0\n",
      "Name             0\n",
      "Sex              0\n",
      "SibSp            0\n",
      "Parch            0\n",
      "Ticket           0\n",
      "Fare             0\n",
      "dtype: int64\n"
     ]
    }
   ],
   "source": [
    "total_missing_train = training_data.isnull().sum().sort_values(ascending=False)\n",
    "print(total_missing_train)"
   ]
  },
  {
   "cell_type": "markdown",
   "id": "7a7ac9ee",
   "metadata": {
    "papermill": {
     "duration": 0.013984,
     "end_time": "2022-11-13T23:04:55.264856",
     "exception": false,
     "start_time": "2022-11-13T23:04:55.250872",
     "status": "completed"
    },
    "tags": []
   },
   "source": [
    "**Feature Engineering:**\n",
    "\n",
    "After identifying some missing features, it is clear that feature development is required. That is all completed below. It is sumarized by the following points:\n",
    "\n",
    "1. All sex data is converted to binary\n",
    "2. Unkown ages are converted to the median age of all known ages aboard the titanic\n",
    "3. Cabin Data is collected and converted to numeric format in the CabinData column\n",
    "4. Ticket data is converted to an integer. If unkown, that integer is set to zero\n",
    "\n",
    "After these changes are made, additional data visualization is added"
   ]
  },
  {
   "cell_type": "code",
   "execution_count": 17,
   "id": "ea7f59cf",
   "metadata": {
    "execution": {
     "iopub.execute_input": "2022-11-13T23:04:55.294367Z",
     "iopub.status.busy": "2022-11-13T23:04:55.293627Z",
     "iopub.status.idle": "2022-11-13T23:04:55.304155Z",
     "shell.execute_reply": "2022-11-13T23:04:55.302733Z"
    },
    "papermill": {
     "duration": 0.027717,
     "end_time": "2022-11-13T23:04:55.306575",
     "exception": false,
     "start_time": "2022-11-13T23:04:55.278858",
     "status": "completed"
    },
    "tags": []
   },
   "outputs": [
    {
     "name": "stdout",
     "output_type": "stream",
     "text": [
      "0      0\n",
      "1      1\n",
      "2      1\n",
      "3      1\n",
      "4      0\n",
      "      ..\n",
      "886    0\n",
      "887    1\n",
      "888    1\n",
      "889    0\n",
      "890    0\n",
      "Name: Sex, Length: 891, dtype: int64\n"
     ]
    }
   ],
   "source": [
    "# Make sex data binary such that Male = 0, Female = 1\n",
    "\n",
    "def sex_to_binary(value):\n",
    "    if isinstance(value, str):\n",
    "        if value == \"male\":\n",
    "            #male_num += 1\n",
    "            return 0\n",
    "        else:\n",
    "            return 1\n",
    "    return value\n",
    "\n",
    "training_data[\"Sex\"] = training_data[\"Sex\"].map(sex_to_binary)\n",
    "testing_data[\"Sex\"] = testing_data[\"Sex\"].map(sex_to_binary)\n",
    "print(training_data[\"Sex\"])"
   ]
  },
  {
   "cell_type": "code",
   "execution_count": 18,
   "id": "8f6fe5d8",
   "metadata": {
    "execution": {
     "iopub.execute_input": "2022-11-13T23:04:55.337408Z",
     "iopub.status.busy": "2022-11-13T23:04:55.336242Z",
     "iopub.status.idle": "2022-11-13T23:04:55.589281Z",
     "shell.execute_reply": "2022-11-13T23:04:55.588038Z"
    },
    "papermill": {
     "duration": 0.270905,
     "end_time": "2022-11-13T23:04:55.592017",
     "exception": false,
     "start_time": "2022-11-13T23:04:55.321112",
     "status": "completed"
    },
    "tags": []
   },
   "outputs": [
    {
     "data": {
      "text/plain": [
       "<AxesSubplot:xlabel='Sex', ylabel='Count'>"
      ]
     },
     "execution_count": 18,
     "metadata": {},
     "output_type": "execute_result"
    },
    {
     "data": {
      "image/png": "[encoded data removed]",
      "text/plain": [
       "<Figure size 432x288 with 1 Axes>"
      ]
     },
     "metadata": {
      "needs_background": "light"
     },
     "output_type": "display_data"
    }
   ],
   "source": [
    "# Replot this data since it has now been corrected \n",
    "sns.histplot(data = training_data['Sex'], kde = True)"
   ]
  },
  {
   "cell_type": "code",
   "execution_count": 19,
   "id": "75c404f3",
   "metadata": {
    "execution": {
     "iopub.execute_input": "2022-11-13T23:04:55.621824Z",
     "iopub.status.busy": "2022-11-13T23:04:55.621402Z",
     "iopub.status.idle": "2022-11-13T23:04:55.632464Z",
     "shell.execute_reply": "2022-11-13T23:04:55.631489Z"
    },
    "papermill": {
     "duration": 0.028446,
     "end_time": "2022-11-13T23:04:55.634615",
     "exception": false,
     "start_time": "2022-11-13T23:04:55.606169",
     "status": "completed"
    },
    "tags": []
   },
   "outputs": [],
   "source": [
    "# Make all unkown ages to median age\n",
    "training_ages = [a for a in training_data['Age'].tolist() if not math.isnan(a)]\n",
    "testing_ages = [a for a in training_data['Age'].tolist() if not math.isnan(a)]\n",
    "\n",
    "median_training_age = np.median(training_ages)\n",
    "median_testing_age = np.median(testing_ages)\n",
    "\n",
    "def training_age_to_med_age(age):\n",
    "    if math.isnan(age):\n",
    "        return median_training_age\n",
    "    return age\n",
    "\n",
    "def testing_age_to_med_age(age):\n",
    "    if math.isnan(age):\n",
    "        return median_testing_age\n",
    "    return age\n",
    "\n",
    "training_data[\"Age\"] = training_data[\"Age\"].map(training_age_to_med_age)\n",
    "testing_data[\"Age\"] = testing_data[\"Age\"].map(testing_age_to_med_age)"
   ]
  },
  {
   "cell_type": "code",
   "execution_count": 20,
   "id": "00b088e3",
   "metadata": {
    "execution": {
     "iopub.execute_input": "2022-11-13T23:04:55.665509Z",
     "iopub.status.busy": "2022-11-13T23:04:55.664461Z",
     "iopub.status.idle": "2022-11-13T23:04:55.963915Z",
     "shell.execute_reply": "2022-11-13T23:04:55.962804Z"
    },
    "papermill": {
     "duration": 0.317614,
     "end_time": "2022-11-13T23:04:55.966471",
     "exception": false,
     "start_time": "2022-11-13T23:04:55.648857",
     "status": "completed"
    },
    "tags": []
   },
   "outputs": [
    {
     "data": {
      "text/plain": [
       "<AxesSubplot:xlabel='Age', ylabel='Count'>"
      ]
     },
     "execution_count": 20,
     "metadata": {},
     "output_type": "execute_result"
    },
    {
     "data": {
      "image/png": "[encoded data removed]",
      "text/plain": [
       "<Figure size 432x288 with 1 Axes>"
      ]
     },
     "metadata": {
      "needs_background": "light"
     },
     "output_type": "display_data"
    }
   ],
   "source": [
    "# Replot this training data since it has now been corrected \n",
    "sns.histplot(data = training_data['Age'], kde = True)"
   ]
  },
  {
   "cell_type": "code",
   "execution_count": 21,
   "id": "a6aac8be",
   "metadata": {
    "execution": {
     "iopub.execute_input": "2022-11-13T23:04:55.997647Z",
     "iopub.status.busy": "2022-11-13T23:04:55.997086Z",
     "iopub.status.idle": "2022-11-13T23:04:56.243812Z",
     "shell.execute_reply": "2022-11-13T23:04:56.242699Z"
    },
    "papermill": {
     "duration": 0.265345,
     "end_time": "2022-11-13T23:04:56.246568",
     "exception": false,
     "start_time": "2022-11-13T23:04:55.981223",
     "status": "completed"
    },
    "tags": []
   },
   "outputs": [
    {
     "data": {
      "text/plain": [
       "<AxesSubplot:xlabel='Age', ylabel='Count'>"
      ]
     },
     "execution_count": 21,
     "metadata": {},
     "output_type": "execute_result"
    },
    {
     "data": {
      "image/png": "[encoded data removed]",
      "text/plain": [
       "<Figure size 432x288 with 1 Axes>"
      ]
     },
     "metadata": {
      "needs_background": "light"
     },
     "output_type": "display_data"
    }
   ],
   "source": [
    "# Replot this testing data since it has now been corrected \n",
    "sns.histplot(data = testing_data['Age'], kde = True)"
   ]
  },
  {
   "cell_type": "code",
   "execution_count": 22,
   "id": "19136da7",
   "metadata": {
    "execution": {
     "iopub.execute_input": "2022-11-13T23:04:56.279060Z",
     "iopub.status.busy": "2022-11-13T23:04:56.278644Z",
     "iopub.status.idle": "2022-11-13T23:04:56.293340Z",
     "shell.execute_reply": "2022-11-13T23:04:56.292405Z"
    },
    "papermill": {
     "duration": 0.033719,
     "end_time": "2022-11-13T23:04:56.295799",
     "exception": false,
     "start_time": "2022-11-13T23:04:56.262080",
     "status": "completed"
    },
    "tags": []
   },
   "outputs": [
    {
     "data": {
      "text/plain": [
       "0    327\n",
       "1     74\n",
       "2     10\n",
       "3      4\n",
       "4      3\n",
       "Name: CabinData, dtype: int64"
      ]
     },
     "execution_count": 22,
     "metadata": {},
     "output_type": "execute_result"
    }
   ],
   "source": [
    "# Simplify cabin data\n",
    "training_data['CabinData'] = training_data.Cabin.apply(lambda x: 0 if pd.isna(x) else len(x.split(' ')))\n",
    "training_data['CabinData'].value_counts()\n",
    "\n",
    "testing_data['CabinData'] = testing_data.Cabin.apply(lambda x: 0 if pd.isna(x) else len(x.split(' ')))\n",
    "testing_data['CabinData'].value_counts()"
   ]
  },
  {
   "cell_type": "code",
   "execution_count": 23,
   "id": "ab7f3f2d",
   "metadata": {
    "execution": {
     "iopub.execute_input": "2022-11-13T23:04:56.329018Z",
     "iopub.status.busy": "2022-11-13T23:04:56.327984Z",
     "iopub.status.idle": "2022-11-13T23:04:56.351964Z",
     "shell.execute_reply": "2022-11-13T23:04:56.350866Z"
    },
    "papermill": {
     "duration": 0.042745,
     "end_time": "2022-11-13T23:04:56.354324",
     "exception": false,
     "start_time": "2022-11-13T23:04:56.311579",
     "status": "completed"
    },
    "tags": []
   },
   "outputs": [
    {
     "data": {
      "text/html": [
       "<div>\n",
       "<style scoped>\n",
       "    .dataframe tbody tr th:only-of-type {\n",
       "        vertical-align: middle;\n",
       "    }\n",
       "\n",
       "    .dataframe tbody tr th {\n",
       "        vertical-align: top;\n",
       "    }\n",
       "\n",
       "    .dataframe thead th {\n",
       "        text-align: right;\n",
       "    }\n",
       "</style>\n",
       "<table border=\"1\" class=\"dataframe\">\n",
       "  <thead>\n",
       "    <tr style=\"text-align: right;\">\n",
       "      <th>CabinData</th>\n",
       "      <th>0</th>\n",
       "      <th>1</th>\n",
       "      <th>2</th>\n",
       "      <th>3</th>\n",
       "      <th>4</th>\n",
       "    </tr>\n",
       "    <tr>\n",
       "      <th>Survived</th>\n",
       "      <th></th>\n",
       "      <th></th>\n",
       "      <th></th>\n",
       "      <th></th>\n",
       "      <th></th>\n",
       "    </tr>\n",
       "  </thead>\n",
       "  <tbody>\n",
       "    <tr>\n",
       "      <th>0</th>\n",
       "      <td>481.0</td>\n",
       "      <td>58.0</td>\n",
       "      <td>7.0</td>\n",
       "      <td>3.0</td>\n",
       "      <td>NaN</td>\n",
       "    </tr>\n",
       "    <tr>\n",
       "      <th>1</th>\n",
       "      <td>206.0</td>\n",
       "      <td>122.0</td>\n",
       "      <td>9.0</td>\n",
       "      <td>3.0</td>\n",
       "      <td>2.0</td>\n",
       "    </tr>\n",
       "  </tbody>\n",
       "</table>\n",
       "</div>"
      ],
      "text/plain": [
       "CabinData      0      1    2    3    4\n",
       "Survived                              \n",
       "0          481.0   58.0  7.0  3.0  NaN\n",
       "1          206.0  122.0  9.0  3.0  2.0"
      ]
     },
     "execution_count": 23,
     "metadata": {},
     "output_type": "execute_result"
    }
   ],
   "source": [
    "pd.pivot_table(training_data, index = 'Survived', columns = 'CabinData', values = 'Ticket', aggfunc = 'count')"
   ]
  },
  {
   "cell_type": "code",
   "execution_count": 24,
   "id": "ad6ff73b",
   "metadata": {
    "execution": {
     "iopub.execute_input": "2022-11-13T23:04:56.387087Z",
     "iopub.status.busy": "2022-11-13T23:04:56.386274Z",
     "iopub.status.idle": "2022-11-13T23:04:56.415354Z",
     "shell.execute_reply": "2022-11-13T23:04:56.413529Z"
    },
    "papermill": {
     "duration": 0.048151,
     "end_time": "2022-11-13T23:04:56.417945",
     "exception": false,
     "start_time": "2022-11-13T23:04:56.369794",
     "status": "completed"
    },
    "tags": []
   },
   "outputs": [
    {
     "name": "stdout",
     "output_type": "stream",
     "text": [
      "83    644\n",
      "67    168\n",
      "81     77\n",
      "48      2\n",
      "Name: Embarked, dtype: int64\n"
     ]
    },
    {
     "data": {
      "text/html": [
       "<div>\n",
       "<style scoped>\n",
       "    .dataframe tbody tr th:only-of-type {\n",
       "        vertical-align: middle;\n",
       "    }\n",
       "\n",
       "    .dataframe tbody tr th {\n",
       "        vertical-align: top;\n",
       "    }\n",
       "\n",
       "    .dataframe thead th {\n",
       "        text-align: right;\n",
       "    }\n",
       "</style>\n",
       "<table border=\"1\" class=\"dataframe\">\n",
       "  <thead>\n",
       "    <tr style=\"text-align: right;\">\n",
       "      <th>Embarked</th>\n",
       "      <th>48</th>\n",
       "      <th>67</th>\n",
       "      <th>81</th>\n",
       "      <th>83</th>\n",
       "    </tr>\n",
       "    <tr>\n",
       "      <th>Survived</th>\n",
       "      <th></th>\n",
       "      <th></th>\n",
       "      <th></th>\n",
       "      <th></th>\n",
       "    </tr>\n",
       "  </thead>\n",
       "  <tbody>\n",
       "    <tr>\n",
       "      <th>0</th>\n",
       "      <td>NaN</td>\n",
       "      <td>75.0</td>\n",
       "      <td>47.0</td>\n",
       "      <td>427.0</td>\n",
       "    </tr>\n",
       "    <tr>\n",
       "      <th>1</th>\n",
       "      <td>2.0</td>\n",
       "      <td>93.0</td>\n",
       "      <td>30.0</td>\n",
       "      <td>217.0</td>\n",
       "    </tr>\n",
       "  </tbody>\n",
       "</table>\n",
       "</div>"
      ],
      "text/plain": [
       "Embarked   48    67    81     83\n",
       "Survived                        \n",
       "0         NaN  75.0  47.0  427.0\n",
       "1         2.0  93.0  30.0  217.0"
      ]
     },
     "execution_count": 24,
     "metadata": {},
     "output_type": "execute_result"
    }
   ],
   "source": [
    "# Cabin Categories \n",
    "# Convered all Cabin Letter Codes to Rooms to ints \n",
    "\n",
    "def char_to_int(c):\n",
    "    if isinstance(c, int):\n",
    "        return c\n",
    "    if not isinstance(c, str):\n",
    "        if math.isnan(c):\n",
    "            c = '0'\n",
    "    c = str(c)[0]\n",
    "    return ord(c)\n",
    "\n",
    "training_data['Embarked'] = training_data['Embarked'].map(char_to_int)\n",
    "testing_data['Embarked'] = testing_data['Embarked'].map(char_to_int)\n",
    "\n",
    "print(training_data.Embarked.value_counts())\n",
    "pd.pivot_table(training_data, index='Survived', columns='Embarked', values = 'Ticket', aggfunc='count')"
   ]
  },
  {
   "cell_type": "code",
   "execution_count": 25,
   "id": "09d9e287",
   "metadata": {
    "execution": {
     "iopub.execute_input": "2022-11-13T23:04:56.451318Z",
     "iopub.status.busy": "2022-11-13T23:04:56.450267Z",
     "iopub.status.idle": "2022-11-13T23:04:56.485498Z",
     "shell.execute_reply": "2022-11-13T23:04:56.484667Z"
    },
    "papermill": {
     "duration": 0.055194,
     "end_time": "2022-11-13T23:04:56.488649",
     "exception": false,
     "start_time": "2022-11-13T23:04:56.433455",
     "status": "completed"
    },
    "tags": []
   },
   "outputs": [
    {
     "name": "stdout",
     "output_type": "stream",
     "text": [
      "110    687\n",
      "67      59\n",
      "66      47\n",
      "68      33\n",
      "69      32\n",
      "65      15\n",
      "70      13\n",
      "71       4\n",
      "84       1\n",
      "Name: CabinLetter, dtype: int64\n"
     ]
    },
    {
     "data": {
      "text/html": [
       "<div>\n",
       "<style scoped>\n",
       "    .dataframe tbody tr th:only-of-type {\n",
       "        vertical-align: middle;\n",
       "    }\n",
       "\n",
       "    .dataframe tbody tr th {\n",
       "        vertical-align: top;\n",
       "    }\n",
       "\n",
       "    .dataframe thead th {\n",
       "        text-align: right;\n",
       "    }\n",
       "</style>\n",
       "<table border=\"1\" class=\"dataframe\">\n",
       "  <thead>\n",
       "    <tr style=\"text-align: right;\">\n",
       "      <th>CabinLetter</th>\n",
       "      <th>65</th>\n",
       "      <th>66</th>\n",
       "      <th>67</th>\n",
       "      <th>68</th>\n",
       "      <th>69</th>\n",
       "      <th>70</th>\n",
       "      <th>71</th>\n",
       "      <th>84</th>\n",
       "      <th>110</th>\n",
       "    </tr>\n",
       "    <tr>\n",
       "      <th>Survived</th>\n",
       "      <th></th>\n",
       "      <th></th>\n",
       "      <th></th>\n",
       "      <th></th>\n",
       "      <th></th>\n",
       "      <th></th>\n",
       "      <th></th>\n",
       "      <th></th>\n",
       "      <th></th>\n",
       "    </tr>\n",
       "  </thead>\n",
       "  <tbody>\n",
       "    <tr>\n",
       "      <th>0</th>\n",
       "      <td>8.0</td>\n",
       "      <td>12.0</td>\n",
       "      <td>24.0</td>\n",
       "      <td>8.0</td>\n",
       "      <td>8.0</td>\n",
       "      <td>5.0</td>\n",
       "      <td>2.0</td>\n",
       "      <td>1.0</td>\n",
       "      <td>481.0</td>\n",
       "    </tr>\n",
       "    <tr>\n",
       "      <th>1</th>\n",
       "      <td>7.0</td>\n",
       "      <td>35.0</td>\n",
       "      <td>35.0</td>\n",
       "      <td>25.0</td>\n",
       "      <td>24.0</td>\n",
       "      <td>8.0</td>\n",
       "      <td>2.0</td>\n",
       "      <td>NaN</td>\n",
       "      <td>206.0</td>\n",
       "    </tr>\n",
       "  </tbody>\n",
       "</table>\n",
       "</div>"
      ],
      "text/plain": [
       "CabinLetter  65    66    67    68    69   70   71   84     110\n",
       "Survived                                                      \n",
       "0            8.0  12.0  24.0   8.0   8.0  5.0  2.0  1.0  481.0\n",
       "1            7.0  35.0  35.0  25.0  24.0  8.0  2.0  NaN  206.0"
      ]
     },
     "execution_count": 25,
     "metadata": {},
     "output_type": "execute_result"
    }
   ],
   "source": [
    "# Cabin Categories \n",
    "# Convered all Cabin Letter Codes to Rooms to ints \n",
    "def char_to_int(c):\n",
    "    if not isinstance(c, str):\n",
    "        if math.isnan(c):\n",
    "            c = '0'\n",
    "    return ord(c)\n",
    "\n",
    "training_data['CabinLetter'] = training_data.Cabin.apply(lambda x: str(x)[0])\n",
    "training_data['CabinLetter'] = training_data['CabinLetter'].map(char_to_int)\n",
    "\n",
    "testing_data['CabinLetter'] = testing_data.Cabin.apply(lambda x: str(x)[0])\n",
    "testing_data['CabinLetter'] = testing_data['CabinLetter'].map(char_to_int)\n",
    "\n",
    "print(training_data.CabinLetter.value_counts())\n",
    "pd.pivot_table(training_data, index='Survived', columns='CabinLetter', values = 'Ticket', aggfunc='count')"
   ]
  },
  {
   "cell_type": "code",
   "execution_count": 26,
   "id": "bb035cca",
   "metadata": {
    "execution": {
     "iopub.execute_input": "2022-11-13T23:04:56.522302Z",
     "iopub.status.busy": "2022-11-13T23:04:56.521936Z",
     "iopub.status.idle": "2022-11-13T23:04:56.599687Z",
     "shell.execute_reply": "2022-11-13T23:04:56.597960Z"
    },
    "papermill": {
     "duration": 0.097984,
     "end_time": "2022-11-13T23:04:56.602871",
     "exception": false,
     "start_time": "2022-11-13T23:04:56.504887",
     "status": "completed"
    },
    "tags": []
   },
   "outputs": [
    {
     "name": "stdout",
     "output_type": "stream",
     "text": [
      "0        21171\n",
      "1        17599\n",
      "2      3101282\n",
      "3       113803\n",
      "4       373450\n",
      "        ...   \n",
      "886     211536\n",
      "887     112053\n",
      "888       6607\n",
      "889     111369\n",
      "890     370376\n",
      "Name: Ticket, Length: 891, dtype: int64\n"
     ]
    },
    {
     "data": {
      "text/html": [
       "<div>\n",
       "<style scoped>\n",
       "    .dataframe tbody tr th:only-of-type {\n",
       "        vertical-align: middle;\n",
       "    }\n",
       "\n",
       "    .dataframe tbody tr th {\n",
       "        vertical-align: top;\n",
       "    }\n",
       "\n",
       "    .dataframe thead tr th {\n",
       "        text-align: left;\n",
       "    }\n",
       "\n",
       "    .dataframe thead tr:last-of-type th {\n",
       "        text-align: right;\n",
       "    }\n",
       "</style>\n",
       "<table border=\"1\" class=\"dataframe\">\n",
       "  <thead>\n",
       "    <tr>\n",
       "      <th></th>\n",
       "      <th colspan=\"10\" halign=\"left\">Age</th>\n",
       "      <th>...</th>\n",
       "      <th colspan=\"10\" halign=\"left\">SibSp</th>\n",
       "    </tr>\n",
       "    <tr>\n",
       "      <th>Ticket</th>\n",
       "      <th>0</th>\n",
       "      <th>3</th>\n",
       "      <th>541</th>\n",
       "      <th>693</th>\n",
       "      <th>695</th>\n",
       "      <th>751</th>\n",
       "      <th>752</th>\n",
       "      <th>851</th>\n",
       "      <th>1166</th>\n",
       "      <th>1585</th>\n",
       "      <th>...</th>\n",
       "      <th>3101296</th>\n",
       "      <th>3101298</th>\n",
       "      <th>3101305</th>\n",
       "      <th>3101306</th>\n",
       "      <th>3101307</th>\n",
       "      <th>3101310</th>\n",
       "      <th>3101311</th>\n",
       "      <th>3101312</th>\n",
       "      <th>3101316</th>\n",
       "      <th>3101317</th>\n",
       "    </tr>\n",
       "    <tr>\n",
       "      <th>Survived</th>\n",
       "      <th></th>\n",
       "      <th></th>\n",
       "      <th></th>\n",
       "      <th></th>\n",
       "      <th></th>\n",
       "      <th></th>\n",
       "      <th></th>\n",
       "      <th></th>\n",
       "      <th></th>\n",
       "      <th></th>\n",
       "      <th></th>\n",
       "      <th></th>\n",
       "      <th></th>\n",
       "      <th></th>\n",
       "      <th></th>\n",
       "      <th></th>\n",
       "      <th></th>\n",
       "      <th></th>\n",
       "      <th></th>\n",
       "      <th></th>\n",
       "      <th></th>\n",
       "    </tr>\n",
       "  </thead>\n",
       "  <tbody>\n",
       "    <tr>\n",
       "      <th>0</th>\n",
       "      <td>3.0</td>\n",
       "      <td>2.0</td>\n",
       "      <td>NaN</td>\n",
       "      <td>1.0</td>\n",
       "      <td>1.0</td>\n",
       "      <td>1.0</td>\n",
       "      <td>NaN</td>\n",
       "      <td>1.0</td>\n",
       "      <td>1.0</td>\n",
       "      <td>1.0</td>\n",
       "      <td>...</td>\n",
       "      <td>1.0</td>\n",
       "      <td>NaN</td>\n",
       "      <td>1.0</td>\n",
       "      <td>1.0</td>\n",
       "      <td>1.0</td>\n",
       "      <td>1.0</td>\n",
       "      <td>1.0</td>\n",
       "      <td>1.0</td>\n",
       "      <td>1.0</td>\n",
       "      <td>1.0</td>\n",
       "    </tr>\n",
       "    <tr>\n",
       "      <th>1</th>\n",
       "      <td>1.0</td>\n",
       "      <td>NaN</td>\n",
       "      <td>1.0</td>\n",
       "      <td>NaN</td>\n",
       "      <td>NaN</td>\n",
       "      <td>1.0</td>\n",
       "      <td>1.0</td>\n",
       "      <td>NaN</td>\n",
       "      <td>NaN</td>\n",
       "      <td>NaN</td>\n",
       "      <td>...</td>\n",
       "      <td>NaN</td>\n",
       "      <td>1.0</td>\n",
       "      <td>NaN</td>\n",
       "      <td>NaN</td>\n",
       "      <td>NaN</td>\n",
       "      <td>NaN</td>\n",
       "      <td>NaN</td>\n",
       "      <td>NaN</td>\n",
       "      <td>NaN</td>\n",
       "      <td>NaN</td>\n",
       "    </tr>\n",
       "  </tbody>\n",
       "</table>\n",
       "<p>2 rows × 8148 columns</p>\n",
       "</div>"
      ],
      "text/plain": [
       "             Age                                                          \\\n",
       "Ticket   0       3       541     693     695     751     752     851       \n",
       "Survived                                                                   \n",
       "0            3.0     2.0     NaN     1.0     1.0     1.0     NaN     1.0   \n",
       "1            1.0     NaN     1.0     NaN     NaN     1.0     1.0     NaN   \n",
       "\n",
       "                          ...   SibSp                                          \\\n",
       "Ticket   1166    1585     ... 3101296 3101298 3101305 3101306 3101307 3101310   \n",
       "Survived                  ...                                                   \n",
       "0            1.0     1.0  ...     1.0     NaN     1.0     1.0     1.0     1.0   \n",
       "1            NaN     NaN  ...     NaN     1.0     NaN     NaN     NaN     NaN   \n",
       "\n",
       "                                          \n",
       "Ticket   3101311 3101312 3101316 3101317  \n",
       "Survived                                  \n",
       "0            1.0     1.0     1.0     1.0  \n",
       "1            NaN     NaN     NaN     NaN  \n",
       "\n",
       "[2 rows x 8148 columns]"
      ]
     },
     "execution_count": 26,
     "metadata": {},
     "output_type": "execute_result"
    }
   ],
   "source": [
    "# Set all ticket numbers to integers\n",
    "def ticket_to_num(ticket):\n",
    "    if isinstance(ticket, int):\n",
    "        return ticket\n",
    "    if isinstance(ticket, str):\n",
    "        try:\n",
    "            if len(ticket.split(\" \")) > 1:\n",
    "                return int(ticket.split(\" \")[-1])\n",
    "            else:\n",
    "                return int(ticket)\n",
    "        except:\n",
    "            return 0\n",
    "    return 0\n",
    "            \n",
    "training_data['Ticket'] = training_data['Ticket'].map(ticket_to_num)\n",
    "testing_data['Ticket'] = testing_data['Ticket'].map(ticket_to_num)\n",
    "print(training_data['Ticket'])\n",
    "pd.pivot_table(training_data, index='Survived', columns='Ticket', aggfunc='count')"
   ]
  },
  {
   "cell_type": "code",
   "execution_count": 27,
   "id": "1b7cbfe4",
   "metadata": {
    "execution": {
     "iopub.execute_input": "2022-11-13T23:04:56.637693Z",
     "iopub.status.busy": "2022-11-13T23:04:56.637266Z",
     "iopub.status.idle": "2022-11-13T23:04:56.969052Z",
     "shell.execute_reply": "2022-11-13T23:04:56.967909Z"
    },
    "papermill": {
     "duration": 0.352069,
     "end_time": "2022-11-13T23:04:56.971319",
     "exception": false,
     "start_time": "2022-11-13T23:04:56.619250",
     "status": "completed"
    },
    "tags": []
   },
   "outputs": [
    {
     "data": {
      "text/plain": [
       "<AxesSubplot:>"
      ]
     },
     "execution_count": 27,
     "metadata": {},
     "output_type": "execute_result"
    },
    {
     "data": {
      "image/png": "[encoded data removed]",
      "text/plain": [
       "<Figure size 432x288 with 2 Axes>"
      ]
     },
     "metadata": {
      "needs_background": "light"
     },
     "output_type": "display_data"
    }
   ],
   "source": [
    "# Plot correlation heatmap to observe what is correlated to survival with basic training data. \n",
    "sns.heatmap(training_data.corr(), cmap = \"Blues\", linewidths=0.5)"
   ]
  },
  {
   "cell_type": "code",
   "execution_count": 28,
   "id": "3d125ece",
   "metadata": {
    "execution": {
     "iopub.execute_input": "2022-11-13T23:04:57.006640Z",
     "iopub.status.busy": "2022-11-13T23:04:57.005752Z",
     "iopub.status.idle": "2022-11-13T23:04:57.017635Z",
     "shell.execute_reply": "2022-11-13T23:04:57.016433Z"
    },
    "papermill": {
     "duration": 0.031801,
     "end_time": "2022-11-13T23:04:57.019736",
     "exception": false,
     "start_time": "2022-11-13T23:04:56.987935",
     "status": "completed"
    },
    "tags": []
   },
   "outputs": [
    {
     "data": {
      "text/plain": [
       "((418, 10), (418, 10), (418,), (473,))"
      ]
     },
     "execution_count": 28,
     "metadata": {},
     "output_type": "execute_result"
    }
   ],
   "source": [
    "features = ['Pclass', 'Sex', 'Age', 'SibSp','Parch', 'Fare', \n",
    "            'Ticket', 'CabinLetter', 'Embarked', 'CabinData']\n",
    "X = training_data[features]\n",
    "Y = training_data['Survived']\n",
    "X_train, X_test, y_train, y_test = train_test_split(X, Y, test_size=0.53, train_size=0.47)\n",
    "X_test = X_test[0:418]\n",
    "X_train.shape, X_test.shape, y_train.shape, y_test.shape"
   ]
  },
  {
   "cell_type": "markdown",
   "id": "e4390ef0",
   "metadata": {
    "papermill": {
     "duration": 0.015972,
     "end_time": "2022-11-13T23:04:57.052226",
     "exception": false,
     "start_time": "2022-11-13T23:04:57.036254",
     "status": "completed"
    },
    "tags": []
   },
   "source": [
    "**Testing Various Models:**\n",
    "1. Random Forrest Classifier \n",
    "2. Gradient Boost Model\n",
    "3. Perceptron"
   ]
  },
  {
   "cell_type": "code",
   "execution_count": 29,
   "id": "d1fb008a",
   "metadata": {
    "execution": {
     "iopub.execute_input": "2022-11-13T23:04:57.086880Z",
     "iopub.status.busy": "2022-11-13T23:04:57.086158Z",
     "iopub.status.idle": "2022-11-13T23:05:00.205912Z",
     "shell.execute_reply": "2022-11-13T23:05:00.204511Z"
    },
    "papermill": {
     "duration": 3.14049,
     "end_time": "2022-11-13T23:05:00.208519",
     "exception": false,
     "start_time": "2022-11-13T23:04:57.068029",
     "status": "completed"
    },
    "tags": []
   },
   "outputs": [
    {
     "name": "stdout",
     "output_type": "stream",
     "text": [
      "Max Prediction: 0.9976076555023924 with 500 predictors\n",
      "Min Prediction: 0.9976076555023924 with 500 predictors\n",
      "Median Prediction: 0.9976076555023924 with 500 predictors\n",
      "Mean Prediction: 0.9976076555023924\n",
      "Standard Deviation of Predictions is: 0.0\n"
     ]
    }
   ],
   "source": [
    "# Random Forest \n",
    "\n",
    "rf_predictions = []\n",
    "rf_n_estimators = []\n",
    "for i in range(500,503):\n",
    "    random_forest_model = RandomForestClassifier(n_estimators=i)\n",
    "    random_forest_model.fit(X_train, y_train)\n",
    "    rf_prediction = random_forest_model.predict(X_test)\n",
    "    rf_predictions.append(random_forest_model.score(X_train, y_train))\n",
    "    rf_n_estimators.append(i)\n",
    "\n",
    "print(\"Max Prediction: \" + str(max(rf_predictions)) + \" with \" \n",
    "      + str(rf_n_estimators[rf_predictions.index(max(rf_predictions))]) + \" predictors\")\n",
    "print(\"Min Prediction: \" + str(min(rf_predictions)) + \" with \" \n",
    "      + str(rf_n_estimators[rf_predictions.index(min(rf_predictions))]) + \" predictors\") \n",
    "print(\"Median Prediction: \" + str(statistics.median(rf_predictions)) + \" with \" \n",
    "      + str(rf_n_estimators[rf_predictions.index(statistics.median(rf_predictions))]) + \" predictors\") \n",
    "print(\"Mean Prediction: \" + str(statistics.mean(rf_predictions))) \n",
    "print(\"Standard Deviation of Predictions is: \" + str(statistics.stdev(rf_predictions)))"
   ]
  },
  {
   "cell_type": "code",
   "execution_count": 30,
   "id": "0d00c3d9",
   "metadata": {
    "execution": {
     "iopub.execute_input": "2022-11-13T23:05:00.246400Z",
     "iopub.status.busy": "2022-11-13T23:05:00.246008Z",
     "iopub.status.idle": "2022-11-13T23:05:01.780616Z",
     "shell.execute_reply": "2022-11-13T23:05:01.779121Z"
    },
    "papermill": {
     "duration": 1.557393,
     "end_time": "2022-11-13T23:05:01.783064",
     "exception": false,
     "start_time": "2022-11-13T23:05:00.225671",
     "status": "completed"
    },
    "tags": []
   },
   "outputs": [
    {
     "name": "stdout",
     "output_type": "stream",
     "text": [
      "Max Prediction: 0.9976076555023924 with 500 predictors\n",
      "Min Prediction: 0.9976076555023924 with 500 predictors\n",
      "Median Prediction: 0.9976076555023924 with 500 predictors\n",
      "Mean Prediction: 0.9976076555023924\n",
      "Standard Deviation of Predictions is: 0.0\n"
     ]
    }
   ],
   "source": [
    "# Gradient Boost Model\n",
    "gb_predictions = []\n",
    "gb_n_estimators = []\n",
    "for i in range(500,503):\n",
    "    gradient_boost_model = GradientBoostingClassifier(n_estimators = i)\n",
    "    gradient_boost_model.fit(X_train, y_train)\n",
    "    gb_prediction = gradient_boost_model.predict(X_test)\n",
    "    gb_predictions.append(gradient_boost_model.score(X_train, y_train))\n",
    "    gb_n_estimators.append(i)\n",
    "\n",
    "print(\"Max Prediction: \" + str(max(gb_predictions)) + \" with \" \n",
    "      + str(gb_n_estimators[gb_predictions.index(max(gb_predictions))]) + \" predictors\")\n",
    "print(\"Min Prediction: \" + str(min(gb_predictions)) + \" with \" \n",
    "      + str(gb_n_estimators[gb_predictions.index(min(gb_predictions))]) + \" predictors\") \n",
    "print(\"Median Prediction: \" + str(statistics.median(gb_predictions)) + \" with \" \n",
    "      + str(gb_n_estimators[gb_predictions.index(statistics.median(gb_predictions))]) + \" predictors\") \n",
    "print(\"Mean Prediction: \" + str(statistics.mean(gb_predictions))) \n",
    "print(\"Standard Deviation of Predictions is: \" + str(statistics.stdev(gb_predictions)))"
   ]
  },
  {
   "cell_type": "code",
   "execution_count": 31,
   "id": "603c35c9",
   "metadata": {
    "execution": {
     "iopub.execute_input": "2022-11-13T23:05:01.819987Z",
     "iopub.status.busy": "2022-11-13T23:05:01.819500Z",
     "iopub.status.idle": "2022-11-13T23:05:01.850668Z",
     "shell.execute_reply": "2022-11-13T23:05:01.848882Z"
    },
    "papermill": {
     "duration": 0.052911,
     "end_time": "2022-11-13T23:05:01.853174",
     "exception": false,
     "start_time": "2022-11-13T23:05:01.800263",
     "status": "completed"
    },
    "tags": []
   },
   "outputs": [
    {
     "name": "stdout",
     "output_type": "stream",
     "text": [
      "418\n",
      "Max Prediction: 0.39712918660287083 with 500 predictors\n",
      "Min Prediction: 0.39712918660287083 with 500 predictors\n",
      "Median Prediction: 0.39712918660287083 with 500 predictors\n",
      "Mean Prediction: 0.39712918660287083\n",
      "Standard Deviation of Predictions is: 0.0\n"
     ]
    }
   ],
   "source": [
    "# Perceptron\n",
    "p_predictions = []\n",
    "p_n_estimators = []\n",
    "for i in range(500,503):\n",
    "    perceptron_model = Perceptron(max_iter=i)\n",
    "    perceptron_model.fit(X_train, y_train)\n",
    "    p_prediction = perceptron_model.predict(X_test)\n",
    "    p_predictions.append(perceptron_model.score(X_train, y_train))\n",
    "    p_n_estimators.append(i)\n",
    "print(len(p_prediction))\n",
    "print(\"Max Prediction: \" + str(max(p_predictions)) + \" with \" \n",
    "      + str(p_n_estimators[p_predictions.index(max(p_predictions))]) + \" predictors\")\n",
    "print(\"Min Prediction: \" + str(min(p_predictions)) + \" with \" \n",
    "      + str(p_n_estimators[p_predictions.index(min(p_predictions))]) + \" predictors\") \n",
    "print(\"Median Prediction: \" + str(statistics.median(p_predictions)) + \" with \" \n",
    "      + str(p_n_estimators[p_predictions.index(statistics.median(p_predictions))]) + \" predictors\") \n",
    "print(\"Mean Prediction: \" + str(statistics.mean(p_predictions))) \n",
    "print(\"Standard Deviation of Predictions is: \" + str(statistics.stdev(p_predictions)))"
   ]
  },
  {
   "cell_type": "markdown",
   "id": "6d83d919",
   "metadata": {
    "papermill": {
     "duration": 0.017765,
     "end_time": "2022-11-13T23:05:01.888909",
     "exception": false,
     "start_time": "2022-11-13T23:05:01.871144",
     "status": "completed"
    },
    "tags": []
   },
   "source": [
    "Cross Validation for each model used is included below:"
   ]
  },
  {
   "cell_type": "code",
   "execution_count": 32,
   "id": "0eb61623",
   "metadata": {
    "execution": {
     "iopub.execute_input": "2022-11-13T23:05:01.930146Z",
     "iopub.status.busy": "2022-11-13T23:05:01.929339Z",
     "iopub.status.idle": "2022-11-13T23:05:04.800935Z",
     "shell.execute_reply": "2022-11-13T23:05:04.799172Z"
    },
    "papermill": {
     "duration": 2.896211,
     "end_time": "2022-11-13T23:05:04.803472",
     "exception": false,
     "start_time": "2022-11-13T23:05:01.907261",
     "status": "completed"
    },
    "tags": []
   },
   "outputs": [
    {
     "name": "stdout",
     "output_type": "stream",
     "text": [
      "==============================\n",
      "Perceptron Cross Validation\n",
      "Scores: [0.61904762 0.38095238 0.61904762 0.4047619  0.4047619  0.5952381\n",
      " 0.57142857 0.5952381  0.6097561  0.6097561 ]\n",
      "Mean: 0.540998838559814\n",
      "Standard Deviation: 0.09549030371114199\n",
      "==============================\n",
      "Random Forest Cross Validation\n",
      "Scores: [0.80952381 0.80952381 0.73809524 0.80952381 0.78571429 0.78571429\n",
      " 0.88095238 0.80952381 0.85365854 0.87804878]\n",
      "Mean: 0.81602787456446\n",
      "Standard Deviation: 0.04190272740360702\n",
      "==============================\n",
      "Gradient Boost Cross Validation\n",
      "Scores: [0.78571429 0.80952381 0.73809524 0.83333333 0.78571429 0.78571429\n",
      " 0.83333333 0.80952381 0.75609756 0.85365854]\n",
      "Mean: 0.7990708478513356\n",
      "Standard Deviation: 0.034126385724213386\n",
      "Cross Validation Means: \n",
      "{'p_mean': 0.540998838559814, 'rf_mean': 0.81602787456446, 'gb_mean': 0.7990708478513356}\n"
     ]
    }
   ],
   "source": [
    "# Cross Validation method is used to further evaluate the scores of the models \n",
    "perceptron_model = Perceptron()\n",
    "perceptron_scores = cross_val_score(perceptron_model, X_train, y_train, cv=10, scoring = \"accuracy\")\n",
    "random_forest_model = RandomForestClassifier()\n",
    "random_forest_scores = cross_val_score(random_forest_model, X_train, y_train, cv=10, scoring = \"accuracy\")\n",
    "gradient_boost_model = GradientBoostingClassifier()\n",
    "gradient_boost_scores = cross_val_score(gradient_boost_model, X_train, y_train, cv=10, scoring = \"accuracy\")\n",
    "cross_validation_means = {}\n",
    "print(\"==============================\")\n",
    "print(\"Perceptron Cross Validation\")\n",
    "print(\"Scores:\", perceptron_scores)\n",
    "cross_validation_means[\"p_mean\"] = perceptron_scores.mean()\n",
    "print(\"Mean:\", perceptron_scores.mean())\n",
    "print(\"Standard Deviation:\", perceptron_scores.std())\n",
    "print(\"==============================\")\n",
    "print(\"Random Forest Cross Validation\")\n",
    "print(\"Scores:\", random_forest_scores)\n",
    "cross_validation_means[\"rf_mean\"] = random_forest_scores.mean()\n",
    "print(\"Mean:\", random_forest_scores.mean())\n",
    "print(\"Standard Deviation:\", random_forest_scores.std())\n",
    "print(\"==============================\")\n",
    "print(\"Gradient Boost Cross Validation\")\n",
    "print(\"Scores:\", gradient_boost_scores)\n",
    "cross_validation_means[\"gb_mean\"] = gradient_boost_scores.mean()\n",
    "print(\"Mean:\", gradient_boost_scores.mean())\n",
    "print(\"Standard Deviation:\", gradient_boost_scores.std())\n",
    "print(\"Cross Validation Means: \")\n",
    "print(cross_validation_means)"
   ]
  },
  {
   "cell_type": "markdown",
   "id": "46249539",
   "metadata": {
    "papermill": {
     "duration": 0.017546,
     "end_time": "2022-11-13T23:05:04.838290",
     "exception": false,
     "start_time": "2022-11-13T23:05:04.820744",
     "status": "completed"
    },
    "tags": []
   },
   "source": [
    "**Submission:**\n",
    "Preparing the submission csv with the best performing predictor "
   ]
  },
  {
   "cell_type": "code",
   "execution_count": 33,
   "id": "12ed7f64",
   "metadata": {
    "execution": {
     "iopub.execute_input": "2022-11-13T23:05:04.874810Z",
     "iopub.status.busy": "2022-11-13T23:05:04.874347Z",
     "iopub.status.idle": "2022-11-13T23:05:04.887070Z",
     "shell.execute_reply": "2022-11-13T23:05:04.886067Z"
    },
    "papermill": {
     "duration": 0.034396,
     "end_time": "2022-11-13T23:05:04.889979",
     "exception": false,
     "start_time": "2022-11-13T23:05:04.855583",
     "status": "completed"
    },
    "tags": []
   },
   "outputs": [
    {
     "name": "stdout",
     "output_type": "stream",
     "text": [
      "Random Forest is the best prediction\n",
      "Testing_Data Length: 418\n",
      "Best Prediction: 418\n"
     ]
    }
   ],
   "source": [
    "# Randfom Forest has the best score. In the event that anything changes, \n",
    "# this code selects the best prediction based on the mean cross validation score\n",
    "max_mean_cross_validation_score = max(cross_validation_means, key = cross_validation_means.get)\n",
    "predictions = {\"rf\": rf_prediction, \"gb\": gb_prediction, \"p\": p_prediction}\n",
    "prediction_names = {\"rf\": \"Random Forest\", \"gb\": \"Gradient Boost\", \"p\": \"Perceptron\"}\n",
    "best_prediction_prefix = max_mean_cross_validation_score.split(\"_\")[0]\n",
    "best_prediction = predictions[best_prediction_prefix]\n",
    "print(prediction_names[best_prediction_prefix] + \" is the best prediction\")\n",
    "\n",
    "print(\"Testing_Data Length: \" + str(len(testing_data[\"PassengerId\"])))\n",
    "print(\"Best Prediction: \" + str(len(best_prediction)))\n",
    "submission = pd.DataFrame({\n",
    "#         \"PassengerId\": training_data[\"PassengerId\"].head(len(best_prediction)),\n",
    "#         \"Survived\": best_prediction\n",
    "        \"PassengerId\": testing_data[\"PassengerId\"],\n",
    "        \"Survived\": best_prediction\n",
    "    })\n",
    "\n",
    "submission.to_csv('submission.csv', index=False)"
   ]
  },
  {
   "cell_type": "code",
   "execution_count": 34,
   "id": "8d115178",
   "metadata": {
    "execution": {
     "iopub.execute_input": "2022-11-13T23:05:04.929096Z",
     "iopub.status.busy": "2022-11-13T23:05:04.928447Z",
     "iopub.status.idle": "2022-11-13T23:05:04.940076Z",
     "shell.execute_reply": "2022-11-13T23:05:04.938940Z"
    },
    "papermill": {
     "duration": 0.033146,
     "end_time": "2022-11-13T23:05:04.942126",
     "exception": false,
     "start_time": "2022-11-13T23:05:04.908980",
     "status": "completed"
    },
    "tags": []
   },
   "outputs": [
    {
     "data": {
      "text/html": [
       "<div>\n",
       "<style scoped>\n",
       "    .dataframe tbody tr th:only-of-type {\n",
       "        vertical-align: middle;\n",
       "    }\n",
       "\n",
       "    .dataframe tbody tr th {\n",
       "        vertical-align: top;\n",
       "    }\n",
       "\n",
       "    .dataframe thead th {\n",
       "        text-align: right;\n",
       "    }\n",
       "</style>\n",
       "<table border=\"1\" class=\"dataframe\">\n",
       "  <thead>\n",
       "    <tr style=\"text-align: right;\">\n",
       "      <th></th>\n",
       "      <th>PassengerId</th>\n",
       "      <th>Survived</th>\n",
       "    </tr>\n",
       "  </thead>\n",
       "  <tbody>\n",
       "    <tr>\n",
       "      <th>0</th>\n",
       "      <td>892</td>\n",
       "      <td>0</td>\n",
       "    </tr>\n",
       "    <tr>\n",
       "      <th>1</th>\n",
       "      <td>893</td>\n",
       "      <td>0</td>\n",
       "    </tr>\n",
       "    <tr>\n",
       "      <th>2</th>\n",
       "      <td>894</td>\n",
       "      <td>0</td>\n",
       "    </tr>\n",
       "    <tr>\n",
       "      <th>3</th>\n",
       "      <td>895</td>\n",
       "      <td>0</td>\n",
       "    </tr>\n",
       "    <tr>\n",
       "      <th>4</th>\n",
       "      <td>896</td>\n",
       "      <td>1</td>\n",
       "    </tr>\n",
       "    <tr>\n",
       "      <th>5</th>\n",
       "      <td>897</td>\n",
       "      <td>0</td>\n",
       "    </tr>\n",
       "    <tr>\n",
       "      <th>6</th>\n",
       "      <td>898</td>\n",
       "      <td>1</td>\n",
       "    </tr>\n",
       "    <tr>\n",
       "      <th>7</th>\n",
       "      <td>899</td>\n",
       "      <td>0</td>\n",
       "    </tr>\n",
       "    <tr>\n",
       "      <th>8</th>\n",
       "      <td>900</td>\n",
       "      <td>0</td>\n",
       "    </tr>\n",
       "    <tr>\n",
       "      <th>9</th>\n",
       "      <td>901</td>\n",
       "      <td>0</td>\n",
       "    </tr>\n",
       "  </tbody>\n",
       "</table>\n",
       "</div>"
      ],
      "text/plain": [
       "   PassengerId  Survived\n",
       "0          892         0\n",
       "1          893         0\n",
       "2          894         0\n",
       "3          895         0\n",
       "4          896         1\n",
       "5          897         0\n",
       "6          898         1\n",
       "7          899         0\n",
       "8          900         0\n",
       "9          901         0"
      ]
     },
     "execution_count": 34,
     "metadata": {},
     "output_type": "execute_result"
    }
   ],
   "source": [
    "data = pd.read_csv(\"submission.csv\")\n",
    "data.head(10)"
   ]
  }
 ],
 "metadata": {
  "kernelspec": {
   "display_name": "Python 3",
   "language": "python",
   "name": "python3"
  },
  "language_info": {
   "codemirror_mode": {
    "name": "ipython",
    "version": 3
   },
   "file_extension": ".py",
   "mimetype": "text/x-python",
   "name": "python",
   "nbconvert_exporter": "python",
   "pygments_lexer": "ipython3",
   "version": "3.7.12"
  },
  "papermill": {
   "default_parameters": {},
   "duration": 25.970522,
   "end_time": "2022-11-13T23:05:05.781644",
   "environment_variables": {},
   "exception": null,
   "input_path": "__notebook__.ipynb",
   "output_path": "__notebook__.ipynb",
   "parameters": {},
   "start_time": "2022-11-13T23:04:39.811122",
   "version": "2.3.4"
  }
 },
 "nbformat": 4,
 "nbformat_minor": 5
}
