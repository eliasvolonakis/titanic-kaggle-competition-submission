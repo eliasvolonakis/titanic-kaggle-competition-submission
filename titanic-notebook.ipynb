{
 "cells": [
  {
   "cell_type": "markdown",
   "id": "e3c172de",
   "metadata": {
    "papermill": {
     "duration": 0.011296,
     "end_time": "2022-11-15T13:22:10.457931",
     "exception": false,
     "start_time": "2022-11-15T13:22:10.446635",
     "status": "completed"
    },
    "tags": []
   },
   "source": [
    "**Overview of Notebook:**\n",
    "1. All required imports and data collection\n",
    "2. Exploratory Data Analysis (EDA)\n",
    "3. Feature Engineering\n",
    "4. Testing Various Models\n",
    "5. Preparing the CSV Submission"
   ]
  },
  {
   "cell_type": "code",
   "execution_count": 1,
   "id": "f45441c1",
   "metadata": {
    "execution": {
     "iopub.execute_input": "2022-11-15T13:22:10.484481Z",
     "iopub.status.busy": "2022-11-15T13:22:10.483918Z",
     "iopub.status.idle": "2022-11-15T13:22:12.536246Z",
     "shell.execute_reply": "2022-11-15T13:22:12.534045Z"
    },
    "papermill": {
     "duration": 2.069735,
     "end_time": "2022-11-15T13:22:12.538727",
     "exception": false,
     "start_time": "2022-11-15T13:22:10.468992",
     "status": "completed"
    },
    "tags": []
   },
   "outputs": [
    {
     "name": "stdout",
     "output_type": "stream",
     "text": [
      "/kaggle/input/titanic/train.csv\n",
      "/kaggle/input/titanic/test.csv\n",
      "/kaggle/input/titanic/gender_submission.csv\n"
     ]
    }
   ],
   "source": [
    "# All required import statements \n",
    "import math\n",
    "import numpy as np \n",
    "import pandas as pd \n",
    "import seaborn as sns\n",
    "from matplotlib import pyplot as plt\n",
    "from sklearn.model_selection import train_test_split\n",
    "from numpy import median\n",
    "import statistics\n",
    "from sklearn.ensemble import RandomForestClassifier\n",
    "from sklearn.ensemble import GradientBoostingClassifier\n",
    "from sklearn.linear_model import Perceptron\n",
    "from sklearn.model_selection import cross_val_score\n",
    "from sklearn.metrics import f1_score\n",
    "from sklearn.preprocessing import StandardScaler\n",
    "from sklearn import metrics\n",
    "%matplotlib inline\n",
    "\n",
    "import warnings\n",
    "warnings.filterwarnings('ignore')\n",
    "\n",
    "import os\n",
    "for dirname, _, filenames in os.walk('/kaggle/input'):\n",
    "    for filename in filenames:\n",
    "        print(os.path.join(dirname, filename))"
   ]
  },
  {
   "cell_type": "code",
   "execution_count": 2,
   "id": "9b05a367",
   "metadata": {
    "execution": {
     "iopub.execute_input": "2022-11-15T13:22:12.560637Z",
     "iopub.status.busy": "2022-11-15T13:22:12.560294Z",
     "iopub.status.idle": "2022-11-15T13:22:12.592228Z",
     "shell.execute_reply": "2022-11-15T13:22:12.591526Z"
    },
    "papermill": {
     "duration": 0.044804,
     "end_time": "2022-11-15T13:22:12.594065",
     "exception": false,
     "start_time": "2022-11-15T13:22:12.549261",
     "status": "completed"
    },
    "tags": []
   },
   "outputs": [
    {
     "name": "stdout",
     "output_type": "stream",
     "text": [
      "891\n",
      "418\n"
     ]
    }
   ],
   "source": [
    "# Examine the head of the dataset to get an initial understanding of what the data looks like\n",
    "training_data = pd.read_csv(\"../input/titanic/train.csv\")\n",
    "testing_data = pd.read_csv(\"../input/titanic/test.csv\")\n",
    "\n",
    "print(len(training_data))\n",
    "print(len(testing_data))"
   ]
  },
  {
   "cell_type": "markdown",
   "id": "39be9ad1",
   "metadata": {
    "papermill": {
     "duration": 0.009993,
     "end_time": "2022-11-15T13:22:12.614654",
     "exception": false,
     "start_time": "2022-11-15T13:22:12.604661",
     "status": "completed"
    },
    "tags": []
   },
   "source": [
    "**Exploratory Data Analysis (EDA):**\n",
    "\n",
    "Now that the data has been collected, some exploratory data analysis is required "
   ]
  },
  {
   "cell_type": "code",
   "execution_count": 3,
   "id": "5a74f118",
   "metadata": {
    "execution": {
     "iopub.execute_input": "2022-11-15T13:22:12.639293Z",
     "iopub.status.busy": "2022-11-15T13:22:12.638111Z",
     "iopub.status.idle": "2022-11-15T13:22:12.690951Z",
     "shell.execute_reply": "2022-11-15T13:22:12.689982Z"
    },
    "papermill": {
     "duration": 0.067646,
     "end_time": "2022-11-15T13:22:12.693443",
     "exception": false,
     "start_time": "2022-11-15T13:22:12.625797",
     "status": "completed"
    },
    "tags": []
   },
   "outputs": [
    {
     "data": {
      "text/html": [
       "<div>\n",
       "<style scoped>\n",
       "    .dataframe tbody tr th:only-of-type {\n",
       "        vertical-align: middle;\n",
       "    }\n",
       "\n",
       "    .dataframe tbody tr th {\n",
       "        vertical-align: top;\n",
       "    }\n",
       "\n",
       "    .dataframe thead th {\n",
       "        text-align: right;\n",
       "    }\n",
       "</style>\n",
       "<table border=\"1\" class=\"dataframe\">\n",
       "  <thead>\n",
       "    <tr style=\"text-align: right;\">\n",
       "      <th></th>\n",
       "      <th>PassengerId</th>\n",
       "      <th>Survived</th>\n",
       "      <th>Pclass</th>\n",
       "      <th>Age</th>\n",
       "      <th>SibSp</th>\n",
       "      <th>Parch</th>\n",
       "      <th>Fare</th>\n",
       "    </tr>\n",
       "  </thead>\n",
       "  <tbody>\n",
       "    <tr>\n",
       "      <th>count</th>\n",
       "      <td>891.000000</td>\n",
       "      <td>891.000000</td>\n",
       "      <td>891.000000</td>\n",
       "      <td>714.000000</td>\n",
       "      <td>891.000000</td>\n",
       "      <td>891.000000</td>\n",
       "      <td>891.000000</td>\n",
       "    </tr>\n",
       "    <tr>\n",
       "      <th>mean</th>\n",
       "      <td>446.000000</td>\n",
       "      <td>0.383838</td>\n",
       "      <td>2.308642</td>\n",
       "      <td>29.699118</td>\n",
       "      <td>0.523008</td>\n",
       "      <td>0.381594</td>\n",
       "      <td>32.204208</td>\n",
       "    </tr>\n",
       "    <tr>\n",
       "      <th>std</th>\n",
       "      <td>257.353842</td>\n",
       "      <td>0.486592</td>\n",
       "      <td>0.836071</td>\n",
       "      <td>14.526497</td>\n",
       "      <td>1.102743</td>\n",
       "      <td>0.806057</td>\n",
       "      <td>49.693429</td>\n",
       "    </tr>\n",
       "    <tr>\n",
       "      <th>min</th>\n",
       "      <td>1.000000</td>\n",
       "      <td>0.000000</td>\n",
       "      <td>1.000000</td>\n",
       "      <td>0.420000</td>\n",
       "      <td>0.000000</td>\n",
       "      <td>0.000000</td>\n",
       "      <td>0.000000</td>\n",
       "    </tr>\n",
       "    <tr>\n",
       "      <th>25%</th>\n",
       "      <td>223.500000</td>\n",
       "      <td>0.000000</td>\n",
       "      <td>2.000000</td>\n",
       "      <td>20.125000</td>\n",
       "      <td>0.000000</td>\n",
       "      <td>0.000000</td>\n",
       "      <td>7.910400</td>\n",
       "    </tr>\n",
       "    <tr>\n",
       "      <th>50%</th>\n",
       "      <td>446.000000</td>\n",
       "      <td>0.000000</td>\n",
       "      <td>3.000000</td>\n",
       "      <td>28.000000</td>\n",
       "      <td>0.000000</td>\n",
       "      <td>0.000000</td>\n",
       "      <td>14.454200</td>\n",
       "    </tr>\n",
       "    <tr>\n",
       "      <th>75%</th>\n",
       "      <td>668.500000</td>\n",
       "      <td>1.000000</td>\n",
       "      <td>3.000000</td>\n",
       "      <td>38.000000</td>\n",
       "      <td>1.000000</td>\n",
       "      <td>0.000000</td>\n",
       "      <td>31.000000</td>\n",
       "    </tr>\n",
       "    <tr>\n",
       "      <th>max</th>\n",
       "      <td>891.000000</td>\n",
       "      <td>1.000000</td>\n",
       "      <td>3.000000</td>\n",
       "      <td>80.000000</td>\n",
       "      <td>8.000000</td>\n",
       "      <td>6.000000</td>\n",
       "      <td>512.329200</td>\n",
       "    </tr>\n",
       "  </tbody>\n",
       "</table>\n",
       "</div>"
      ],
      "text/plain": [
       "       PassengerId    Survived      Pclass         Age       SibSp  \\\n",
       "count   891.000000  891.000000  891.000000  714.000000  891.000000   \n",
       "mean    446.000000    0.383838    2.308642   29.699118    0.523008   \n",
       "std     257.353842    0.486592    0.836071   14.526497    1.102743   \n",
       "min       1.000000    0.000000    1.000000    0.420000    0.000000   \n",
       "25%     223.500000    0.000000    2.000000   20.125000    0.000000   \n",
       "50%     446.000000    0.000000    3.000000   28.000000    0.000000   \n",
       "75%     668.500000    1.000000    3.000000   38.000000    1.000000   \n",
       "max     891.000000    1.000000    3.000000   80.000000    8.000000   \n",
       "\n",
       "            Parch        Fare  \n",
       "count  891.000000  891.000000  \n",
       "mean     0.381594   32.204208  \n",
       "std      0.806057   49.693429  \n",
       "min      0.000000    0.000000  \n",
       "25%      0.000000    7.910400  \n",
       "50%      0.000000   14.454200  \n",
       "75%      0.000000   31.000000  \n",
       "max      6.000000  512.329200  "
      ]
     },
     "execution_count": 3,
     "metadata": {},
     "output_type": "execute_result"
    }
   ],
   "source": [
    "# Get some information of the training dataset \n",
    "training_data.describe()"
   ]
  },
  {
   "cell_type": "code",
   "execution_count": 4,
   "id": "7b086165",
   "metadata": {
    "execution": {
     "iopub.execute_input": "2022-11-15T13:22:12.716988Z",
     "iopub.status.busy": "2022-11-15T13:22:12.716593Z",
     "iopub.status.idle": "2022-11-15T13:22:12.746868Z",
     "shell.execute_reply": "2022-11-15T13:22:12.745933Z"
    },
    "papermill": {
     "duration": 0.046055,
     "end_time": "2022-11-15T13:22:12.750094",
     "exception": false,
     "start_time": "2022-11-15T13:22:12.704039",
     "status": "completed"
    },
    "tags": []
   },
   "outputs": [
    {
     "data": {
      "text/html": [
       "<div>\n",
       "<style scoped>\n",
       "    .dataframe tbody tr th:only-of-type {\n",
       "        vertical-align: middle;\n",
       "    }\n",
       "\n",
       "    .dataframe tbody tr th {\n",
       "        vertical-align: top;\n",
       "    }\n",
       "\n",
       "    .dataframe thead th {\n",
       "        text-align: right;\n",
       "    }\n",
       "</style>\n",
       "<table border=\"1\" class=\"dataframe\">\n",
       "  <thead>\n",
       "    <tr style=\"text-align: right;\">\n",
       "      <th></th>\n",
       "      <th>PassengerId</th>\n",
       "      <th>Pclass</th>\n",
       "      <th>Age</th>\n",
       "      <th>SibSp</th>\n",
       "      <th>Parch</th>\n",
       "      <th>Fare</th>\n",
       "    </tr>\n",
       "  </thead>\n",
       "  <tbody>\n",
       "    <tr>\n",
       "      <th>count</th>\n",
       "      <td>418.000000</td>\n",
       "      <td>418.000000</td>\n",
       "      <td>332.000000</td>\n",
       "      <td>418.000000</td>\n",
       "      <td>418.000000</td>\n",
       "      <td>417.000000</td>\n",
       "    </tr>\n",
       "    <tr>\n",
       "      <th>mean</th>\n",
       "      <td>1100.500000</td>\n",
       "      <td>2.265550</td>\n",
       "      <td>30.272590</td>\n",
       "      <td>0.447368</td>\n",
       "      <td>0.392344</td>\n",
       "      <td>35.627188</td>\n",
       "    </tr>\n",
       "    <tr>\n",
       "      <th>std</th>\n",
       "      <td>120.810458</td>\n",
       "      <td>0.841838</td>\n",
       "      <td>14.181209</td>\n",
       "      <td>0.896760</td>\n",
       "      <td>0.981429</td>\n",
       "      <td>55.907576</td>\n",
       "    </tr>\n",
       "    <tr>\n",
       "      <th>min</th>\n",
       "      <td>892.000000</td>\n",
       "      <td>1.000000</td>\n",
       "      <td>0.170000</td>\n",
       "      <td>0.000000</td>\n",
       "      <td>0.000000</td>\n",
       "      <td>0.000000</td>\n",
       "    </tr>\n",
       "    <tr>\n",
       "      <th>25%</th>\n",
       "      <td>996.250000</td>\n",
       "      <td>1.000000</td>\n",
       "      <td>21.000000</td>\n",
       "      <td>0.000000</td>\n",
       "      <td>0.000000</td>\n",
       "      <td>7.895800</td>\n",
       "    </tr>\n",
       "    <tr>\n",
       "      <th>50%</th>\n",
       "      <td>1100.500000</td>\n",
       "      <td>3.000000</td>\n",
       "      <td>27.000000</td>\n",
       "      <td>0.000000</td>\n",
       "      <td>0.000000</td>\n",
       "      <td>14.454200</td>\n",
       "    </tr>\n",
       "    <tr>\n",
       "      <th>75%</th>\n",
       "      <td>1204.750000</td>\n",
       "      <td>3.000000</td>\n",
       "      <td>39.000000</td>\n",
       "      <td>1.000000</td>\n",
       "      <td>0.000000</td>\n",
       "      <td>31.500000</td>\n",
       "    </tr>\n",
       "    <tr>\n",
       "      <th>max</th>\n",
       "      <td>1309.000000</td>\n",
       "      <td>3.000000</td>\n",
       "      <td>76.000000</td>\n",
       "      <td>8.000000</td>\n",
       "      <td>9.000000</td>\n",
       "      <td>512.329200</td>\n",
       "    </tr>\n",
       "  </tbody>\n",
       "</table>\n",
       "</div>"
      ],
      "text/plain": [
       "       PassengerId      Pclass         Age       SibSp       Parch        Fare\n",
       "count   418.000000  418.000000  332.000000  418.000000  418.000000  417.000000\n",
       "mean   1100.500000    2.265550   30.272590    0.447368    0.392344   35.627188\n",
       "std     120.810458    0.841838   14.181209    0.896760    0.981429   55.907576\n",
       "min     892.000000    1.000000    0.170000    0.000000    0.000000    0.000000\n",
       "25%     996.250000    1.000000   21.000000    0.000000    0.000000    7.895800\n",
       "50%    1100.500000    3.000000   27.000000    0.000000    0.000000   14.454200\n",
       "75%    1204.750000    3.000000   39.000000    1.000000    0.000000   31.500000\n",
       "max    1309.000000    3.000000   76.000000    8.000000    9.000000  512.329200"
      ]
     },
     "execution_count": 4,
     "metadata": {},
     "output_type": "execute_result"
    }
   ],
   "source": [
    "# Get some information of the testing dataset \n",
    "testing_data.describe()"
   ]
  },
  {
   "cell_type": "code",
   "execution_count": 5,
   "id": "12c8a18e",
   "metadata": {
    "execution": {
     "iopub.execute_input": "2022-11-15T13:22:12.776629Z",
     "iopub.status.busy": "2022-11-15T13:22:12.775929Z",
     "iopub.status.idle": "2022-11-15T13:22:12.824417Z",
     "shell.execute_reply": "2022-11-15T13:22:12.823002Z"
    },
    "papermill": {
     "duration": 0.065583,
     "end_time": "2022-11-15T13:22:12.826926",
     "exception": false,
     "start_time": "2022-11-15T13:22:12.761343",
     "status": "completed"
    },
    "tags": []
   },
   "outputs": [
    {
     "name": "stdout",
     "output_type": "stream",
     "text": [
      "Training Data Information:\n",
      "(891, 12)\n",
      "Testing Data Information:\n",
      "(418, 11)\n"
     ]
    },
    {
     "data": {
      "text/plain": [
       "Index(['PassengerId', 'Survived', 'Pclass', 'Age', 'SibSp', 'Parch', 'Fare'], dtype='object')"
      ]
     },
     "execution_count": 5,
     "metadata": {},
     "output_type": "execute_result"
    }
   ],
   "source": [
    "# Identify the columns of the training data\n",
    "print(\"Training Data Information:\")\n",
    "print(training_data.shape)\n",
    "training_data.describe().columns\n",
    "print(\"Testing Data Information:\")\n",
    "print(testing_data.shape)\n",
    "training_data.describe().columns"
   ]
  },
  {
   "cell_type": "code",
   "execution_count": 6,
   "id": "bf99356f",
   "metadata": {
    "execution": {
     "iopub.execute_input": "2022-11-15T13:22:12.852716Z",
     "iopub.status.busy": "2022-11-15T13:22:12.852333Z",
     "iopub.status.idle": "2022-11-15T13:22:12.888063Z",
     "shell.execute_reply": "2022-11-15T13:22:12.886211Z"
    },
    "papermill": {
     "duration": 0.051338,
     "end_time": "2022-11-15T13:22:12.890834",
     "exception": false,
     "start_time": "2022-11-15T13:22:12.839496",
     "status": "completed"
    },
    "tags": []
   },
   "outputs": [
    {
     "name": "stdout",
     "output_type": "stream",
     "text": [
      "     PassengerId  Pclass                                          Name  \\\n",
      "0            892       3                              Kelly, Mr. James   \n",
      "1            893       3              Wilkes, Mrs. James (Ellen Needs)   \n",
      "2            894       2                     Myles, Mr. Thomas Francis   \n",
      "3            895       3                              Wirz, Mr. Albert   \n",
      "4            896       3  Hirvonen, Mrs. Alexander (Helga E Lindqvist)   \n",
      "..           ...     ...                                           ...   \n",
      "413         1305       3                            Spector, Mr. Woolf   \n",
      "414         1306       1                  Oliva y Ocana, Dona. Fermina   \n",
      "415         1307       3                  Saether, Mr. Simon Sivertsen   \n",
      "416         1308       3                           Ware, Mr. Frederick   \n",
      "417         1309       3                      Peter, Master. Michael J   \n",
      "\n",
      "        Sex   Age  SibSp  Parch              Ticket      Fare Cabin Embarked  \n",
      "0      male  34.5      0      0              330911    7.8292   NaN        Q  \n",
      "1    female  47.0      1      0              363272    7.0000   NaN        S  \n",
      "2      male  62.0      0      0              240276    9.6875   NaN        Q  \n",
      "3      male  27.0      0      0              315154    8.6625   NaN        S  \n",
      "4    female  22.0      1      1             3101298   12.2875   NaN        S  \n",
      "..      ...   ...    ...    ...                 ...       ...   ...      ...  \n",
      "413    male   NaN      0      0           A.5. 3236    8.0500   NaN        S  \n",
      "414  female  39.0      0      0            PC 17758  108.9000  C105        C  \n",
      "415    male  38.5      0      0  SOTON/O.Q. 3101262    7.2500   NaN        S  \n",
      "416    male   NaN      0      0              359309    8.0500   NaN        S  \n",
      "417    male   NaN      1      1                2668   22.3583   NaN        C  \n",
      "\n",
      "[418 rows x 11 columns]\n"
     ]
    }
   ],
   "source": [
    "testing_data.describe().columns\n",
    "print(testing_data)"
   ]
  },
  {
   "cell_type": "code",
   "execution_count": 7,
   "id": "68becd40",
   "metadata": {
    "execution": {
     "iopub.execute_input": "2022-11-15T13:22:12.918169Z",
     "iopub.status.busy": "2022-11-15T13:22:12.917513Z",
     "iopub.status.idle": "2022-11-15T13:22:13.266766Z",
     "shell.execute_reply": "2022-11-15T13:22:13.264398Z"
    },
    "papermill": {
     "duration": 0.366885,
     "end_time": "2022-11-15T13:22:13.270134",
     "exception": false,
     "start_time": "2022-11-15T13:22:12.903249",
     "status": "completed"
    },
    "tags": []
   },
   "outputs": [
    {
     "data": {
      "text/plain": [
       "<AxesSubplot:xlabel='Age', ylabel='Count'>"
      ]
     },
     "execution_count": 7,
     "metadata": {},
     "output_type": "execute_result"
    },
    {
     "data": {
      "image/png": "[encoded data removed]",
      "text/plain": [
       "<Figure size 432x288 with 1 Axes>"
      ]
     },
     "metadata": {
      "needs_background": "light"
     },
     "output_type": "display_data"
    }
   ],
   "source": [
    "# Seperate the data into numeric and categorical data\n",
    "numeric_data = training_data[['Age', 'SibSp', 'Parch', 'Fare']]\n",
    "categorical_data = training_data[['Survived', 'Pclass', 'Sex', 'Ticket', 'Cabin', 'Embarked']]\n",
    "\n",
    "sns.histplot(data = training_data['Age'], kde = True)\n",
    "sns.histplot(data = testing_data['Age'], kde = True)"
   ]
  },
  {
   "cell_type": "code",
   "execution_count": 8,
   "id": "e9c30655",
   "metadata": {
    "execution": {
     "iopub.execute_input": "2022-11-15T13:22:13.300414Z",
     "iopub.status.busy": "2022-11-15T13:22:13.298552Z",
     "iopub.status.idle": "2022-11-15T13:22:13.556612Z",
     "shell.execute_reply": "2022-11-15T13:22:13.554766Z"
    },
    "papermill": {
     "duration": 0.277471,
     "end_time": "2022-11-15T13:22:13.559847",
     "exception": false,
     "start_time": "2022-11-15T13:22:13.282376",
     "status": "completed"
    },
    "tags": []
   },
   "outputs": [
    {
     "data": {
      "text/plain": [
       "<AxesSubplot:xlabel='Pclass', ylabel='Count'>"
      ]
     },
     "execution_count": 8,
     "metadata": {},
     "output_type": "execute_result"
    },
    {
     "data": {
      "image/png": "[encoded data removed]",
      "text/plain": [
       "<Figure size 432x288 with 1 Axes>"
      ]
     },
     "metadata": {
      "needs_background": "light"
     },
     "output_type": "display_data"
    }
   ],
   "source": [
    "sns.histplot(data = training_data['Pclass'], kde = True)\n",
    "sns.histplot(data = testing_data['Pclass'], kde = True)"
   ]
  },
  {
   "cell_type": "code",
   "execution_count": 9,
   "id": "0b30ff9f",
   "metadata": {
    "execution": {
     "iopub.execute_input": "2022-11-15T13:22:13.590055Z",
     "iopub.status.busy": "2022-11-15T13:22:13.589618Z",
     "iopub.status.idle": "2022-11-15T13:22:13.934012Z",
     "shell.execute_reply": "2022-11-15T13:22:13.933075Z"
    },
    "papermill": {
     "duration": 0.364707,
     "end_time": "2022-11-15T13:22:13.937239",
     "exception": false,
     "start_time": "2022-11-15T13:22:13.572532",
     "status": "completed"
    },
    "tags": []
   },
   "outputs": [
    {
     "data": {
      "text/plain": [
       "<AxesSubplot:xlabel='SibSp', ylabel='Count'>"
      ]
     },
     "execution_count": 9,
     "metadata": {},
     "output_type": "execute_result"
    },
    {
     "data": {
      "image/png": "[encoded data removed]",
      "text/plain": [
       "<Figure size 432x288 with 1 Axes>"
      ]
     },
     "metadata": {
      "needs_background": "light"
     },
     "output_type": "display_data"
    }
   ],
   "source": [
    "sns.histplot(data = training_data['SibSp'], kde = True)\n",
    "sns.histplot(data = testing_data['SibSp'], kde = True)"
   ]
  },
  {
   "cell_type": "code",
   "execution_count": 10,
   "id": "49c0e223",
   "metadata": {
    "execution": {
     "iopub.execute_input": "2022-11-15T13:22:13.966595Z",
     "iopub.status.busy": "2022-11-15T13:22:13.966210Z",
     "iopub.status.idle": "2022-11-15T13:22:14.515457Z",
     "shell.execute_reply": "2022-11-15T13:22:14.513720Z"
    },
    "papermill": {
     "duration": 0.567821,
     "end_time": "2022-11-15T13:22:14.518696",
     "exception": false,
     "start_time": "2022-11-15T13:22:13.950875",
     "status": "completed"
    },
    "tags": []
   },
   "outputs": [
    {
     "data": {
      "text/plain": [
       "<AxesSubplot:xlabel='Fare', ylabel='Count'>"
      ]
     },
     "execution_count": 10,
     "metadata": {},
     "output_type": "execute_result"
    },
    {
     "data": {
      "image/png": "[encoded data removed]",
      "text/plain": [
       "<Figure size 432x288 with 1 Axes>"
      ]
     },
     "metadata": {
      "needs_background": "light"
     },
     "output_type": "display_data"
    }
   ],
   "source": [
    "sns.histplot(data = training_data['Fare'], kde = True)\n",
    "sns.histplot(data = testing_data['Fare'], kde = True)"
   ]
  },
  {
   "cell_type": "code",
   "execution_count": 11,
   "id": "e619e854",
   "metadata": {
    "execution": {
     "iopub.execute_input": "2022-11-15T13:22:14.548129Z",
     "iopub.status.busy": "2022-11-15T13:22:14.547692Z",
     "iopub.status.idle": "2022-11-15T13:22:14.559977Z",
     "shell.execute_reply": "2022-11-15T13:22:14.558146Z"
    },
    "papermill": {
     "duration": 0.028628,
     "end_time": "2022-11-15T13:22:14.561748",
     "exception": false,
     "start_time": "2022-11-15T13:22:14.533120",
     "status": "completed"
    },
    "tags": []
   },
   "outputs": [
    {
     "name": "stdout",
     "output_type": "stream",
     "text": [
      "891\n"
     ]
    }
   ],
   "source": [
    "# Get rid of outlier SibSp values\n",
    "training_sibsp = [s for s in training_data['SibSp'].tolist()]\n",
    "testing_sibsp = [s for s in testing_data['SibSp'].tolist()]\n",
    "\n",
    "median_training_sibsp = np.median(training_sibsp)\n",
    "median_testing_sibsp = np.median(testing_sibsp)\n",
    "\n",
    "print(len(training_data['SibSp']))\n",
    "\n",
    "def training_sibsp_to_med(s):\n",
    "    if s >= 5:\n",
    "        return median_training_sibsp\n",
    "    return s\n",
    "\n",
    "def testing_sibsp_to_med(s):\n",
    "    if s >= 5:\n",
    "        return median_testing_sibsp\n",
    "    return s\n",
    "\n",
    "training_data[\"SibSp\"] = training_data[\"SibSp\"].map(training_sibsp_to_med)\n",
    "testing_data[\"SibSp\"] = testing_data[\"SibSp\"].map(testing_sibsp_to_med)"
   ]
  },
  {
   "cell_type": "code",
   "execution_count": 12,
   "id": "e80ff4e5",
   "metadata": {
    "execution": {
     "iopub.execute_input": "2022-11-15T13:22:14.589625Z",
     "iopub.status.busy": "2022-11-15T13:22:14.588951Z",
     "iopub.status.idle": "2022-11-15T13:22:14.795214Z",
     "shell.execute_reply": "2022-11-15T13:22:14.793452Z"
    },
    "papermill": {
     "duration": 0.223238,
     "end_time": "2022-11-15T13:22:14.797839",
     "exception": false,
     "start_time": "2022-11-15T13:22:14.574601",
     "status": "completed"
    },
    "tags": []
   },
   "outputs": [
    {
     "data": {
      "text/plain": [
       "<AxesSubplot:xlabel='Parch', ylabel='Count'>"
      ]
     },
     "execution_count": 12,
     "metadata": {},
     "output_type": "execute_result"
    },
    {
     "data": {
      "image/png": "[encoded data removed]",
      "text/plain": [
       "<Figure size 432x288 with 1 Axes>"
      ]
     },
     "metadata": {
      "needs_background": "light"
     },
     "output_type": "display_data"
    }
   ],
   "source": [
    "sns.histplot(data = testing_data['Parch'], kde = True)"
   ]
  },
  {
   "cell_type": "code",
   "execution_count": 13,
   "id": "b5316882",
   "metadata": {
    "execution": {
     "iopub.execute_input": "2022-11-15T13:22:14.826585Z",
     "iopub.status.busy": "2022-11-15T13:22:14.826110Z",
     "iopub.status.idle": "2022-11-15T13:22:14.841935Z",
     "shell.execute_reply": "2022-11-15T13:22:14.839386Z"
    },
    "papermill": {
     "duration": 0.034598,
     "end_time": "2022-11-15T13:22:14.845633",
     "exception": false,
     "start_time": "2022-11-15T13:22:14.811035",
     "status": "completed"
    },
    "tags": []
   },
   "outputs": [],
   "source": [
    "# Get rid of outlier Parch values\n",
    "training_parch = [s for s in training_data['Parch'].tolist()]\n",
    "testing_pach = [s for s in testing_data['Parch'].tolist()]\n",
    "\n",
    "median_training_sibsp = np.median(training_sibsp)\n",
    "median_testing_sibsp = np.median(testing_sibsp)\n",
    "\n",
    "def training_parch_to_med(p):\n",
    "    if p >= 5:\n",
    "        return median_training_sibsp\n",
    "    return p\n",
    "\n",
    "def testing_parch_to_med(p):\n",
    "    if p >= 5:\n",
    "        return median_testing_sibsp\n",
    "    return p\n",
    "\n",
    "training_data[\"Parch\"] = training_data[\"Parch\"].map(training_parch_to_med)\n",
    "testing_data[\"Parch\"] = testing_data[\"Parch\"].map(testing_parch_to_med)"
   ]
  },
  {
   "cell_type": "code",
   "execution_count": 14,
   "id": "277bed50",
   "metadata": {
    "execution": {
     "iopub.execute_input": "2022-11-15T13:22:14.877844Z",
     "iopub.status.busy": "2022-11-15T13:22:14.877236Z",
     "iopub.status.idle": "2022-11-15T13:22:15.263984Z",
     "shell.execute_reply": "2022-11-15T13:22:15.263016Z"
    },
    "papermill": {
     "duration": 0.40522,
     "end_time": "2022-11-15T13:22:15.265849",
     "exception": false,
     "start_time": "2022-11-15T13:22:14.860629",
     "status": "completed"
    },
    "tags": []
   },
   "outputs": [
    {
     "data": {
      "text/plain": [
       "<AxesSubplot:xlabel='Fare', ylabel='Count'>"
      ]
     },
     "execution_count": 14,
     "metadata": {},
     "output_type": "execute_result"
    },
    {
     "data": {
      "image/png": "[encoded data removed]",
      "text/plain": [
       "<Figure size 432x288 with 1 Axes>"
      ]
     },
     "metadata": {
      "needs_background": "light"
     },
     "output_type": "display_data"
    }
   ],
   "source": [
    "sns.histplot(data = training_data['Fare'], kde = True)"
   ]
  },
  {
   "cell_type": "code",
   "execution_count": 15,
   "id": "9535a351",
   "metadata": {
    "execution": {
     "iopub.execute_input": "2022-11-15T13:22:15.296146Z",
     "iopub.status.busy": "2022-11-15T13:22:15.295744Z",
     "iopub.status.idle": "2022-11-15T13:22:15.305672Z",
     "shell.execute_reply": "2022-11-15T13:22:15.304356Z"
    },
    "papermill": {
     "duration": 0.029027,
     "end_time": "2022-11-15T13:22:15.308630",
     "exception": false,
     "start_time": "2022-11-15T13:22:15.279603",
     "status": "completed"
    },
    "tags": []
   },
   "outputs": [],
   "source": [
    "# Get rid of outlier Parch values\n",
    "training_fare = [s for s in training_data['Fare'].tolist()]\n",
    "testing_fare = [s for s in testing_data['Fare'].tolist()]\n",
    "\n",
    "median_training_fare = np.median(training_sibsp)\n",
    "median_testing_fare = np.median(testing_sibsp)\n",
    "\n",
    "def training_fare_to_med(f):\n",
    "    if math.isnan(f):\n",
    "        f = median_training_fare\n",
    "    if f >= 250:\n",
    "        return median_training_fare\n",
    "    return f\n",
    "\n",
    "def testing_fare_to_med(f):\n",
    "    if math.isnan(f):\n",
    "        f = median_testing_fare\n",
    "    if f >= 250:\n",
    "        return median_testing_fare\n",
    "    return f\n",
    "\n",
    "training_data[\"Parch\"] = training_data[\"Parch\"].map(training_fare_to_med)\n",
    "testing_data[\"Parch\"] = testing_data[\"Parch\"].map(testing_fare_to_med)"
   ]
  },
  {
   "cell_type": "code",
   "execution_count": 16,
   "id": "ee0e982e",
   "metadata": {
    "execution": {
     "iopub.execute_input": "2022-11-15T13:22:15.340691Z",
     "iopub.status.busy": "2022-11-15T13:22:15.339686Z",
     "iopub.status.idle": "2022-11-15T13:22:16.041749Z",
     "shell.execute_reply": "2022-11-15T13:22:16.040751Z"
    },
    "papermill": {
     "duration": 0.719921,
     "end_time": "2022-11-15T13:22:16.043419",
     "exception": false,
     "start_time": "2022-11-15T13:22:15.323498",
     "status": "completed"
    },
    "tags": []
   },
   "outputs": [
    {
     "data": {
      "text/plain": [
       "<AxesSubplot:>"
      ]
     },
     "execution_count": 16,
     "metadata": {},
     "output_type": "execute_result"
    },
    {
     "data": {
      "image/png": "[encoded data removed]",
      "text/plain": [
       "<Figure size 432x288 with 2 Axes>"
      ]
     },
     "metadata": {
      "needs_background": "light"
     },
     "output_type": "display_data"
    }
   ],
   "source": [
    "# Plot correlation heatmap to observe what is correlated to survival with basic training data. \n",
    "sns.heatmap(training_data.corr(), cmap = \"Blues\", annot = True)"
   ]
  },
  {
   "cell_type": "code",
   "execution_count": 17,
   "id": "b578cc34",
   "metadata": {
    "execution": {
     "iopub.execute_input": "2022-11-15T13:22:16.074903Z",
     "iopub.status.busy": "2022-11-15T13:22:16.074274Z",
     "iopub.status.idle": "2022-11-15T13:22:16.287682Z",
     "shell.execute_reply": "2022-11-15T13:22:16.287026Z"
    },
    "papermill": {
     "duration": 0.231834,
     "end_time": "2022-11-15T13:22:16.289583",
     "exception": false,
     "start_time": "2022-11-15T13:22:16.057749",
     "status": "completed"
    },
    "tags": []
   },
   "outputs": [
    {
     "data": {
      "text/plain": [
       "<AxesSubplot:>"
      ]
     },
     "execution_count": 17,
     "metadata": {},
     "output_type": "execute_result"
    },
    {
     "data": {
      "image/png": "[encoded data removed]",
      "text/plain": [
       "<Figure size 432x288 with 2 Axes>"
      ]
     },
     "metadata": {
      "needs_background": "light"
     },
     "output_type": "display_data"
    }
   ],
   "source": [
    "# Plot correlation heatmap to observe what is correlated to survival with basic training data. \n",
    "sns.heatmap(numeric_data.corr(), cmap = \"Blues\", annot = True)"
   ]
  },
  {
   "cell_type": "code",
   "execution_count": 18,
   "id": "4b4b76fc",
   "metadata": {
    "execution": {
     "iopub.execute_input": "2022-11-15T13:22:16.323287Z",
     "iopub.status.busy": "2022-11-15T13:22:16.322695Z",
     "iopub.status.idle": "2022-11-15T13:22:16.342086Z",
     "shell.execute_reply": "2022-11-15T13:22:16.341200Z"
    },
    "papermill": {
     "duration": 0.038634,
     "end_time": "2022-11-15T13:22:16.343871",
     "exception": false,
     "start_time": "2022-11-15T13:22:16.305237",
     "status": "completed"
    },
    "tags": []
   },
   "outputs": [
    {
     "data": {
      "text/html": [
       "<div>\n",
       "<style scoped>\n",
       "    .dataframe tbody tr th:only-of-type {\n",
       "        vertical-align: middle;\n",
       "    }\n",
       "\n",
       "    .dataframe tbody tr th {\n",
       "        vertical-align: top;\n",
       "    }\n",
       "\n",
       "    .dataframe thead th {\n",
       "        text-align: right;\n",
       "    }\n",
       "</style>\n",
       "<table border=\"1\" class=\"dataframe\">\n",
       "  <thead>\n",
       "    <tr style=\"text-align: right;\">\n",
       "      <th></th>\n",
       "      <th>Age</th>\n",
       "      <th>Fare</th>\n",
       "      <th>Parch</th>\n",
       "      <th>SibSp</th>\n",
       "    </tr>\n",
       "    <tr>\n",
       "      <th>Survived</th>\n",
       "      <th></th>\n",
       "      <th></th>\n",
       "      <th></th>\n",
       "      <th></th>\n",
       "    </tr>\n",
       "  </thead>\n",
       "  <tbody>\n",
       "    <tr>\n",
       "      <th>0</th>\n",
       "      <td>30.626179</td>\n",
       "      <td>22.117887</td>\n",
       "      <td>0.282332</td>\n",
       "      <td>0.406193</td>\n",
       "    </tr>\n",
       "    <tr>\n",
       "      <th>1</th>\n",
       "      <td>28.343690</td>\n",
       "      <td>48.395408</td>\n",
       "      <td>0.450292</td>\n",
       "      <td>0.473684</td>\n",
       "    </tr>\n",
       "  </tbody>\n",
       "</table>\n",
       "</div>"
      ],
      "text/plain": [
       "                Age       Fare     Parch     SibSp\n",
       "Survived                                          \n",
       "0         30.626179  22.117887  0.282332  0.406193\n",
       "1         28.343690  48.395408  0.450292  0.473684"
      ]
     },
     "execution_count": 18,
     "metadata": {},
     "output_type": "execute_result"
    }
   ],
   "source": [
    "pd.pivot_table(training_data, index = 'Survived', values = ['Age', 'SibSp', 'Parch', 'Fare'])"
   ]
  },
  {
   "cell_type": "code",
   "execution_count": 19,
   "id": "653cb25e",
   "metadata": {
    "execution": {
     "iopub.execute_input": "2022-11-15T13:22:16.376598Z",
     "iopub.status.busy": "2022-11-15T13:22:16.375982Z",
     "iopub.status.idle": "2022-11-15T13:22:17.073400Z",
     "shell.execute_reply": "2022-11-15T13:22:17.071927Z"
    },
    "papermill": {
     "duration": 0.716044,
     "end_time": "2022-11-15T13:22:17.076105",
     "exception": false,
     "start_time": "2022-11-15T13:22:16.360061",
     "status": "completed"
    },
    "tags": []
   },
   "outputs": [
    {
     "data": {
      "text/plain": [
       "<seaborn.axisgrid.FacetGrid at 0x7fc74039dd10>"
      ]
     },
     "execution_count": 19,
     "metadata": {},
     "output_type": "execute_result"
    },
    {
     "data": {
      "image/png": "[encoded data removed]",
      "text/plain": [
       "<Figure size 418.25x360 with 1 Axes>"
      ]
     },
     "metadata": {
      "needs_background": "light"
     },
     "output_type": "display_data"
    },
    {
     "data": {
      "image/png": "[encoded data removed]",
      "text/plain": [
       "<Figure size 402.375x360 with 1 Axes>"
      ]
     },
     "metadata": {
      "needs_background": "light"
     },
     "output_type": "display_data"
    },
    {
     "data": {
      "image/png": "[encoded data removed]",
      "text/plain": [
       "<Figure size 430.5x360 with 1 Axes>"
      ]
     },
     "metadata": {
      "needs_background": "light"
     },
     "output_type": "display_data"
    }
   ],
   "source": [
    "sns.catplot(data = training_data, kind = \"count\", x = \"Survived\", hue = \"Embarked\")\n",
    "sns.catplot(data = training_data, kind = \"count\", x = \"Survived\", hue = \"Pclass\")\n",
    "sns.catplot(data = training_data, kind = \"count\", x = \"Survived\", hue = \"Sex\")"
   ]
  },
  {
   "cell_type": "code",
   "execution_count": 20,
   "id": "a8cbed9c",
   "metadata": {
    "execution": {
     "iopub.execute_input": "2022-11-15T13:22:17.110887Z",
     "iopub.status.busy": "2022-11-15T13:22:17.110521Z",
     "iopub.status.idle": "2022-11-15T13:22:17.119833Z",
     "shell.execute_reply": "2022-11-15T13:22:17.118802Z"
    },
    "papermill": {
     "duration": 0.02938,
     "end_time": "2022-11-15T13:22:17.121924",
     "exception": false,
     "start_time": "2022-11-15T13:22:17.092544",
     "status": "completed"
    },
    "tags": []
   },
   "outputs": [
    {
     "name": "stdout",
     "output_type": "stream",
     "text": [
      "Cabin          687\n",
      "Age            177\n",
      "Embarked         2\n",
      "PassengerId      0\n",
      "Survived         0\n",
      "Pclass           0\n",
      "Name             0\n",
      "Sex              0\n",
      "SibSp            0\n",
      "Parch            0\n",
      "Ticket           0\n",
      "Fare             0\n",
      "dtype: int64\n"
     ]
    }
   ],
   "source": [
    "total_missing_train = training_data.isnull().sum().sort_values(ascending=False)\n",
    "print(total_missing_train)"
   ]
  },
  {
   "cell_type": "markdown",
   "id": "6f9fee94",
   "metadata": {
    "papermill": {
     "duration": 0.015442,
     "end_time": "2022-11-15T13:22:17.153161",
     "exception": false,
     "start_time": "2022-11-15T13:22:17.137719",
     "status": "completed"
    },
    "tags": []
   },
   "source": [
    "**Feature Engineering:**\n",
    "\n",
    "After identifying some missing features, it is clear that feature development is required. That is all completed below. It is sumarized by the following points:\n",
    "\n",
    "1. All sex data is converted to binary\n",
    "2. Unkown ages are converted to the median age of all known ages aboard the titanic\n",
    "3. Cabin Data is collected and converted to numeric format in the CabinData column\n",
    "4. Ticket data is converted to an integer. If unkown, that integer is set to zero\n",
    "\n",
    "After these changes are made, additional data visualization is added"
   ]
  },
  {
   "cell_type": "code",
   "execution_count": 21,
   "id": "9b85662e",
   "metadata": {
    "execution": {
     "iopub.execute_input": "2022-11-15T13:22:17.187626Z",
     "iopub.status.busy": "2022-11-15T13:22:17.186785Z",
     "iopub.status.idle": "2022-11-15T13:22:17.196831Z",
     "shell.execute_reply": "2022-11-15T13:22:17.195295Z"
    },
    "papermill": {
     "duration": 0.029355,
     "end_time": "2022-11-15T13:22:17.198750",
     "exception": false,
     "start_time": "2022-11-15T13:22:17.169395",
     "status": "completed"
    },
    "tags": []
   },
   "outputs": [
    {
     "name": "stdout",
     "output_type": "stream",
     "text": [
      "0      0\n",
      "1      1\n",
      "2      1\n",
      "3      1\n",
      "4      0\n",
      "      ..\n",
      "886    0\n",
      "887    1\n",
      "888    1\n",
      "889    0\n",
      "890    0\n",
      "Name: Sex, Length: 891, dtype: int64\n"
     ]
    }
   ],
   "source": [
    "# Make sex data binary such that Male = 0, Female = 1\n",
    "\n",
    "def sex_to_binary(value):\n",
    "    if isinstance(value, str):\n",
    "        if value == \"male\":\n",
    "            return 0\n",
    "        else:\n",
    "            return 1\n",
    "    return value\n",
    "\n",
    "training_data[\"Sex\"] = training_data[\"Sex\"].map(sex_to_binary)\n",
    "testing_data[\"Sex\"] = testing_data[\"Sex\"].map(sex_to_binary)\n",
    "print(training_data[\"Sex\"])"
   ]
  },
  {
   "cell_type": "code",
   "execution_count": 22,
   "id": "6ee48b7f",
   "metadata": {
    "execution": {
     "iopub.execute_input": "2022-11-15T13:22:17.236060Z",
     "iopub.status.busy": "2022-11-15T13:22:17.235631Z",
     "iopub.status.idle": "2022-11-15T13:22:17.412511Z",
     "shell.execute_reply": "2022-11-15T13:22:17.411494Z"
    },
    "papermill": {
     "duration": 0.197345,
     "end_time": "2022-11-15T13:22:17.414253",
     "exception": false,
     "start_time": "2022-11-15T13:22:17.216908",
     "status": "completed"
    },
    "tags": []
   },
   "outputs": [
    {
     "data": {
      "text/plain": [
       "<AxesSubplot:xlabel='Sex', ylabel='Count'>"
      ]
     },
     "execution_count": 22,
     "metadata": {},
     "output_type": "execute_result"
    },
    {
     "data": {
      "image/png": "[encoded data removed]",
      "text/plain": [
       "<Figure size 432x288 with 1 Axes>"
      ]
     },
     "metadata": {
      "needs_background": "light"
     },
     "output_type": "display_data"
    }
   ],
   "source": [
    "# Replot this data since it has now been corrected \n",
    "sns.histplot(data = training_data['Sex'], kde = True)"
   ]
  },
  {
   "cell_type": "code",
   "execution_count": 23,
   "id": "bcfe1b7b",
   "metadata": {
    "execution": {
     "iopub.execute_input": "2022-11-15T13:22:17.448547Z",
     "iopub.status.busy": "2022-11-15T13:22:17.447090Z",
     "iopub.status.idle": "2022-11-15T13:22:17.457154Z",
     "shell.execute_reply": "2022-11-15T13:22:17.456130Z"
    },
    "papermill": {
     "duration": 0.02935,
     "end_time": "2022-11-15T13:22:17.459468",
     "exception": false,
     "start_time": "2022-11-15T13:22:17.430118",
     "status": "completed"
    },
    "tags": []
   },
   "outputs": [],
   "source": [
    "# Make all unkown ages to median age\n",
    "training_ages = [a for a in training_data['Age'].tolist() if not math.isnan(a)]\n",
    "testing_ages = [a for a in training_data['Age'].tolist() if not math.isnan(a)]\n",
    "\n",
    "median_training_age = np.median(training_ages)\n",
    "median_testing_age = np.median(testing_ages)\n",
    "\n",
    "def training_age_to_med_age(age):\n",
    "    if math.isnan(age):\n",
    "        return median_training_age\n",
    "    return age\n",
    "\n",
    "def testing_age_to_med_age(age):\n",
    "    if math.isnan(age):\n",
    "        return median_testing_age\n",
    "    return age\n",
    "\n",
    "training_data[\"Age\"] = training_data[\"Age\"].map(training_age_to_med_age)\n",
    "testing_data[\"Age\"] = testing_data[\"Age\"].map(testing_age_to_med_age)"
   ]
  },
  {
   "cell_type": "code",
   "execution_count": 24,
   "id": "5c13e4bf",
   "metadata": {
    "execution": {
     "iopub.execute_input": "2022-11-15T13:22:17.496137Z",
     "iopub.status.busy": "2022-11-15T13:22:17.495399Z",
     "iopub.status.idle": "2022-11-15T13:22:17.739284Z",
     "shell.execute_reply": "2022-11-15T13:22:17.737930Z"
    },
    "papermill": {
     "duration": 0.266372,
     "end_time": "2022-11-15T13:22:17.742245",
     "exception": false,
     "start_time": "2022-11-15T13:22:17.475873",
     "status": "completed"
    },
    "tags": []
   },
   "outputs": [
    {
     "data": {
      "text/plain": [
       "<AxesSubplot:xlabel='Age', ylabel='Count'>"
      ]
     },
     "execution_count": 24,
     "metadata": {},
     "output_type": "execute_result"
    },
    {
     "data": {
      "image/png": "[encoded data removed]",
      "text/plain": [
       "<Figure size 432x288 with 1 Axes>"
      ]
     },
     "metadata": {
      "needs_background": "light"
     },
     "output_type": "display_data"
    }
   ],
   "source": [
    "# Replot this training data since it has now been corrected \n",
    "sns.histplot(data = training_data['Age'], kde = True)"
   ]
  },
  {
   "cell_type": "code",
   "execution_count": 25,
   "id": "3c405e7f",
   "metadata": {
    "execution": {
     "iopub.execute_input": "2022-11-15T13:22:17.776196Z",
     "iopub.status.busy": "2022-11-15T13:22:17.775796Z",
     "iopub.status.idle": "2022-11-15T13:22:18.019634Z",
     "shell.execute_reply": "2022-11-15T13:22:18.018379Z"
    },
    "papermill": {
     "duration": 0.264148,
     "end_time": "2022-11-15T13:22:18.022627",
     "exception": false,
     "start_time": "2022-11-15T13:22:17.758479",
     "status": "completed"
    },
    "tags": []
   },
   "outputs": [
    {
     "data": {
      "text/plain": [
       "<AxesSubplot:xlabel='Age', ylabel='Count'>"
      ]
     },
     "execution_count": 25,
     "metadata": {},
     "output_type": "execute_result"
    },
    {
     "data": {
      "image/png": "[encoded data removed]",
      "text/plain": [
       "<Figure size 432x288 with 1 Axes>"
      ]
     },
     "metadata": {
      "needs_background": "light"
     },
     "output_type": "display_data"
    }
   ],
   "source": [
    "# Replot this testing data since it has now been corrected \n",
    "sns.histplot(data = testing_data['Age'], kde = True)"
   ]
  },
  {
   "cell_type": "code",
   "execution_count": 26,
   "id": "b7d91a1b",
   "metadata": {
    "execution": {
     "iopub.execute_input": "2022-11-15T13:22:18.059147Z",
     "iopub.status.busy": "2022-11-15T13:22:18.058733Z",
     "iopub.status.idle": "2022-11-15T13:22:18.074023Z",
     "shell.execute_reply": "2022-11-15T13:22:18.072519Z"
    },
    "papermill": {
     "duration": 0.036507,
     "end_time": "2022-11-15T13:22:18.076051",
     "exception": false,
     "start_time": "2022-11-15T13:22:18.039544",
     "status": "completed"
    },
    "tags": []
   },
   "outputs": [
    {
     "data": {
      "text/plain": [
       "0    327\n",
       "1     74\n",
       "2     10\n",
       "3      4\n",
       "4      3\n",
       "Name: CabinData, dtype: int64"
      ]
     },
     "execution_count": 26,
     "metadata": {},
     "output_type": "execute_result"
    }
   ],
   "source": [
    "# Simplify cabin data\n",
    "training_data['CabinData'] = training_data.Cabin.apply(lambda x: 0 if pd.isna(x) else len(x.split(' ')))\n",
    "training_data['CabinData'].value_counts()\n",
    "\n",
    "testing_data['CabinData'] = testing_data.Cabin.apply(lambda x: 0 if pd.isna(x) else len(x.split(' ')))\n",
    "testing_data['CabinData'].value_counts()"
   ]
  },
  {
   "cell_type": "code",
   "execution_count": 27,
   "id": "dc20a9c6",
   "metadata": {
    "execution": {
     "iopub.execute_input": "2022-11-15T13:22:18.115757Z",
     "iopub.status.busy": "2022-11-15T13:22:18.114781Z",
     "iopub.status.idle": "2022-11-15T13:22:18.142098Z",
     "shell.execute_reply": "2022-11-15T13:22:18.140106Z"
    },
    "papermill": {
     "duration": 0.050265,
     "end_time": "2022-11-15T13:22:18.145074",
     "exception": false,
     "start_time": "2022-11-15T13:22:18.094809",
     "status": "completed"
    },
    "tags": []
   },
   "outputs": [
    {
     "data": {
      "text/html": [
       "<div>\n",
       "<style scoped>\n",
       "    .dataframe tbody tr th:only-of-type {\n",
       "        vertical-align: middle;\n",
       "    }\n",
       "\n",
       "    .dataframe tbody tr th {\n",
       "        vertical-align: top;\n",
       "    }\n",
       "\n",
       "    .dataframe thead th {\n",
       "        text-align: right;\n",
       "    }\n",
       "</style>\n",
       "<table border=\"1\" class=\"dataframe\">\n",
       "  <thead>\n",
       "    <tr style=\"text-align: right;\">\n",
       "      <th>CabinData</th>\n",
       "      <th>0</th>\n",
       "      <th>1</th>\n",
       "      <th>2</th>\n",
       "      <th>3</th>\n",
       "      <th>4</th>\n",
       "    </tr>\n",
       "    <tr>\n",
       "      <th>Survived</th>\n",
       "      <th></th>\n",
       "      <th></th>\n",
       "      <th></th>\n",
       "      <th></th>\n",
       "      <th></th>\n",
       "    </tr>\n",
       "  </thead>\n",
       "  <tbody>\n",
       "    <tr>\n",
       "      <th>0</th>\n",
       "      <td>481.0</td>\n",
       "      <td>58.0</td>\n",
       "      <td>7.0</td>\n",
       "      <td>3.0</td>\n",
       "      <td>NaN</td>\n",
       "    </tr>\n",
       "    <tr>\n",
       "      <th>1</th>\n",
       "      <td>206.0</td>\n",
       "      <td>122.0</td>\n",
       "      <td>9.0</td>\n",
       "      <td>3.0</td>\n",
       "      <td>2.0</td>\n",
       "    </tr>\n",
       "  </tbody>\n",
       "</table>\n",
       "</div>"
      ],
      "text/plain": [
       "CabinData      0      1    2    3    4\n",
       "Survived                              \n",
       "0          481.0   58.0  7.0  3.0  NaN\n",
       "1          206.0  122.0  9.0  3.0  2.0"
      ]
     },
     "execution_count": 27,
     "metadata": {},
     "output_type": "execute_result"
    }
   ],
   "source": [
    "pd.pivot_table(training_data, index = 'Survived', columns = 'CabinData', values = 'Ticket', aggfunc = 'count')"
   ]
  },
  {
   "cell_type": "code",
   "execution_count": 28,
   "id": "6b09f75b",
   "metadata": {
    "execution": {
     "iopub.execute_input": "2022-11-15T13:22:18.182655Z",
     "iopub.status.busy": "2022-11-15T13:22:18.182254Z",
     "iopub.status.idle": "2022-11-15T13:22:18.212427Z",
     "shell.execute_reply": "2022-11-15T13:22:18.210888Z"
    },
    "papermill": {
     "duration": 0.052664,
     "end_time": "2022-11-15T13:22:18.215749",
     "exception": false,
     "start_time": "2022-11-15T13:22:18.163085",
     "status": "completed"
    },
    "tags": []
   },
   "outputs": [
    {
     "name": "stdout",
     "output_type": "stream",
     "text": [
      "83    644\n",
      "67    168\n",
      "81     77\n",
      "48      2\n",
      "Name: Embarked, dtype: int64\n"
     ]
    },
    {
     "data": {
      "text/html": [
       "<div>\n",
       "<style scoped>\n",
       "    .dataframe tbody tr th:only-of-type {\n",
       "        vertical-align: middle;\n",
       "    }\n",
       "\n",
       "    .dataframe tbody tr th {\n",
       "        vertical-align: top;\n",
       "    }\n",
       "\n",
       "    .dataframe thead th {\n",
       "        text-align: right;\n",
       "    }\n",
       "</style>\n",
       "<table border=\"1\" class=\"dataframe\">\n",
       "  <thead>\n",
       "    <tr style=\"text-align: right;\">\n",
       "      <th>Embarked</th>\n",
       "      <th>48</th>\n",
       "      <th>67</th>\n",
       "      <th>81</th>\n",
       "      <th>83</th>\n",
       "    </tr>\n",
       "    <tr>\n",
       "      <th>Survived</th>\n",
       "      <th></th>\n",
       "      <th></th>\n",
       "      <th></th>\n",
       "      <th></th>\n",
       "    </tr>\n",
       "  </thead>\n",
       "  <tbody>\n",
       "    <tr>\n",
       "      <th>0</th>\n",
       "      <td>NaN</td>\n",
       "      <td>75.0</td>\n",
       "      <td>47.0</td>\n",
       "      <td>427.0</td>\n",
       "    </tr>\n",
       "    <tr>\n",
       "      <th>1</th>\n",
       "      <td>2.0</td>\n",
       "      <td>93.0</td>\n",
       "      <td>30.0</td>\n",
       "      <td>217.0</td>\n",
       "    </tr>\n",
       "  </tbody>\n",
       "</table>\n",
       "</div>"
      ],
      "text/plain": [
       "Embarked   48    67    81     83\n",
       "Survived                        \n",
       "0         NaN  75.0  47.0  427.0\n",
       "1         2.0  93.0  30.0  217.0"
      ]
     },
     "execution_count": 28,
     "metadata": {},
     "output_type": "execute_result"
    }
   ],
   "source": [
    "# Cabin Categories \n",
    "# Convered all Cabin Letter Codes to Rooms to ints \n",
    "\n",
    "def char_to_int(c):\n",
    "    if isinstance(c, int):\n",
    "        return c\n",
    "    if not isinstance(c, str):\n",
    "        if math.isnan(c):\n",
    "            c = '0'\n",
    "    c = str(c)[0]\n",
    "    return ord(c)\n",
    "\n",
    "training_data['Embarked'] = training_data['Embarked'].map(char_to_int)\n",
    "testing_data['Embarked'] = testing_data['Embarked'].map(char_to_int)\n",
    "\n",
    "print(training_data.Embarked.value_counts())\n",
    "pd.pivot_table(training_data, index='Survived', columns='Embarked', values = 'Ticket', aggfunc='count')"
   ]
  },
  {
   "cell_type": "code",
   "execution_count": 29,
   "id": "329ce0f1",
   "metadata": {
    "execution": {
     "iopub.execute_input": "2022-11-15T13:22:18.254438Z",
     "iopub.status.busy": "2022-11-15T13:22:18.254020Z",
     "iopub.status.idle": "2022-11-15T13:22:18.287871Z",
     "shell.execute_reply": "2022-11-15T13:22:18.285824Z"
    },
    "papermill": {
     "duration": 0.057385,
     "end_time": "2022-11-15T13:22:18.291040",
     "exception": false,
     "start_time": "2022-11-15T13:22:18.233655",
     "status": "completed"
    },
    "tags": []
   },
   "outputs": [
    {
     "name": "stdout",
     "output_type": "stream",
     "text": [
      "110    687\n",
      "67      59\n",
      "66      47\n",
      "68      33\n",
      "69      32\n",
      "65      15\n",
      "70      13\n",
      "71       4\n",
      "84       1\n",
      "Name: CabinLetter, dtype: int64\n"
     ]
    },
    {
     "data": {
      "text/html": [
       "<div>\n",
       "<style scoped>\n",
       "    .dataframe tbody tr th:only-of-type {\n",
       "        vertical-align: middle;\n",
       "    }\n",
       "\n",
       "    .dataframe tbody tr th {\n",
       "        vertical-align: top;\n",
       "    }\n",
       "\n",
       "    .dataframe thead th {\n",
       "        text-align: right;\n",
       "    }\n",
       "</style>\n",
       "<table border=\"1\" class=\"dataframe\">\n",
       "  <thead>\n",
       "    <tr style=\"text-align: right;\">\n",
       "      <th>CabinLetter</th>\n",
       "      <th>65</th>\n",
       "      <th>66</th>\n",
       "      <th>67</th>\n",
       "      <th>68</th>\n",
       "      <th>69</th>\n",
       "      <th>70</th>\n",
       "      <th>71</th>\n",
       "      <th>84</th>\n",
       "      <th>110</th>\n",
       "    </tr>\n",
       "    <tr>\n",
       "      <th>Survived</th>\n",
       "      <th></th>\n",
       "      <th></th>\n",
       "      <th></th>\n",
       "      <th></th>\n",
       "      <th></th>\n",
       "      <th></th>\n",
       "      <th></th>\n",
       "      <th></th>\n",
       "      <th></th>\n",
       "    </tr>\n",
       "  </thead>\n",
       "  <tbody>\n",
       "    <tr>\n",
       "      <th>0</th>\n",
       "      <td>8.0</td>\n",
       "      <td>12.0</td>\n",
       "      <td>24.0</td>\n",
       "      <td>8.0</td>\n",
       "      <td>8.0</td>\n",
       "      <td>5.0</td>\n",
       "      <td>2.0</td>\n",
       "      <td>1.0</td>\n",
       "      <td>481.0</td>\n",
       "    </tr>\n",
       "    <tr>\n",
       "      <th>1</th>\n",
       "      <td>7.0</td>\n",
       "      <td>35.0</td>\n",
       "      <td>35.0</td>\n",
       "      <td>25.0</td>\n",
       "      <td>24.0</td>\n",
       "      <td>8.0</td>\n",
       "      <td>2.0</td>\n",
       "      <td>NaN</td>\n",
       "      <td>206.0</td>\n",
       "    </tr>\n",
       "  </tbody>\n",
       "</table>\n",
       "</div>"
      ],
      "text/plain": [
       "CabinLetter  65    66    67    68    69   70   71   84     110\n",
       "Survived                                                      \n",
       "0            8.0  12.0  24.0   8.0   8.0  5.0  2.0  1.0  481.0\n",
       "1            7.0  35.0  35.0  25.0  24.0  8.0  2.0  NaN  206.0"
      ]
     },
     "execution_count": 29,
     "metadata": {},
     "output_type": "execute_result"
    }
   ],
   "source": [
    "# Cabin Categories \n",
    "# Convered all Cabin Letter Codes to Rooms to ints \n",
    "def char_to_int(c):\n",
    "    if not isinstance(c, str):\n",
    "        if math.isnan(c):\n",
    "            c = '0'\n",
    "    return ord(c)\n",
    "\n",
    "training_data['CabinLetter'] = training_data.Cabin.apply(lambda x: str(x)[0])\n",
    "training_data['CabinLetter'] = training_data['CabinLetter'].map(char_to_int)\n",
    "\n",
    "testing_data['CabinLetter'] = testing_data.Cabin.apply(lambda x: str(x)[0])\n",
    "testing_data['CabinLetter'] = testing_data['CabinLetter'].map(char_to_int)\n",
    "\n",
    "print(training_data.CabinLetter.value_counts())\n",
    "pd.pivot_table(training_data, index='Survived', columns='CabinLetter', values = 'Ticket', aggfunc='count')"
   ]
  },
  {
   "cell_type": "code",
   "execution_count": 30,
   "id": "39606469",
   "metadata": {
    "execution": {
     "iopub.execute_input": "2022-11-15T13:22:18.334371Z",
     "iopub.status.busy": "2022-11-15T13:22:18.334006Z",
     "iopub.status.idle": "2022-11-15T13:22:18.417454Z",
     "shell.execute_reply": "2022-11-15T13:22:18.415661Z"
    },
    "papermill": {
     "duration": 0.107562,
     "end_time": "2022-11-15T13:22:18.420266",
     "exception": false,
     "start_time": "2022-11-15T13:22:18.312704",
     "status": "completed"
    },
    "tags": []
   },
   "outputs": [
    {
     "name": "stdout",
     "output_type": "stream",
     "text": [
      "0        21171\n",
      "1        17599\n",
      "2      3101282\n",
      "3       113803\n",
      "4       373450\n",
      "        ...   \n",
      "886     211536\n",
      "887     112053\n",
      "888       6607\n",
      "889     111369\n",
      "890     370376\n",
      "Name: Ticket, Length: 891, dtype: int64\n"
     ]
    },
    {
     "data": {
      "text/html": [
       "<div>\n",
       "<style scoped>\n",
       "    .dataframe tbody tr th:only-of-type {\n",
       "        vertical-align: middle;\n",
       "    }\n",
       "\n",
       "    .dataframe tbody tr th {\n",
       "        vertical-align: top;\n",
       "    }\n",
       "\n",
       "    .dataframe thead tr th {\n",
       "        text-align: left;\n",
       "    }\n",
       "\n",
       "    .dataframe thead tr:last-of-type th {\n",
       "        text-align: right;\n",
       "    }\n",
       "</style>\n",
       "<table border=\"1\" class=\"dataframe\">\n",
       "  <thead>\n",
       "    <tr>\n",
       "      <th></th>\n",
       "      <th colspan=\"10\" halign=\"left\">Age</th>\n",
       "      <th>...</th>\n",
       "      <th colspan=\"10\" halign=\"left\">SibSp</th>\n",
       "    </tr>\n",
       "    <tr>\n",
       "      <th>Ticket</th>\n",
       "      <th>0</th>\n",
       "      <th>3</th>\n",
       "      <th>541</th>\n",
       "      <th>693</th>\n",
       "      <th>695</th>\n",
       "      <th>751</th>\n",
       "      <th>752</th>\n",
       "      <th>851</th>\n",
       "      <th>1166</th>\n",
       "      <th>1585</th>\n",
       "      <th>...</th>\n",
       "      <th>3101296</th>\n",
       "      <th>3101298</th>\n",
       "      <th>3101305</th>\n",
       "      <th>3101306</th>\n",
       "      <th>3101307</th>\n",
       "      <th>3101310</th>\n",
       "      <th>3101311</th>\n",
       "      <th>3101312</th>\n",
       "      <th>3101316</th>\n",
       "      <th>3101317</th>\n",
       "    </tr>\n",
       "    <tr>\n",
       "      <th>Survived</th>\n",
       "      <th></th>\n",
       "      <th></th>\n",
       "      <th></th>\n",
       "      <th></th>\n",
       "      <th></th>\n",
       "      <th></th>\n",
       "      <th></th>\n",
       "      <th></th>\n",
       "      <th></th>\n",
       "      <th></th>\n",
       "      <th></th>\n",
       "      <th></th>\n",
       "      <th></th>\n",
       "      <th></th>\n",
       "      <th></th>\n",
       "      <th></th>\n",
       "      <th></th>\n",
       "      <th></th>\n",
       "      <th></th>\n",
       "      <th></th>\n",
       "      <th></th>\n",
       "    </tr>\n",
       "  </thead>\n",
       "  <tbody>\n",
       "    <tr>\n",
       "      <th>0</th>\n",
       "      <td>3.0</td>\n",
       "      <td>2.0</td>\n",
       "      <td>NaN</td>\n",
       "      <td>1.0</td>\n",
       "      <td>1.0</td>\n",
       "      <td>1.0</td>\n",
       "      <td>NaN</td>\n",
       "      <td>1.0</td>\n",
       "      <td>1.0</td>\n",
       "      <td>1.0</td>\n",
       "      <td>...</td>\n",
       "      <td>1.0</td>\n",
       "      <td>NaN</td>\n",
       "      <td>1.0</td>\n",
       "      <td>1.0</td>\n",
       "      <td>1.0</td>\n",
       "      <td>1.0</td>\n",
       "      <td>1.0</td>\n",
       "      <td>1.0</td>\n",
       "      <td>1.0</td>\n",
       "      <td>1.0</td>\n",
       "    </tr>\n",
       "    <tr>\n",
       "      <th>1</th>\n",
       "      <td>1.0</td>\n",
       "      <td>NaN</td>\n",
       "      <td>1.0</td>\n",
       "      <td>NaN</td>\n",
       "      <td>NaN</td>\n",
       "      <td>1.0</td>\n",
       "      <td>1.0</td>\n",
       "      <td>NaN</td>\n",
       "      <td>NaN</td>\n",
       "      <td>NaN</td>\n",
       "      <td>...</td>\n",
       "      <td>NaN</td>\n",
       "      <td>1.0</td>\n",
       "      <td>NaN</td>\n",
       "      <td>NaN</td>\n",
       "      <td>NaN</td>\n",
       "      <td>NaN</td>\n",
       "      <td>NaN</td>\n",
       "      <td>NaN</td>\n",
       "      <td>NaN</td>\n",
       "      <td>NaN</td>\n",
       "    </tr>\n",
       "  </tbody>\n",
       "</table>\n",
       "<p>2 rows × 8148 columns</p>\n",
       "</div>"
      ],
      "text/plain": [
       "             Age                                                          \\\n",
       "Ticket   0       3       541     693     695     751     752     851       \n",
       "Survived                                                                   \n",
       "0            3.0     2.0     NaN     1.0     1.0     1.0     NaN     1.0   \n",
       "1            1.0     NaN     1.0     NaN     NaN     1.0     1.0     NaN   \n",
       "\n",
       "                          ...   SibSp                                          \\\n",
       "Ticket   1166    1585     ... 3101296 3101298 3101305 3101306 3101307 3101310   \n",
       "Survived                  ...                                                   \n",
       "0            1.0     1.0  ...     1.0     NaN     1.0     1.0     1.0     1.0   \n",
       "1            NaN     NaN  ...     NaN     1.0     NaN     NaN     NaN     NaN   \n",
       "\n",
       "                                          \n",
       "Ticket   3101311 3101312 3101316 3101317  \n",
       "Survived                                  \n",
       "0            1.0     1.0     1.0     1.0  \n",
       "1            NaN     NaN     NaN     NaN  \n",
       "\n",
       "[2 rows x 8148 columns]"
      ]
     },
     "execution_count": 30,
     "metadata": {},
     "output_type": "execute_result"
    }
   ],
   "source": [
    "# Set all ticket numbers to integers\n",
    "def ticket_to_num(ticket):\n",
    "    if isinstance(ticket, int):\n",
    "        return ticket\n",
    "    if isinstance(ticket, str):\n",
    "        try:\n",
    "            if len(ticket.split(\" \")) > 1:\n",
    "                return int(ticket.split(\" \")[-1])\n",
    "            else:\n",
    "                return int(ticket)\n",
    "        except:\n",
    "            return 0\n",
    "    return 0\n",
    "            \n",
    "training_data['Ticket'] = training_data['Ticket'].map(ticket_to_num)\n",
    "testing_data['Ticket'] = testing_data['Ticket'].map(ticket_to_num)\n",
    "print(training_data['Ticket'])\n",
    "pd.pivot_table(training_data, index='Survived', columns='Ticket', aggfunc='count')"
   ]
  },
  {
   "cell_type": "code",
   "execution_count": 31,
   "id": "9daf128c",
   "metadata": {
    "execution": {
     "iopub.execute_input": "2022-11-15T13:22:18.461725Z",
     "iopub.status.busy": "2022-11-15T13:22:18.461311Z",
     "iopub.status.idle": "2022-11-15T13:22:18.807503Z",
     "shell.execute_reply": "2022-11-15T13:22:18.805092Z"
    },
    "papermill": {
     "duration": 0.371231,
     "end_time": "2022-11-15T13:22:18.810911",
     "exception": false,
     "start_time": "2022-11-15T13:22:18.439680",
     "status": "completed"
    },
    "tags": []
   },
   "outputs": [
    {
     "data": {
      "text/plain": [
       "<AxesSubplot:>"
      ]
     },
     "execution_count": 31,
     "metadata": {},
     "output_type": "execute_result"
    },
    {
     "data": {
      "image/png": "[encoded data removed]",
      "text/plain": [
       "<Figure size 432x288 with 2 Axes>"
      ]
     },
     "metadata": {
      "needs_background": "light"
     },
     "output_type": "display_data"
    }
   ],
   "source": [
    "# Plot correlation heatmap to observe what is correlated to survival with basic training data. \n",
    "sns.heatmap(training_data.corr(), cmap = \"Blues\", linewidths=0.5)"
   ]
  },
  {
   "cell_type": "code",
   "execution_count": 32,
   "id": "cac815e5",
   "metadata": {
    "execution": {
     "iopub.execute_input": "2022-11-15T13:22:18.855826Z",
     "iopub.status.busy": "2022-11-15T13:22:18.854807Z",
     "iopub.status.idle": "2022-11-15T13:22:18.865666Z",
     "shell.execute_reply": "2022-11-15T13:22:18.862319Z"
    },
    "papermill": {
     "duration": 0.036558,
     "end_time": "2022-11-15T13:22:18.868881",
     "exception": false,
     "start_time": "2022-11-15T13:22:18.832323",
     "status": "completed"
    },
    "tags": []
   },
   "outputs": [
    {
     "name": "stdout",
     "output_type": "stream",
     "text": [
      "0      3\n",
      "1      3\n",
      "2      2\n",
      "3      3\n",
      "4      3\n",
      "      ..\n",
      "413    3\n",
      "414    1\n",
      "415    3\n",
      "416    3\n",
      "417    3\n",
      "Name: Pclass, Length: 418, dtype: int64\n"
     ]
    }
   ],
   "source": [
    "features = ['Pclass', 'Sex', 'Age', 'SibSp', 'Parch', 'Fare', \n",
    "            'CabinLetter', 'Embarked', 'CabinData', 'Ticket']\n",
    "print(testing_data['Pclass'])"
   ]
  },
  {
   "cell_type": "code",
   "execution_count": 33,
   "id": "560ea049",
   "metadata": {
    "execution": {
     "iopub.execute_input": "2022-11-15T13:22:18.915770Z",
     "iopub.status.busy": "2022-11-15T13:22:18.914816Z",
     "iopub.status.idle": "2022-11-15T13:22:18.929141Z",
     "shell.execute_reply": "2022-11-15T13:22:18.927649Z"
    },
    "papermill": {
     "duration": 0.039999,
     "end_time": "2022-11-15T13:22:18.931986",
     "exception": false,
     "start_time": "2022-11-15T13:22:18.891987",
     "status": "completed"
    },
    "tags": []
   },
   "outputs": [
    {
     "name": "stdout",
     "output_type": "stream",
     "text": [
      "X_train shape: (891, 8)\n",
      "Y_train shape: (891,)\n",
      "X_test shape: (418, 8)\n"
     ]
    }
   ],
   "source": [
    "features = ['Sex', 'Age', 'SibSp', 'Parch', \n",
    "            'CabinLetter', 'Embarked', 'CabinData', 'Ticket']\n",
    "\n",
    "X = training_data[features]\n",
    "Y = training_data['Survived']\n",
    "X_train = StandardScaler().fit_transform(X)\n",
    "y_train = training_data['Survived'].values\n",
    "X_test = testing_data[features]\n",
    "\n",
    "print('X_train shape: {}'.format(X_train.shape))\n",
    "print('Y_train shape: {}'.format(y_train.shape))\n",
    "print('X_test shape: {}'.format(X_test.shape))"
   ]
  },
  {
   "cell_type": "code",
   "execution_count": 34,
   "id": "a41902be",
   "metadata": {
    "execution": {
     "iopub.execute_input": "2022-11-15T13:22:18.971629Z",
     "iopub.status.busy": "2022-11-15T13:22:18.971262Z",
     "iopub.status.idle": "2022-11-15T13:22:18.976208Z",
     "shell.execute_reply": "2022-11-15T13:22:18.974396Z"
    },
    "papermill": {
     "duration": 0.028184,
     "end_time": "2022-11-15T13:22:18.979480",
     "exception": false,
     "start_time": "2022-11-15T13:22:18.951296",
     "status": "completed"
    },
    "tags": []
   },
   "outputs": [],
   "source": [
    "# #X_test.isnull().sum().sum()\n",
    "# X_test['Fare'].isnull().values.any()\n"
   ]
  },
  {
   "cell_type": "markdown",
   "id": "816e81b1",
   "metadata": {
    "papermill": {
     "duration": 0.018719,
     "end_time": "2022-11-15T13:22:19.017571",
     "exception": false,
     "start_time": "2022-11-15T13:22:18.998852",
     "status": "completed"
    },
    "tags": []
   },
   "source": [
    "**Testing Various Models:**\n",
    "1. Random Forrest Classifier \n",
    "2. Gradient Boost Model\n",
    "3. Perceptron"
   ]
  },
  {
   "cell_type": "code",
   "execution_count": 35,
   "id": "1d1bd7e7",
   "metadata": {
    "execution": {
     "iopub.execute_input": "2022-11-15T13:22:19.062750Z",
     "iopub.status.busy": "2022-11-15T13:22:19.062368Z",
     "iopub.status.idle": "2022-11-15T13:22:24.102158Z",
     "shell.execute_reply": "2022-11-15T13:22:24.100154Z"
    },
    "papermill": {
     "duration": 5.066545,
     "end_time": "2022-11-15T13:22:24.105263",
     "exception": false,
     "start_time": "2022-11-15T13:22:19.038718",
     "status": "completed"
    },
    "tags": []
   },
   "outputs": [
    {
     "name": "stdout",
     "output_type": "stream",
     "text": [
      "Max Prediction: 0.9977553310886644 with 100 predictors\n",
      "Min Prediction: 0.9966329966329966 with 50 predictors\n",
      "Median Prediction: 0.9977553310886644 with 100 predictors\n",
      "Mean Prediction: 0.9976306272602569\n",
      "Standard Deviation of Predictions is: 0.00037411148522259463\n"
     ]
    }
   ],
   "source": [
    "# Random Forest \n",
    "\n",
    "rf_predictions = []\n",
    "rf_n_estimators = []\n",
    "rf_prediction_to_estimators = {}\n",
    "starting_index = 50\n",
    "step = 50\n",
    "for i in range(starting_index,500, step):\n",
    "    random_forest_model = RandomForestClassifier(n_estimators=i)\n",
    "    random_forest_model.fit(X_train, y_train)\n",
    "    rf_prediction = random_forest_model.predict(X_test)\n",
    "    rf_predictions.append(random_forest_model.score(X_train, y_train))\n",
    "    rf_prediction_to_estimators[i] = rf_prediction\n",
    "    rf_n_estimators.append(i)\n",
    "\n",
    "rf_best_estimators = rf_n_estimators[rf_predictions.index(max(rf_predictions))]\n",
    "best_i = rf_predictions.index(max(rf_predictions))*step + starting_index\n",
    "rf_prediction = rf_prediction_to_estimators[best_i]\n",
    "print(\"Max Prediction: \" + str(max(rf_predictions)) + \" with \" \n",
    "      + str(rf_n_estimators[rf_predictions.index(max(rf_predictions))]) + \" predictors\")\n",
    "print(\"Min Prediction: \" + str(min(rf_predictions)) + \" with \" \n",
    "      + str(rf_n_estimators[rf_predictions.index(min(rf_predictions))]) + \" predictors\") \n",
    "print(\"Median Prediction: \" + str(statistics.median(rf_predictions)) + \" with \" \n",
    "      + str(rf_n_estimators[rf_predictions.index(statistics.median(rf_predictions))]) + \" predictors\") \n",
    "print(\"Mean Prediction: \" + str(statistics.mean(rf_predictions))) \n",
    "print(\"Standard Deviation of Predictions is: \" + str(statistics.stdev(rf_predictions)))"
   ]
  },
  {
   "cell_type": "code",
   "execution_count": 36,
   "id": "db8c05a0",
   "metadata": {
    "execution": {
     "iopub.execute_input": "2022-11-15T13:22:24.149710Z",
     "iopub.status.busy": "2022-11-15T13:22:24.149267Z",
     "iopub.status.idle": "2022-11-15T13:22:26.825823Z",
     "shell.execute_reply": "2022-11-15T13:22:26.824849Z"
    },
    "papermill": {
     "duration": 2.703914,
     "end_time": "2022-11-15T13:22:26.829490",
     "exception": false,
     "start_time": "2022-11-15T13:22:24.125576",
     "status": "completed"
    },
    "tags": []
   },
   "outputs": [
    {
     "name": "stdout",
     "output_type": "stream",
     "text": [
      "Max Prediction: 0.9831649831649831 with 450 predictors\n",
      "Min Prediction: 0.8698092031425365 with 50 predictors\n",
      "Median Prediction: 0.9494949494949495\n",
      "Mean Prediction: 0.9407656815064223\n",
      "Standard Deviation of Predictions is: 0.0378601932069785\n"
     ]
    }
   ],
   "source": [
    "# Gradient Boost Model\n",
    "gb_predictions = []\n",
    "gb_n_estimators = []\n",
    "gb_prediction_to_estimators = {}\n",
    "starting_index = 50\n",
    "for i in range(starting_index,500, 50):\n",
    "    gradient_boost_model = GradientBoostingClassifier(n_estimators = i)\n",
    "    gradient_boost_model.fit(X_train, y_train)\n",
    "    gb_prediction = gradient_boost_model.predict(X_test)\n",
    "    gb_predictions.append(gradient_boost_model.score(X_train, y_train))\n",
    "    gb_prediction_to_estimators[i] = gb_prediction\n",
    "    gb_n_estimators.append(i)\n",
    "\n",
    "best_i = gb_predictions.index(max(gb_predictions))*step + starting_index\n",
    "gb_prediction = gb_prediction_to_estimators[best_i]  \n",
    "print(\"Max Prediction: \" + str(max(gb_predictions)) + \" with \" \n",
    "      + str(gb_n_estimators[gb_predictions.index(max(gb_predictions))]) + \" predictors\")\n",
    "print(\"Min Prediction: \" + str(min(gb_predictions)) + \" with \" \n",
    "      + str(gb_n_estimators[gb_predictions.index(min(gb_predictions))]) + \" predictors\") \n",
    "print(\"Median Prediction: \" + str(statistics.median(gb_predictions))) \n",
    "print(\"Mean Prediction: \" + str(statistics.mean(gb_predictions))) \n",
    "print(\"Standard Deviation of Predictions is: \" + str(statistics.stdev(gb_predictions)))"
   ]
  },
  {
   "cell_type": "code",
   "execution_count": 37,
   "id": "7a9088d1",
   "metadata": {
    "execution": {
     "iopub.execute_input": "2022-11-15T13:22:26.873023Z",
     "iopub.status.busy": "2022-11-15T13:22:26.872633Z",
     "iopub.status.idle": "2022-11-15T13:22:26.913072Z",
     "shell.execute_reply": "2022-11-15T13:22:26.911925Z"
    },
    "papermill": {
     "duration": 0.06491,
     "end_time": "2022-11-15T13:22:26.914991",
     "exception": false,
     "start_time": "2022-11-15T13:22:26.850081",
     "status": "completed"
    },
    "tags": []
   },
   "outputs": [
    {
     "name": "stdout",
     "output_type": "stream",
     "text": [
      "Max Prediction: 0.7295173961840629 with 50 predictors\n",
      "Min Prediction: 0.7295173961840629 with 50 predictors\n",
      "Median Prediction: 0.7295173961840629\n",
      "Mean Prediction: 0.7295173961840629\n",
      "Standard Deviation of Predictions is: 0.0\n"
     ]
    }
   ],
   "source": [
    "# Perceptron\n",
    "p_predictions = []\n",
    "p_n_estimators = []\n",
    "p_prediction_to_estimators = {}\n",
    "starting_index = 50\n",
    "step = 50\n",
    "for i in range(starting_index,500, step):\n",
    "    perceptron_model = Perceptron(max_iter=i)\n",
    "    perceptron_model.fit(X_train, y_train)\n",
    "    p_prediction = perceptron_model.predict(X_test)\n",
    "    p_predictions.append(perceptron_model.score(X_train, y_train))\n",
    "    p_prediction_to_estimators[i] = p_prediction\n",
    "    p_n_estimators.append(i)\n",
    "\n",
    "best_i = p_predictions.index(max(p_predictions))*step + starting_index\n",
    "p_prediction = p_prediction_to_estimators[best_i]\n",
    "print(\"Max Prediction: \" + str(max(p_predictions)) + \" with \" \n",
    "      + str(p_n_estimators[p_predictions.index(max(p_predictions))]) + \" predictors\")\n",
    "print(\"Min Prediction: \" + str(min(p_predictions)) + \" with \" \n",
    "      + str(p_n_estimators[p_predictions.index(min(p_predictions))]) + \" predictors\") \n",
    "print(\"Median Prediction: \" + str(statistics.median(p_predictions))) \n",
    "print(\"Mean Prediction: \" + str(statistics.mean(p_predictions))) \n",
    "print(\"Standard Deviation of Predictions is: \" + str(statistics.stdev(p_predictions)))"
   ]
  },
  {
   "cell_type": "code",
   "execution_count": 38,
   "id": "cc085eac",
   "metadata": {
    "execution": {
     "iopub.execute_input": "2022-11-15T13:22:26.957498Z",
     "iopub.status.busy": "2022-11-15T13:22:26.957121Z",
     "iopub.status.idle": "2022-11-15T13:22:26.962889Z",
     "shell.execute_reply": "2022-11-15T13:22:26.961504Z"
    },
    "papermill": {
     "duration": 0.029139,
     "end_time": "2022-11-15T13:22:26.965158",
     "exception": false,
     "start_time": "2022-11-15T13:22:26.936019",
     "status": "completed"
    },
    "tags": []
   },
   "outputs": [],
   "source": [
    "# print(\"Perceptron F1 Scores: \")\n",
    "# print(f1_score(y_train, p_prediction))\n",
    "# print(\"Gradient Boost F1 Scores: \")\n",
    "# print(f1_score(y_train, gb_prediction))\n",
    "# print(\"Random Forest F1 Scores: \")\n",
    "# print(f1_score(y_train, rf_prediction))\n",
    "# print(\"Perceptron AUC Scores: \")\n",
    "# fpr, tpr, thresholds = metrics.roc_curve(y_train, p_prediction)\n",
    "# print(metrics.auc(fpr, tpr))\n",
    "# print(\"Gradient Boost AUC Scores: \")\n",
    "# fpr, tpr, thresholds = metrics.roc_curve(y_train, gb_prediction)\n",
    "# print(metrics.auc(fpr, tpr))\n",
    "# print(\"Random Forest AUC Scores: \")\n",
    "# fpr, tpr, thresholds = metrics.roc_curve(y_train, rf_prediction)\n",
    "# print(metrics.auc(fpr, tpr))"
   ]
  },
  {
   "cell_type": "markdown",
   "id": "ef5c667e",
   "metadata": {
    "papermill": {
     "duration": 0.020898,
     "end_time": "2022-11-15T13:22:27.006394",
     "exception": false,
     "start_time": "2022-11-15T13:22:26.985496",
     "status": "completed"
    },
    "tags": []
   },
   "source": [
    "Cross Validation for each model used is included below:"
   ]
  },
  {
   "cell_type": "code",
   "execution_count": 39,
   "id": "fd86176c",
   "metadata": {
    "execution": {
     "iopub.execute_input": "2022-11-15T13:22:27.049809Z",
     "iopub.status.busy": "2022-11-15T13:22:27.049421Z",
     "iopub.status.idle": "2022-11-15T13:22:30.005523Z",
     "shell.execute_reply": "2022-11-15T13:22:30.004067Z"
    },
    "papermill": {
     "duration": 2.980243,
     "end_time": "2022-11-15T13:22:30.007741",
     "exception": false,
     "start_time": "2022-11-15T13:22:27.027498",
     "status": "completed"
    },
    "tags": []
   },
   "outputs": [
    {
     "name": "stdout",
     "output_type": "stream",
     "text": [
      "==============================\n",
      "Perceptron Cross Validation\n",
      "Scores: [0.67777778 0.68539326 0.68539326 0.70786517 0.65168539 0.57303371\n",
      " 0.70786517 0.74157303 0.75280899 0.73033708]\n",
      "Mean: 0.6913732833957552\n",
      "Standard Deviation: 0.049185613392531954\n",
      "==============================\n",
      "Random Forest Cross Validation\n",
      "Scores: [0.8        0.7752809  0.74157303 0.85393258 0.82022472 0.83146067\n",
      " 0.80898876 0.82022472 0.84269663 0.80898876]\n",
      "Mean: 0.8103370786516854\n",
      "Standard Deviation: 0.031076303663932617\n",
      "==============================\n",
      "Gradient Boost Cross Validation\n",
      "Scores: [0.83333333 0.83146067 0.75280899 0.86516854 0.82022472 0.84269663\n",
      " 0.82022472 0.76404494 0.88764045 0.87640449]\n",
      "Mean: 0.8294007490636706\n",
      "Standard Deviation: 0.04169306490275771\n",
      "Cross Validation Means: \n",
      "{'p_mean': 0.6913732833957552, 'rf_mean': 0.8103370786516854, 'gb_mean': 0.8294007490636706}\n"
     ]
    }
   ],
   "source": [
    "# Cross Validation method is used to further evaluate the scores of the models \n",
    "perceptron_model = Perceptron()\n",
    "perceptron_scores = cross_val_score(perceptron_model, X_train, y_train, cv=10, scoring = \"accuracy\")\n",
    "random_forest_model = RandomForestClassifier()\n",
    "random_forest_scores = cross_val_score(random_forest_model, X_train, y_train, cv=10, scoring = \"accuracy\")\n",
    "gradient_boost_model = GradientBoostingClassifier()\n",
    "gradient_boost_scores = cross_val_score(gradient_boost_model, X_train, y_train, cv=10, scoring = \"accuracy\")\n",
    "cross_validation_means = {}\n",
    "print(\"==============================\")\n",
    "print(\"Perceptron Cross Validation\")\n",
    "print(\"Scores:\", perceptron_scores)\n",
    "cross_validation_means[\"p_mean\"] = perceptron_scores.mean()\n",
    "print(\"Mean:\", perceptron_scores.mean())\n",
    "print(\"Standard Deviation:\", perceptron_scores.std())\n",
    "print(\"==============================\")\n",
    "print(\"Random Forest Cross Validation\")\n",
    "print(\"Scores:\", random_forest_scores)\n",
    "cross_validation_means[\"rf_mean\"] = random_forest_scores.mean()\n",
    "print(\"Mean:\", random_forest_scores.mean())\n",
    "print(\"Standard Deviation:\", random_forest_scores.std())\n",
    "print(\"==============================\")\n",
    "print(\"Gradient Boost Cross Validation\")\n",
    "print(\"Scores:\", gradient_boost_scores)\n",
    "cross_validation_means[\"gb_mean\"] = gradient_boost_scores.mean()\n",
    "print(\"Mean:\", gradient_boost_scores.mean())\n",
    "print(\"Standard Deviation:\", gradient_boost_scores.std())\n",
    "print(\"Cross Validation Means: \")\n",
    "print(cross_validation_means)"
   ]
  },
  {
   "cell_type": "markdown",
   "id": "1a71c4f0",
   "metadata": {
    "papermill": {
     "duration": 0.019884,
     "end_time": "2022-11-15T13:22:30.047775",
     "exception": false,
     "start_time": "2022-11-15T13:22:30.027891",
     "status": "completed"
    },
    "tags": []
   },
   "source": [
    "**Submission:**\n",
    "Preparing the submission csv with the best performing predictor "
   ]
  },
  {
   "cell_type": "code",
   "execution_count": 40,
   "id": "a0e5d574",
   "metadata": {
    "execution": {
     "iopub.execute_input": "2022-11-15T13:22:30.092020Z",
     "iopub.status.busy": "2022-11-15T13:22:30.091617Z",
     "iopub.status.idle": "2022-11-15T13:22:30.104876Z",
     "shell.execute_reply": "2022-11-15T13:22:30.103603Z"
    },
    "papermill": {
     "duration": 0.039747,
     "end_time": "2022-11-15T13:22:30.107679",
     "exception": false,
     "start_time": "2022-11-15T13:22:30.067932",
     "status": "completed"
    },
    "tags": []
   },
   "outputs": [
    {
     "name": "stdout",
     "output_type": "stream",
     "text": [
      "Gradient Boost is the best prediction\n"
     ]
    }
   ],
   "source": [
    "# Randfom Forest has the best score. In the event that anything changes, \n",
    "# this code selects the best prediction based on the mean cross validation score\n",
    "max_mean_cross_validation_score = max(cross_validation_means, key = cross_validation_means.get)\n",
    "predictions = {\"rf\": rf_prediction, \"gb\": gb_prediction, \"p\": p_prediction}\n",
    "prediction_names = {\"rf\": \"Random Forest\", \"gb\": \"Gradient Boost\", \"p\": \"Perceptron\"}\n",
    "best_prediction_prefix = max_mean_cross_validation_score.split(\"_\")[0]\n",
    "best_prediction = predictions[best_prediction_prefix]\n",
    "print(prediction_names[best_prediction_prefix] + \" is the best prediction\")\n",
    "submission = pd.DataFrame({\n",
    "        \"PassengerId\": testing_data[\"PassengerId\"],\n",
    "        \"Survived\": best_prediction\n",
    "    })\n",
    "\n",
    "submission.to_csv('submission.csv', index=False)"
   ]
  },
  {
   "cell_type": "code",
   "execution_count": 41,
   "id": "ec6e62c6",
   "metadata": {
    "execution": {
     "iopub.execute_input": "2022-11-15T13:22:30.156712Z",
     "iopub.status.busy": "2022-11-15T13:22:30.156210Z",
     "iopub.status.idle": "2022-11-15T13:22:30.175218Z",
     "shell.execute_reply": "2022-11-15T13:22:30.173845Z"
    },
    "papermill": {
     "duration": 0.048987,
     "end_time": "2022-11-15T13:22:30.177530",
     "exception": false,
     "start_time": "2022-11-15T13:22:30.128543",
     "status": "completed"
    },
    "tags": []
   },
   "outputs": [
    {
     "data": {
      "text/html": [
       "<div>\n",
       "<style scoped>\n",
       "    .dataframe tbody tr th:only-of-type {\n",
       "        vertical-align: middle;\n",
       "    }\n",
       "\n",
       "    .dataframe tbody tr th {\n",
       "        vertical-align: top;\n",
       "    }\n",
       "\n",
       "    .dataframe thead th {\n",
       "        text-align: right;\n",
       "    }\n",
       "</style>\n",
       "<table border=\"1\" class=\"dataframe\">\n",
       "  <thead>\n",
       "    <tr style=\"text-align: right;\">\n",
       "      <th></th>\n",
       "      <th>PassengerId</th>\n",
       "      <th>Survived</th>\n",
       "    </tr>\n",
       "  </thead>\n",
       "  <tbody>\n",
       "    <tr>\n",
       "      <th>0</th>\n",
       "      <td>892</td>\n",
       "      <td>1</td>\n",
       "    </tr>\n",
       "    <tr>\n",
       "      <th>1</th>\n",
       "      <td>893</td>\n",
       "      <td>1</td>\n",
       "    </tr>\n",
       "    <tr>\n",
       "      <th>2</th>\n",
       "      <td>894</td>\n",
       "      <td>1</td>\n",
       "    </tr>\n",
       "    <tr>\n",
       "      <th>3</th>\n",
       "      <td>895</td>\n",
       "      <td>1</td>\n",
       "    </tr>\n",
       "    <tr>\n",
       "      <th>4</th>\n",
       "      <td>896</td>\n",
       "      <td>1</td>\n",
       "    </tr>\n",
       "    <tr>\n",
       "      <th>...</th>\n",
       "      <td>...</td>\n",
       "      <td>...</td>\n",
       "    </tr>\n",
       "    <tr>\n",
       "      <th>95</th>\n",
       "      <td>987</td>\n",
       "      <td>1</td>\n",
       "    </tr>\n",
       "    <tr>\n",
       "      <th>96</th>\n",
       "      <td>988</td>\n",
       "      <td>1</td>\n",
       "    </tr>\n",
       "    <tr>\n",
       "      <th>97</th>\n",
       "      <td>989</td>\n",
       "      <td>1</td>\n",
       "    </tr>\n",
       "    <tr>\n",
       "      <th>98</th>\n",
       "      <td>990</td>\n",
       "      <td>1</td>\n",
       "    </tr>\n",
       "    <tr>\n",
       "      <th>99</th>\n",
       "      <td>991</td>\n",
       "      <td>1</td>\n",
       "    </tr>\n",
       "  </tbody>\n",
       "</table>\n",
       "<p>100 rows × 2 columns</p>\n",
       "</div>"
      ],
      "text/plain": [
       "    PassengerId  Survived\n",
       "0           892         1\n",
       "1           893         1\n",
       "2           894         1\n",
       "3           895         1\n",
       "4           896         1\n",
       "..          ...       ...\n",
       "95          987         1\n",
       "96          988         1\n",
       "97          989         1\n",
       "98          990         1\n",
       "99          991         1\n",
       "\n",
       "[100 rows x 2 columns]"
      ]
     },
     "execution_count": 41,
     "metadata": {},
     "output_type": "execute_result"
    }
   ],
   "source": [
    "data = pd.read_csv(\"submission.csv\")\n",
    "data.head(100)"
   ]
  }
 ],
 "metadata": {
  "kernelspec": {
   "display_name": "Python 3",
   "language": "python",
   "name": "python3"
  },
  "language_info": {
   "codemirror_mode": {
    "name": "ipython",
    "version": 3
   },
   "file_extension": ".py",
   "mimetype": "text/x-python",
   "name": "python",
   "nbconvert_exporter": "python",
   "pygments_lexer": "ipython3",
   "version": "3.7.12"
  },
  "papermill": {
   "default_parameters": {},
   "duration": 32.3519,
   "end_time": "2022-11-15T13:22:32.595150",
   "environment_variables": {},
   "exception": null,
   "input_path": "__notebook__.ipynb",
   "output_path": "__notebook__.ipynb",
   "parameters": {},
   "start_time": "2022-11-15T13:22:00.243250",
   "version": "2.3.4"
  }
 },
 "nbformat": 4,
 "nbformat_minor": 5
}
